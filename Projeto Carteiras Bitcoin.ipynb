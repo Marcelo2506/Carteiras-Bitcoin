{
 "cells": [
  {
   "cell_type": "code",
   "execution_count": 0,
   "metadata": {
    "application/vnd.databricks.v1+cell": {
     "cellMetadata": {
      "byteLimit": 2048000,
      "rowLimit": 10000
     },
     "inputWidgets": {},
     "nuid": "b7db9861-66ac-48dc-9303-9edda3c5418f",
     "showTitle": false,
     "tableResultSettingsMap": {},
     "title": ""
    }
   },
   "outputs": [
    {
     "output_type": "stream",
     "name": "stdout",
     "output_type": "stream",
     "text": [
      "Requirement already satisfied: psycopg2-binary in /local_disk0/.ephemeral_nfs/envs/pythonEnv-33a858c2-389f-4b83-b1b9-142c6ca9b52d/lib/python3.9/site-packages (2.9.10)\r\n\u001B[33mWARNING: You are using pip version 21.2.4; however, version 25.0.1 is available.\r\nYou should consider upgrading via the '/local_disk0/.ephemeral_nfs/envs/pythonEnv-33a858c2-389f-4b83-b1b9-142c6ca9b52d/bin/python -m pip install --upgrade pip' command.\u001B[0m\r\nRequirement already satisfied: plotly in /databricks/python3/lib/python3.9/site-packages (5.6.0)\r\nRequirement already satisfied: six in /databricks/python3/lib/python3.9/site-packages (from plotly) (1.16.0)\r\nRequirement already satisfied: tenacity>=6.2.0 in /databricks/python3/lib/python3.9/site-packages (from plotly) (8.0.1)\r\n\u001B[33mWARNING: You are using pip version 21.2.4; however, version 25.0.1 is available.\r\nYou should consider upgrading via the '/local_disk0/.ephemeral_nfs/envs/pythonEnv-33a858c2-389f-4b83-b1b9-142c6ca9b52d/bin/python -m pip install --upgrade pip' command.\u001B[0m\r\n"
     ]
    }
   ],
   "source": [
    "!pip install psycopg2-binary\n",
    "!pip install plotly"
   ]
  },
  {
   "cell_type": "code",
   "execution_count": 0,
   "metadata": {
    "application/vnd.databricks.v1+cell": {
     "cellMetadata": {
      "byteLimit": 2048000,
      "rowLimit": 10000
     },
     "inputWidgets": {},
     "nuid": "dc1c8391-a3fc-4d6e-95a0-4e9f9765927f",
     "showTitle": false,
     "tableResultSettingsMap": {},
     "title": ""
    }
   },
   "outputs": [
    {
     "output_type": "display_data",
     "data": {
      "application/vnd.databricks.v1+bamboolib_hint": "{\"pd.DataFrames\": [], \"version\": \"0.0.1\"}",
      "text/plain": []
     },
     "metadata": {},
     "output_type": "display_data"
    }
   ],
   "source": [
    "import plotly.express as px\n",
    "import pandas as pd\n",
    "import requests"
   ]
  },
  {
   "cell_type": "markdown",
   "metadata": {
    "application/vnd.databricks.v1+cell": {
     "cellMetadata": {
      "byteLimit": 2048000,
      "rowLimit": 10000
     },
     "inputWidgets": {},
     "nuid": "8f8714b0-e851-4ac4-91cc-593acf584b29",
     "showTitle": false,
     "tableResultSettingsMap": {},
     "title": ""
    }
   },
   "source": [
    "\n",
    "//em caso de conectar com db\n",
    "\n",
    "import pandas as pd\n",
    "import psycopg2\n",
    "\n",
    "conn = psycopg2.connect(\n",
    "    dbname=\"transacoes_btc\",\n",
    "    user=\"projeto_transacoes\",\n",
    "    password=\"dwAKSATUe79IcAjf5MfoZGdI9s9xzUCo\",\n",
    "    host=\"dpg-cv91djhu0jms73eeb9mg-a\",\n",
    "    port=\"5432\"\n",
    ")\n",
    "\n",
    "query = \"\"\"\n",
    "    SELECT *\n",
    "    FROM transacoes_cliente\n",
    "    \"\"\"\n",
    "\n",
    "df = pd.read_sql(query, conn)\n",
    "\n",
    "display(df)\n"
   ]
  },
  {
   "cell_type": "markdown",
   "metadata": {
    "application/vnd.databricks.v1+cell": {
     "cellMetadata": {
      "byteLimit": 2048000,
      "rowLimit": 10000
     },
     "inputWidgets": {},
     "nuid": "dff29a23-f9db-4edd-8d74-c7bfdf438e58",
     "showTitle": false,
     "tableResultSettingsMap": {},
     "title": ""
    }
   },
   "source": [
    "# Criando um DataFrame"
   ]
  },
  {
   "cell_type": "code",
   "execution_count": 0,
   "metadata": {
    "application/vnd.databricks.v1+cell": {
     "cellMetadata": {
      "byteLimit": 2048000,
      "rowLimit": 10000
     },
     "inputWidgets": {},
     "nuid": "f197bd0c-d2e3-40ec-b9ec-f4b75daa06b9",
     "showTitle": false,
     "tableResultSettingsMap": {},
     "title": ""
    }
   },
   "outputs": [],
   "source": [
    "#Passando de Spark para Pandas por causa do Databricks\n",
    "df_spark = spark.read.table(\"transacoes_cliente\")\n",
    "df = df_spark.toPandas()"
   ]
  },
  {
   "cell_type": "code",
   "execution_count": 0,
   "metadata": {
    "application/vnd.databricks.v1+cell": {
     "cellMetadata": {
      "byteLimit": 2048000,
      "rowLimit": 10000
     },
     "inputWidgets": {},
     "nuid": "1b5ea7fd-7a54-477a-a60b-94ae2db9e1e3",
     "showTitle": false,
     "tableResultSettingsMap": {},
     "title": ""
    }
   },
   "outputs": [
    {
     "output_type": "display_data",
     "data": {
      "text/html": [
       "<div>\n",
       "<style scoped>\n",
       "    .dataframe tbody tr th:only-of-type {\n",
       "        vertical-align: middle;\n",
       "    }\n",
       "\n",
       "    .dataframe tbody tr th {\n",
       "        vertical-align: top;\n",
       "    }\n",
       "\n",
       "    .dataframe thead th {\n",
       "        text-align: right;\n",
       "    }\n",
       "</style>\n",
       "<table border=\"1\" class=\"dataframe\">\n",
       "  <thead>\n",
       "    <tr style=\"text-align: right;\">\n",
       "      <th></th>\n",
       "      <th>cliente</th>\n",
       "      <th>data_compra</th>\n",
       "      <th>preco_btc</th>\n",
       "      <th>quantidade_btc</th>\n",
       "    </tr>\n",
       "  </thead>\n",
       "  <tbody>\n",
       "    <tr>\n",
       "      <th>0</th>\n",
       "      <td>Sherry Decker</td>\n",
       "      <td>2025-01-26</td>\n",
       "      <td>526338.91</td>\n",
       "      <td>0.75138</td>\n",
       "    </tr>\n",
       "    <tr>\n",
       "      <th>1</th>\n",
       "      <td>Gerald Hensley</td>\n",
       "      <td>2024-12-09</td>\n",
       "      <td>663110.30</td>\n",
       "      <td>0.34418</td>\n",
       "    </tr>\n",
       "    <tr>\n",
       "      <th>2</th>\n",
       "      <td>Timothy Duncan</td>\n",
       "      <td>2024-09-26</td>\n",
       "      <td>620115.11</td>\n",
       "      <td>0.46826</td>\n",
       "    </tr>\n",
       "    <tr>\n",
       "      <th>3</th>\n",
       "      <td>Matthew Foster</td>\n",
       "      <td>2024-09-19</td>\n",
       "      <td>655694.97</td>\n",
       "      <td>1.02724</td>\n",
       "    </tr>\n",
       "    <tr>\n",
       "      <th>4</th>\n",
       "      <td>Jeffrey Chavez</td>\n",
       "      <td>2024-08-19</td>\n",
       "      <td>642216.00</td>\n",
       "      <td>0.09623</td>\n",
       "    </tr>\n",
       "  </tbody>\n",
       "</table>\n",
       "</div>"
      ]
     },
     "metadata": {
      "application/vnd.databricks.v1+output": {
       "addedWidgets": {},
       "arguments": {},
       "data": "<div>\n<style scoped>\n    .dataframe tbody tr th:only-of-type {\n        vertical-align: middle;\n    }\n\n    .dataframe tbody tr th {\n        vertical-align: top;\n    }\n\n    .dataframe thead th {\n        text-align: right;\n    }\n</style>\n<table border=\"1\" class=\"dataframe\">\n  <thead>\n    <tr style=\"text-align: right;\">\n      <th></th>\n      <th>cliente</th>\n      <th>data_compra</th>\n      <th>preco_btc</th>\n      <th>quantidade_btc</th>\n    </tr>\n  </thead>\n  <tbody>\n    <tr>\n      <th>0</th>\n      <td>Sherry Decker</td>\n      <td>2025-01-26</td>\n      <td>526338.91</td>\n      <td>0.75138</td>\n    </tr>\n    <tr>\n      <th>1</th>\n      <td>Gerald Hensley</td>\n      <td>2024-12-09</td>\n      <td>663110.30</td>\n      <td>0.34418</td>\n    </tr>\n    <tr>\n      <th>2</th>\n      <td>Timothy Duncan</td>\n      <td>2024-09-26</td>\n      <td>620115.11</td>\n      <td>0.46826</td>\n    </tr>\n    <tr>\n      <th>3</th>\n      <td>Matthew Foster</td>\n      <td>2024-09-19</td>\n      <td>655694.97</td>\n      <td>1.02724</td>\n    </tr>\n    <tr>\n      <th>4</th>\n      <td>Jeffrey Chavez</td>\n      <td>2024-08-19</td>\n      <td>642216.00</td>\n      <td>0.09623</td>\n    </tr>\n  </tbody>\n</table>\n</div>",
       "datasetInfos": [],
       "metadata": {},
       "removedWidgets": [],
       "textData": null,
       "type": "htmlSandbox"
      }
     },
     "output_type": "display_data"
    }
   ],
   "source": [
    "df.head()"
   ]
  },
  {
   "cell_type": "markdown",
   "metadata": {
    "application/vnd.databricks.v1+cell": {
     "cellMetadata": {
      "byteLimit": 2048000,
      "rowLimit": 10000
     },
     "inputWidgets": {},
     "nuid": "4d221305-a205-4fb4-9979-eadbe05972cc",
     "showTitle": false,
     "tableResultSettingsMap": {},
     "title": ""
    }
   },
   "source": [
    "# ETL"
   ]
  },
  {
   "cell_type": "code",
   "execution_count": 0,
   "metadata": {
    "application/vnd.databricks.v1+cell": {
     "cellMetadata": {
      "byteLimit": 2048000,
      "rowLimit": 10000
     },
     "inputWidgets": {},
     "nuid": "1ae65241-1d8d-4feb-82ad-0baaec7b41a1",
     "showTitle": false,
     "tableResultSettingsMap": {},
     "title": ""
    }
   },
   "outputs": [],
   "source": [
    "#Criando uma nova Coluna\n",
    "df['Total_Compra'] = (df['quantidade_btc'] * df['preco_btc']).round(2)"
   ]
  },
  {
   "cell_type": "code",
   "execution_count": 0,
   "metadata": {
    "application/vnd.databricks.v1+cell": {
     "cellMetadata": {
      "byteLimit": 2048000,
      "rowLimit": 10000
     },
     "inputWidgets": {},
     "nuid": "0555b0f6-5d63-42c3-92fa-cafa77d5f2c7",
     "showTitle": false,
     "tableResultSettingsMap": {},
     "title": ""
    }
   },
   "outputs": [
    {
     "output_type": "display_data",
     "data": {
      "text/html": [
       "<style scoped>\n",
       "  .table-result-container {\n",
       "    max-height: 300px;\n",
       "    overflow: auto;\n",
       "  }\n",
       "  table, th, td {\n",
       "    border: 1px solid black;\n",
       "    border-collapse: collapse;\n",
       "  }\n",
       "  th, td {\n",
       "    padding: 5px;\n",
       "  }\n",
       "  th {\n",
       "    text-align: left;\n",
       "  }\n",
       "</style><div class='table-result-container'><table class='table-result'><thead style='background-color: white'><tr><th>cliente</th><th>data_compra</th><th>preco_btc</th><th>quantidade_btc</th><th>Total_Compra</th></tr></thead><tbody><tr><td>Sherry Decker</td><td>2025-01-26T00:00:00.000+0000</td><td>526338.91</td><td>0.75138</td><td>395480.53</td></tr><tr><td>Gerald Hensley</td><td>2024-12-09T00:00:00.000+0000</td><td>663110.3</td><td>0.34418</td><td>228229.3</td></tr><tr><td>Timothy Duncan</td><td>2024-09-26T00:00:00.000+0000</td><td>620115.11</td><td>0.46826</td><td>290375.1</td></tr><tr><td>Matthew Foster</td><td>2024-09-19T00:00:00.000+0000</td><td>655694.97</td><td>1.02724</td><td>673556.1</td></tr><tr><td>Jeffrey Chavez</td><td>2024-08-19T00:00:00.000+0000</td><td>642216.0</td><td>0.09623</td><td>61800.45</td></tr><tr><td>Angie Henderson</td><td>2024-08-03T00:00:00.000+0000</td><td>674066.77</td><td>0.8185</td><td>551723.65</td></tr><tr><td>William Baker</td><td>2024-07-21T00:00:00.000+0000</td><td>665345.55</td><td>0.96962</td><td>645132.35</td></tr><tr><td>Richard Aguirre</td><td>2024-07-14T00:00:00.000+0000</td><td>664987.81</td><td>0.65771</td><td>437369.13</td></tr><tr><td>Margaret Hawkins DDS</td><td>2024-07-08T00:00:00.000+0000</td><td>626697.78</td><td>1.40505</td><td>880541.72</td></tr><tr><td>Holly Wood</td><td>2024-06-01T00:00:00.000+0000</td><td>622789.83</td><td>0.43479</td><td>270782.79</td></tr><tr><td>Zachary Hicks</td><td>2024-05-08T00:00:00.000+0000</td><td>649923.13</td><td>1.32714</td><td>862538.98</td></tr><tr><td>Patty Perez</td><td>2024-04-08T00:00:00.000+0000</td><td>607140.25</td><td>0.95283</td><td>578501.44</td></tr><tr><td>Anthony Rodriguez</td><td>2024-03-18T00:00:00.000+0000</td><td>645885.19</td><td>0.39806</td><td>257101.06</td></tr><tr><td>Allison Hill</td><td>2024-03-04T00:00:00.000+0000</td><td>611133.11</td><td>1.11258</td><td>679934.48</td></tr><tr><td>Dylan Miller</td><td>2024-01-19T00:00:00.000+0000</td><td>661851.98</td><td>1.2927</td><td>855576.05</td></tr><tr><td>Angelica Tucker</td><td>2024-01-06T00:00:00.000+0000</td><td>629844.48</td><td>0.95879</td><td>603888.59</td></tr><tr><td>Brian Rodriguez</td><td>2023-12-12T00:00:00.000+0000</td><td>206234.69</td><td>0.9864</td><td>203429.9</td></tr><tr><td>Philip Cannon</td><td>2023-10-31T00:00:00.000+0000</td><td>243651.55</td><td>0.5615</td><td>136810.35</td></tr><tr><td>Daniel Wagner</td><td>2023-08-16T00:00:00.000+0000</td><td>315014.98</td><td>0.04567</td><td>14386.73</td></tr><tr><td>James Ferrell</td><td>2023-07-23T00:00:00.000+0000</td><td>317098.82</td><td>0.87572</td><td>277689.78</td></tr><tr><td>Zachary Ferrell</td><td>2023-07-01T00:00:00.000+0000</td><td>415435.9</td><td>0.09238</td><td>38377.97</td></tr><tr><td>Brian Ramirez</td><td>2023-06-23T00:00:00.000+0000</td><td>241532.35</td><td>0.10526</td><td>25423.7</td></tr><tr><td>Amber Kidd</td><td>2023-05-28T00:00:00.000+0000</td><td>364387.73</td><td>0.36525</td><td>133092.62</td></tr><tr><td>Matthew Mcmillan</td><td>2023-05-23T00:00:00.000+0000</td><td>258788.91</td><td>0.89218</td><td>230886.29</td></tr><tr><td>Stephanie Ross</td><td>2023-05-13T00:00:00.000+0000</td><td>460437.64</td><td>0.4727</td><td>217648.87</td></tr><tr><td>Jessica Holmes</td><td>2023-05-13T00:00:00.000+0000</td><td>483023.82</td><td>0.12939</td><td>62498.45</td></tr><tr><td>Denise Jacobs</td><td>2023-05-05T00:00:00.000+0000</td><td>347290.47</td><td>1.40212</td><td>486942.91</td></tr><tr><td>Deborah Figueroa</td><td>2023-04-26T00:00:00.000+0000</td><td>498750.86</td><td>0.11082</td><td>55271.57</td></tr><tr><td>Connie Lawrence</td><td>2023-04-18T00:00:00.000+0000</td><td>243628.05</td><td>0.97518</td><td>237581.2</td></tr><tr><td>Michael Evans</td><td>2023-03-27T00:00:00.000+0000</td><td>391798.82</td><td>0.73052</td><td>286216.87</td></tr><tr><td>Abigail Shaffer</td><td>2023-02-11T00:00:00.000+0000</td><td>314246.34</td><td>0.67436</td><td>211915.16</td></tr><tr><td>Jessica Callahan</td><td>2023-01-18T00:00:00.000+0000</td><td>222339.79</td><td>1.40334</td><td>312018.32</td></tr><tr><td>Brittany Farmer</td><td>2023-01-09T00:00:00.000+0000</td><td>420280.9</td><td>1.15313</td><td>484638.51</td></tr><tr><td>Ethan Adams</td><td>2022-12-28T00:00:00.000+0000</td><td>353320.58</td><td>0.24594</td><td>86895.66</td></tr><tr><td>Crystal Robinson</td><td>2022-12-22T00:00:00.000+0000</td><td>365067.02</td><td>0.19346</td><td>70625.87</td></tr><tr><td>Shane Henderson</td><td>2022-12-13T00:00:00.000+0000</td><td>413917.92</td><td>0.89882</td><td>372037.7</td></tr><tr><td>Shannon Jones</td><td>2022-12-02T00:00:00.000+0000</td><td>399178.57</td><td>0.63528</td><td>253590.16</td></tr><tr><td>Brent Jordan</td><td>2022-10-21T00:00:00.000+0000</td><td>264475.57</td><td>0.37261</td><td>98546.24</td></tr><tr><td>Nathan Maldonado</td><td>2022-09-19T00:00:00.000+0000</td><td>277925.07</td><td>1.13392</td><td>315144.8</td></tr><tr><td>Shirley Suarez</td><td>2022-08-22T00:00:00.000+0000</td><td>414203.88</td><td>0.79716</td><td>330186.76</td></tr><tr><td>Joshua Blair</td><td>2022-06-25T00:00:00.000+0000</td><td>126232.56</td><td>1.39372</td><td>175932.84</td></tr><tr><td>Danny Morgan</td><td>2022-06-14T00:00:00.000+0000</td><td>381127.44</td><td>1.467</td><td>559113.95</td></tr><tr><td>Mark Perez</td><td>2022-05-01T00:00:00.000+0000</td><td>422991.58</td><td>0.24853</td><td>105126.1</td></tr><tr><td>Tracy House</td><td>2022-04-22T00:00:00.000+0000</td><td>378399.04</td><td>0.28642</td><td>108381.05</td></tr><tr><td>Lauren Daniels</td><td>2022-03-10T00:00:00.000+0000</td><td>199938.06</td><td>1.38498</td><td>276910.21</td></tr><tr><td>Lisa Hensley</td><td>2022-02-25T00:00:00.000+0000</td><td>291592.99</td><td>1.4597</td><td>425638.29</td></tr><tr><td>Fred Smith</td><td>2022-02-02T00:00:00.000+0000</td><td>121038.5</td><td>1.08342</td><td>131135.53</td></tr><tr><td>Brittney Phillips</td><td>2022-01-12T00:00:00.000+0000</td><td>164858.34</td><td>0.27605</td><td>45509.14</td></tr><tr><td>Amy Silva</td><td>2021-12-21T00:00:00.000+0000</td><td>577134.24</td><td>1.28409</td><td>741092.31</td></tr><tr><td>James Brown</td><td>2021-08-11T00:00:00.000+0000</td><td>358895.79</td><td>1.09388</td><td>392588.93</td></tr><tr><td>Sherri Baker</td><td>2021-04-13T00:00:00.000+0000</td><td>441368.59</td><td>0.70261</td><td>310109.99</td></tr><tr><td>Lisa Jackson</td><td>2021-04-06T00:00:00.000+0000</td><td>237903.11</td><td>0.95389</td><td>226933.4</td></tr><tr><td>Tommy Walter</td><td>2021-04-04T00:00:00.000+0000</td><td>232766.61</td><td>1.38816</td><td>323117.3</td></tr><tr><td>Michele Williams</td><td>2021-03-31T00:00:00.000+0000</td><td>110432.13</td><td>0.44047</td><td>48642.04</td></tr><tr><td>Carla Gray</td><td>2021-02-03T00:00:00.000+0000</td><td>164098.62</td><td>0.53355</td><td>87554.82</td></tr><tr><td>Tricia Valencia</td><td>2021-01-22T00:00:00.000+0000</td><td>200365.29</td><td>1.49631</td><td>299808.59</td></tr><tr><td>Stephen Mckee</td><td>2020-11-30T00:00:00.000+0000</td><td>111660.49</td><td>1.31903</td><td>147283.54</td></tr><tr><td>Jamie Arnold</td><td>2020-11-09T00:00:00.000+0000</td><td>92260.82</td><td>1.21089</td><td>111717.7</td></tr><tr><td>Paula Moreno</td><td>2020-10-25T00:00:00.000+0000</td><td>57808.65</td><td>0.65271</td><td>37732.28</td></tr><tr><td>Justin Baker</td><td>2020-07-16T00:00:00.000+0000</td><td>78081.54</td><td>0.10022</td><td>7825.33</td></tr><tr><td>Daniel Baker</td><td>2020-07-08T00:00:00.000+0000</td><td>54001.57</td><td>0.87668</td><td>47342.1</td></tr><tr><td>Eric Carney</td><td>2020-06-13T00:00:00.000+0000</td><td>66761.66</td><td>0.36207</td><td>24172.39</td></tr><tr><td>Anna Henderson</td><td>2020-05-13T00:00:00.000+0000</td><td>82005.72</td><td>1.3936</td><td>114283.17</td></tr><tr><td>Mike Allen</td><td>2020-03-14T00:00:00.000+0000</td><td>79610.52</td><td>1.43602</td><td>114322.3</td></tr><tr><td>Gina Moore</td><td>2020-02-14T00:00:00.000+0000</td><td>106660.13</td><td>0.01074</td><td>1145.53</td></tr><tr><td>John Whitehead</td><td>2019-12-24T00:00:00.000+0000</td><td>47705.01</td><td>1.00786</td><td>48079.97</td></tr><tr><td>Kelly Donovan</td><td>2019-12-23T00:00:00.000+0000</td><td>84856.27</td><td>1.17791</td><td>99953.05</td></tr><tr><td>Cassandra Gaines</td><td>2019-10-27T00:00:00.000+0000</td><td>87975.49</td><td>1.29131</td><td>113603.63</td></tr><tr><td>Rebecca Henderson</td><td>2019-10-08T00:00:00.000+0000</td><td>72149.23</td><td>0.80893</td><td>58363.68</td></tr><tr><td>Noah Rhodes</td><td>2019-10-01T00:00:00.000+0000</td><td>35624.75</td><td>1.10497</td><td>39364.28</td></tr><tr><td>Donald Wright</td><td>2019-09-02T00:00:00.000+0000</td><td>39493.41</td><td>0.72864</td><td>28776.48</td></tr><tr><td>Megan Young</td><td>2019-08-27T00:00:00.000+0000</td><td>31641.78</td><td>0.72898</td><td>23066.22</td></tr><tr><td>Aimee Montoya</td><td>2019-08-22T00:00:00.000+0000</td><td>48264.29</td><td>1.41245</td><td>68170.9</td></tr><tr><td>Victoria Garcia</td><td>2019-08-01T00:00:00.000+0000</td><td>61190.81</td><td>0.01178</td><td>720.83</td></tr><tr><td>Cristian Santos</td><td>2019-06-15T00:00:00.000+0000</td><td>36286.26</td><td>0.90343</td><td>32782.1</td></tr><tr><td>Steve Sanchez</td><td>2019-05-26T00:00:00.000+0000</td><td>80525.53</td><td>1.35376</td><td>109012.24</td></tr><tr><td>Jessica Smith</td><td>2019-05-24T00:00:00.000+0000</td><td>55411.93</td><td>0.19955</td><td>11057.45</td></tr><tr><td>Michael Lewis</td><td>2019-05-18T00:00:00.000+0000</td><td>85023.94</td><td>1.13314</td><td>96344.03</td></tr><tr><td>Christina Walters</td><td>2019-04-17T00:00:00.000+0000</td><td>66880.82</td><td>0.47196</td><td>31565.07</td></tr><tr><td>Paul Jones</td><td>2019-02-17T00:00:00.000+0000</td><td>40769.55</td><td>1.4531</td><td>59242.23</td></tr><tr><td>Lisa Archer</td><td>2019-02-01T00:00:00.000+0000</td><td>24796.49</td><td>0.10287</td><td>2550.81</td></tr><tr><td>Anthony Humphrey</td><td>2019-01-02T00:00:00.000+0000</td><td>55537.72</td><td>0.16051</td><td>8914.36</td></tr><tr><td>Lisa Barnes</td><td>2018-11-06T00:00:00.000+0000</td><td>56591.69</td><td>1.47798</td><td>83641.39</td></tr><tr><td>John Pierce</td><td>2018-10-24T00:00:00.000+0000</td><td>70386.6</td><td>1.16816</td><td>82222.81</td></tr><tr><td>Gabrielle Davis</td><td>2018-10-16T00:00:00.000+0000</td><td>84039.99</td><td>0.51104</td><td>42947.8</td></tr><tr><td>Ryan Munoz</td><td>2018-09-29T00:00:00.000+0000</td><td>42516.98</td><td>1.14548</td><td>48702.35</td></tr><tr><td>Debra Davidson</td><td>2018-03-26T00:00:00.000+0000</td><td>37144.35</td><td>0.24081</td><td>8944.73</td></tr><tr><td>Whitney Peters</td><td>2018-03-24T00:00:00.000+0000</td><td>45384.44</td><td>0.28612</td><td>12985.4</td></tr><tr><td>Monica Herrera</td><td>2018-02-23T00:00:00.000+0000</td><td>31976.14</td><td>0.14598</td><td>4667.88</td></tr><tr><td>Sarah Moore</td><td>2018-02-06T00:00:00.000+0000</td><td>28350.6</td><td>1.49892</td><td>42495.28</td></tr><tr><td>Carol Tucker</td><td>2018-02-02T00:00:00.000+0000</td><td>80672.52</td><td>0.53209</td><td>42925.04</td></tr><tr><td>Derek Zuniga</td><td>2017-11-23T00:00:00.000+0000</td><td>112059.4</td><td>1.29986</td><td>145661.53</td></tr><tr><td>Aaron Wise</td><td>2017-10-25T00:00:00.000+0000</td><td>7155.12</td><td>0.93212</td><td>6669.43</td></tr><tr><td>John Daniel</td><td>2017-09-20T00:00:00.000+0000</td><td>47922.61</td><td>0.88287</td><td>42309.43</td></tr><tr><td>Jordan Henderson</td><td>2017-09-06T00:00:00.000+0000</td><td>55925.04</td><td>0.50961</td><td>28499.96</td></tr><tr><td>Christopher Bass</td><td>2017-08-21T00:00:00.000+0000</td><td>125136.58</td><td>0.12109</td><td>15152.79</td></tr><tr><td>Judy Baker</td><td>2017-08-18T00:00:00.000+0000</td><td>34401.96</td><td>0.04912</td><td>1689.82</td></tr><tr><td>Connor West</td><td>2017-05-09T00:00:00.000+0000</td><td>112594.79</td><td>0.10722</td><td>12072.41</td></tr><tr><td>Angela Lopez</td><td>2017-03-02T00:00:00.000+0000</td><td>126155.54</td><td>1.38962</td><td>175308.26</td></tr><tr><td>Elizabeth Fowler</td><td>2017-02-17T00:00:00.000+0000</td><td>90355.14</td><td>0.17271</td><td>15605.24</td></tr></tbody></table></div>"
      ]
     },
     "metadata": {
      "application/vnd.databricks.v1+output": {
       "addedWidgets": {},
       "aggData": [],
       "aggError": "",
       "aggOverflow": false,
       "aggSchema": [],
       "aggSeriesLimitReached": false,
       "aggType": "",
       "arguments": {},
       "columnCustomDisplayInfos": {},
       "data": [
        [
         "Sherry Decker",
         "2025-01-26T00:00:00.000+0000",
         526338.91,
         0.75138,
         395480.53
        ],
        [
         "Gerald Hensley",
         "2024-12-09T00:00:00.000+0000",
         663110.3,
         0.34418,
         228229.3
        ],
        [
         "Timothy Duncan",
         "2024-09-26T00:00:00.000+0000",
         620115.11,
         0.46826,
         290375.1
        ],
        [
         "Matthew Foster",
         "2024-09-19T00:00:00.000+0000",
         655694.97,
         1.02724,
         673556.1
        ],
        [
         "Jeffrey Chavez",
         "2024-08-19T00:00:00.000+0000",
         642216.0,
         0.09623,
         61800.45
        ],
        [
         "Angie Henderson",
         "2024-08-03T00:00:00.000+0000",
         674066.77,
         0.8185,
         551723.65
        ],
        [
         "William Baker",
         "2024-07-21T00:00:00.000+0000",
         665345.55,
         0.96962,
         645132.35
        ],
        [
         "Richard Aguirre",
         "2024-07-14T00:00:00.000+0000",
         664987.81,
         0.65771,
         437369.13
        ],
        [
         "Margaret Hawkins DDS",
         "2024-07-08T00:00:00.000+0000",
         626697.78,
         1.40505,
         880541.72
        ],
        [
         "Holly Wood",
         "2024-06-01T00:00:00.000+0000",
         622789.83,
         0.43479,
         270782.79
        ],
        [
         "Zachary Hicks",
         "2024-05-08T00:00:00.000+0000",
         649923.13,
         1.32714,
         862538.98
        ],
        [
         "Patty Perez",
         "2024-04-08T00:00:00.000+0000",
         607140.25,
         0.95283,
         578501.44
        ],
        [
         "Anthony Rodriguez",
         "2024-03-18T00:00:00.000+0000",
         645885.19,
         0.39806,
         257101.06
        ],
        [
         "Allison Hill",
         "2024-03-04T00:00:00.000+0000",
         611133.11,
         1.11258,
         679934.48
        ],
        [
         "Dylan Miller",
         "2024-01-19T00:00:00.000+0000",
         661851.98,
         1.2927,
         855576.05
        ],
        [
         "Angelica Tucker",
         "2024-01-06T00:00:00.000+0000",
         629844.48,
         0.95879,
         603888.59
        ],
        [
         "Brian Rodriguez",
         "2023-12-12T00:00:00.000+0000",
         206234.69,
         0.9864,
         203429.9
        ],
        [
         "Philip Cannon",
         "2023-10-31T00:00:00.000+0000",
         243651.55,
         0.5615,
         136810.35
        ],
        [
         "Daniel Wagner",
         "2023-08-16T00:00:00.000+0000",
         315014.98,
         0.04567,
         14386.73
        ],
        [
         "James Ferrell",
         "2023-07-23T00:00:00.000+0000",
         317098.82,
         0.87572,
         277689.78
        ],
        [
         "Zachary Ferrell",
         "2023-07-01T00:00:00.000+0000",
         415435.9,
         0.09238,
         38377.97
        ],
        [
         "Brian Ramirez",
         "2023-06-23T00:00:00.000+0000",
         241532.35,
         0.10526,
         25423.7
        ],
        [
         "Amber Kidd",
         "2023-05-28T00:00:00.000+0000",
         364387.73,
         0.36525,
         133092.62
        ],
        [
         "Matthew Mcmillan",
         "2023-05-23T00:00:00.000+0000",
         258788.91,
         0.89218,
         230886.29
        ],
        [
         "Stephanie Ross",
         "2023-05-13T00:00:00.000+0000",
         460437.64,
         0.4727,
         217648.87
        ],
        [
         "Jessica Holmes",
         "2023-05-13T00:00:00.000+0000",
         483023.82,
         0.12939,
         62498.45
        ],
        [
         "Denise Jacobs",
         "2023-05-05T00:00:00.000+0000",
         347290.47,
         1.40212,
         486942.91
        ],
        [
         "Deborah Figueroa",
         "2023-04-26T00:00:00.000+0000",
         498750.86,
         0.11082,
         55271.57
        ],
        [
         "Connie Lawrence",
         "2023-04-18T00:00:00.000+0000",
         243628.05,
         0.97518,
         237581.2
        ],
        [
         "Michael Evans",
         "2023-03-27T00:00:00.000+0000",
         391798.82,
         0.73052,
         286216.87
        ],
        [
         "Abigail Shaffer",
         "2023-02-11T00:00:00.000+0000",
         314246.34,
         0.67436,
         211915.16
        ],
        [
         "Jessica Callahan",
         "2023-01-18T00:00:00.000+0000",
         222339.79,
         1.40334,
         312018.32
        ],
        [
         "Brittany Farmer",
         "2023-01-09T00:00:00.000+0000",
         420280.9,
         1.15313,
         484638.51
        ],
        [
         "Ethan Adams",
         "2022-12-28T00:00:00.000+0000",
         353320.58,
         0.24594,
         86895.66
        ],
        [
         "Crystal Robinson",
         "2022-12-22T00:00:00.000+0000",
         365067.02,
         0.19346,
         70625.87
        ],
        [
         "Shane Henderson",
         "2022-12-13T00:00:00.000+0000",
         413917.92,
         0.89882,
         372037.7
        ],
        [
         "Shannon Jones",
         "2022-12-02T00:00:00.000+0000",
         399178.57,
         0.63528,
         253590.16
        ],
        [
         "Brent Jordan",
         "2022-10-21T00:00:00.000+0000",
         264475.57,
         0.37261,
         98546.24
        ],
        [
         "Nathan Maldonado",
         "2022-09-19T00:00:00.000+0000",
         277925.07,
         1.13392,
         315144.8
        ],
        [
         "Shirley Suarez",
         "2022-08-22T00:00:00.000+0000",
         414203.88,
         0.79716,
         330186.76
        ],
        [
         "Joshua Blair",
         "2022-06-25T00:00:00.000+0000",
         126232.56,
         1.39372,
         175932.84
        ],
        [
         "Danny Morgan",
         "2022-06-14T00:00:00.000+0000",
         381127.44,
         1.467,
         559113.95
        ],
        [
         "Mark Perez",
         "2022-05-01T00:00:00.000+0000",
         422991.58,
         0.24853,
         105126.1
        ],
        [
         "Tracy House",
         "2022-04-22T00:00:00.000+0000",
         378399.04,
         0.28642,
         108381.05
        ],
        [
         "Lauren Daniels",
         "2022-03-10T00:00:00.000+0000",
         199938.06,
         1.38498,
         276910.21
        ],
        [
         "Lisa Hensley",
         "2022-02-25T00:00:00.000+0000",
         291592.99,
         1.4597,
         425638.29
        ],
        [
         "Fred Smith",
         "2022-02-02T00:00:00.000+0000",
         121038.5,
         1.08342,
         131135.53
        ],
        [
         "Brittney Phillips",
         "2022-01-12T00:00:00.000+0000",
         164858.34,
         0.27605,
         45509.14
        ],
        [
         "Amy Silva",
         "2021-12-21T00:00:00.000+0000",
         577134.24,
         1.28409,
         741092.31
        ],
        [
         "James Brown",
         "2021-08-11T00:00:00.000+0000",
         358895.79,
         1.09388,
         392588.93
        ],
        [
         "Sherri Baker",
         "2021-04-13T00:00:00.000+0000",
         441368.59,
         0.70261,
         310109.99
        ],
        [
         "Lisa Jackson",
         "2021-04-06T00:00:00.000+0000",
         237903.11,
         0.95389,
         226933.4
        ],
        [
         "Tommy Walter",
         "2021-04-04T00:00:00.000+0000",
         232766.61,
         1.38816,
         323117.3
        ],
        [
         "Michele Williams",
         "2021-03-31T00:00:00.000+0000",
         110432.13,
         0.44047,
         48642.04
        ],
        [
         "Carla Gray",
         "2021-02-03T00:00:00.000+0000",
         164098.62,
         0.53355,
         87554.82
        ],
        [
         "Tricia Valencia",
         "2021-01-22T00:00:00.000+0000",
         200365.29,
         1.49631,
         299808.59
        ],
        [
         "Stephen Mckee",
         "2020-11-30T00:00:00.000+0000",
         111660.49,
         1.31903,
         147283.54
        ],
        [
         "Jamie Arnold",
         "2020-11-09T00:00:00.000+0000",
         92260.82,
         1.21089,
         111717.7
        ],
        [
         "Paula Moreno",
         "2020-10-25T00:00:00.000+0000",
         57808.65,
         0.65271,
         37732.28
        ],
        [
         "Justin Baker",
         "2020-07-16T00:00:00.000+0000",
         78081.54,
         0.10022,
         7825.33
        ],
        [
         "Daniel Baker",
         "2020-07-08T00:00:00.000+0000",
         54001.57,
         0.87668,
         47342.1
        ],
        [
         "Eric Carney",
         "2020-06-13T00:00:00.000+0000",
         66761.66,
         0.36207,
         24172.39
        ],
        [
         "Anna Henderson",
         "2020-05-13T00:00:00.000+0000",
         82005.72,
         1.3936,
         114283.17
        ],
        [
         "Mike Allen",
         "2020-03-14T00:00:00.000+0000",
         79610.52,
         1.43602,
         114322.3
        ],
        [
         "Gina Moore",
         "2020-02-14T00:00:00.000+0000",
         106660.13,
         0.01074,
         1145.53
        ],
        [
         "John Whitehead",
         "2019-12-24T00:00:00.000+0000",
         47705.01,
         1.00786,
         48079.97
        ],
        [
         "Kelly Donovan",
         "2019-12-23T00:00:00.000+0000",
         84856.27,
         1.17791,
         99953.05
        ],
        [
         "Cassandra Gaines",
         "2019-10-27T00:00:00.000+0000",
         87975.49,
         1.29131,
         113603.63
        ],
        [
         "Rebecca Henderson",
         "2019-10-08T00:00:00.000+0000",
         72149.23,
         0.80893,
         58363.68
        ],
        [
         "Noah Rhodes",
         "2019-10-01T00:00:00.000+0000",
         35624.75,
         1.10497,
         39364.28
        ],
        [
         "Donald Wright",
         "2019-09-02T00:00:00.000+0000",
         39493.41,
         0.72864,
         28776.48
        ],
        [
         "Megan Young",
         "2019-08-27T00:00:00.000+0000",
         31641.78,
         0.72898,
         23066.22
        ],
        [
         "Aimee Montoya",
         "2019-08-22T00:00:00.000+0000",
         48264.29,
         1.41245,
         68170.9
        ],
        [
         "Victoria Garcia",
         "2019-08-01T00:00:00.000+0000",
         61190.81,
         0.01178,
         720.83
        ],
        [
         "Cristian Santos",
         "2019-06-15T00:00:00.000+0000",
         36286.26,
         0.90343,
         32782.1
        ],
        [
         "Steve Sanchez",
         "2019-05-26T00:00:00.000+0000",
         80525.53,
         1.35376,
         109012.24
        ],
        [
         "Jessica Smith",
         "2019-05-24T00:00:00.000+0000",
         55411.93,
         0.19955,
         11057.45
        ],
        [
         "Michael Lewis",
         "2019-05-18T00:00:00.000+0000",
         85023.94,
         1.13314,
         96344.03
        ],
        [
         "Christina Walters",
         "2019-04-17T00:00:00.000+0000",
         66880.82,
         0.47196,
         31565.07
        ],
        [
         "Paul Jones",
         "2019-02-17T00:00:00.000+0000",
         40769.55,
         1.4531,
         59242.23
        ],
        [
         "Lisa Archer",
         "2019-02-01T00:00:00.000+0000",
         24796.49,
         0.10287,
         2550.81
        ],
        [
         "Anthony Humphrey",
         "2019-01-02T00:00:00.000+0000",
         55537.72,
         0.16051,
         8914.36
        ],
        [
         "Lisa Barnes",
         "2018-11-06T00:00:00.000+0000",
         56591.69,
         1.47798,
         83641.39
        ],
        [
         "John Pierce",
         "2018-10-24T00:00:00.000+0000",
         70386.6,
         1.16816,
         82222.81
        ],
        [
         "Gabrielle Davis",
         "2018-10-16T00:00:00.000+0000",
         84039.99,
         0.51104,
         42947.8
        ],
        [
         "Ryan Munoz",
         "2018-09-29T00:00:00.000+0000",
         42516.98,
         1.14548,
         48702.35
        ],
        [
         "Debra Davidson",
         "2018-03-26T00:00:00.000+0000",
         37144.35,
         0.24081,
         8944.73
        ],
        [
         "Whitney Peters",
         "2018-03-24T00:00:00.000+0000",
         45384.44,
         0.28612,
         12985.4
        ],
        [
         "Monica Herrera",
         "2018-02-23T00:00:00.000+0000",
         31976.14,
         0.14598,
         4667.88
        ],
        [
         "Sarah Moore",
         "2018-02-06T00:00:00.000+0000",
         28350.6,
         1.49892,
         42495.28
        ],
        [
         "Carol Tucker",
         "2018-02-02T00:00:00.000+0000",
         80672.52,
         0.53209,
         42925.04
        ],
        [
         "Derek Zuniga",
         "2017-11-23T00:00:00.000+0000",
         112059.4,
         1.29986,
         145661.53
        ],
        [
         "Aaron Wise",
         "2017-10-25T00:00:00.000+0000",
         7155.12,
         0.93212,
         6669.43
        ],
        [
         "John Daniel",
         "2017-09-20T00:00:00.000+0000",
         47922.61,
         0.88287,
         42309.43
        ],
        [
         "Jordan Henderson",
         "2017-09-06T00:00:00.000+0000",
         55925.04,
         0.50961,
         28499.96
        ],
        [
         "Christopher Bass",
         "2017-08-21T00:00:00.000+0000",
         125136.58,
         0.12109,
         15152.79
        ],
        [
         "Judy Baker",
         "2017-08-18T00:00:00.000+0000",
         34401.96,
         0.04912,
         1689.82
        ],
        [
         "Connor West",
         "2017-05-09T00:00:00.000+0000",
         112594.79,
         0.10722,
         12072.41
        ],
        [
         "Angela Lopez",
         "2017-03-02T00:00:00.000+0000",
         126155.54,
         1.38962,
         175308.26
        ],
        [
         "Elizabeth Fowler",
         "2017-02-17T00:00:00.000+0000",
         90355.14,
         0.17271,
         15605.24
        ]
       ],
       "datasetInfos": [],
       "dbfsResultPath": null,
       "isJsonSchema": true,
       "metadata": {},
       "overflow": false,
       "plotOptions": {
        "customPlotOptions": {},
        "displayType": "table",
        "pivotAggregation": null,
        "pivotColumns": null,
        "xColumns": null,
        "yColumns": null
       },
       "removedWidgets": [],
       "schema": [
        {
         "metadata": "{}",
         "name": "cliente",
         "type": "\"string\""
        },
        {
         "metadata": "{}",
         "name": "data_compra",
         "type": "\"timestamp\""
        },
        {
         "metadata": "{}",
         "name": "preco_btc",
         "type": "\"double\""
        },
        {
         "metadata": "{}",
         "name": "quantidade_btc",
         "type": "\"double\""
        },
        {
         "metadata": "{}",
         "name": "Total_Compra",
         "type": "\"double\""
        }
       ],
       "type": "table"
      }
     },
     "output_type": "display_data"
    }
   ],
   "source": [
    "display(df)"
   ]
  },
  {
   "cell_type": "code",
   "execution_count": 0,
   "metadata": {
    "application/vnd.databricks.v1+cell": {
     "cellMetadata": {
      "byteLimit": 2048000,
      "rowLimit": 10000
     },
     "inputWidgets": {},
     "nuid": "78429e1e-66a6-46b5-8673-03b14cad5a65",
     "showTitle": false,
     "tableResultSettingsMap": {},
     "title": ""
    }
   },
   "outputs": [
    {
     "output_type": "stream",
     "name": "stderr",
     "output_type": "stream",
     "text": [
      "/databricks/spark/python/pyspark/sql/pandas/conversion.py:467: UserWarning: createDataFrame attempted Arrow optimization because 'spark.sql.execution.arrow.pyspark.enabled' is set to true; however, failed by the reason below:\n  Unable to convert the field mes_compra. If this column is not necessary, you may consider dropping it or converting to primitive type before the conversion.\nDirect cause: Unsupported type in conversion from Arrow: extension<pandas.period<ArrowPeriodType>>\nAttempting non-optimization as 'spark.sql.execution.arrow.pyspark.fallback.enabled' is set to true.\n  warn(msg)\n"
     ]
    },
    {
     "output_type": "display_data",
     "data": {
      "text/html": [
       "<style scoped>\n",
       "  .table-result-container {\n",
       "    max-height: 300px;\n",
       "    overflow: auto;\n",
       "  }\n",
       "  table, th, td {\n",
       "    border: 1px solid black;\n",
       "    border-collapse: collapse;\n",
       "  }\n",
       "  th, td {\n",
       "    padding: 5px;\n",
       "  }\n",
       "  th {\n",
       "    text-align: left;\n",
       "  }\n",
       "</style><div class='table-result-container'><table class='table-result'><thead style='background-color: white'><tr><th>cliente</th><th>data_compra</th><th>preco_btc</th><th>quantidade_btc</th><th>Total_Compra</th><th>mes_compra</th></tr></thead><tbody><tr><td>Sherry Decker</td><td>2025-01-26T00:00:00.000+0000</td><td>526338.91</td><td>0.75138</td><td>395480.53</td><td>List()</td></tr><tr><td>Gerald Hensley</td><td>2024-12-09T00:00:00.000+0000</td><td>663110.3</td><td>0.34418</td><td>228229.3</td><td>List()</td></tr><tr><td>Timothy Duncan</td><td>2024-09-26T00:00:00.000+0000</td><td>620115.11</td><td>0.46826</td><td>290375.1</td><td>List()</td></tr><tr><td>Matthew Foster</td><td>2024-09-19T00:00:00.000+0000</td><td>655694.97</td><td>1.02724</td><td>673556.1</td><td>List()</td></tr><tr><td>Jeffrey Chavez</td><td>2024-08-19T00:00:00.000+0000</td><td>642216.0</td><td>0.09623</td><td>61800.45</td><td>List()</td></tr><tr><td>Angie Henderson</td><td>2024-08-03T00:00:00.000+0000</td><td>674066.77</td><td>0.8185</td><td>551723.65</td><td>List()</td></tr><tr><td>William Baker</td><td>2024-07-21T00:00:00.000+0000</td><td>665345.55</td><td>0.96962</td><td>645132.35</td><td>List()</td></tr><tr><td>Richard Aguirre</td><td>2024-07-14T00:00:00.000+0000</td><td>664987.81</td><td>0.65771</td><td>437369.13</td><td>List()</td></tr><tr><td>Margaret Hawkins DDS</td><td>2024-07-08T00:00:00.000+0000</td><td>626697.78</td><td>1.40505</td><td>880541.72</td><td>List()</td></tr><tr><td>Holly Wood</td><td>2024-06-01T00:00:00.000+0000</td><td>622789.83</td><td>0.43479</td><td>270782.79</td><td>List()</td></tr><tr><td>Zachary Hicks</td><td>2024-05-08T00:00:00.000+0000</td><td>649923.13</td><td>1.32714</td><td>862538.98</td><td>List()</td></tr><tr><td>Patty Perez</td><td>2024-04-08T00:00:00.000+0000</td><td>607140.25</td><td>0.95283</td><td>578501.44</td><td>List()</td></tr><tr><td>Anthony Rodriguez</td><td>2024-03-18T00:00:00.000+0000</td><td>645885.19</td><td>0.39806</td><td>257101.06</td><td>List()</td></tr><tr><td>Allison Hill</td><td>2024-03-04T00:00:00.000+0000</td><td>611133.11</td><td>1.11258</td><td>679934.48</td><td>List()</td></tr><tr><td>Dylan Miller</td><td>2024-01-19T00:00:00.000+0000</td><td>661851.98</td><td>1.2927</td><td>855576.05</td><td>List()</td></tr><tr><td>Angelica Tucker</td><td>2024-01-06T00:00:00.000+0000</td><td>629844.48</td><td>0.95879</td><td>603888.59</td><td>List()</td></tr><tr><td>Brian Rodriguez</td><td>2023-12-12T00:00:00.000+0000</td><td>206234.69</td><td>0.9864</td><td>203429.9</td><td>List()</td></tr><tr><td>Philip Cannon</td><td>2023-10-31T00:00:00.000+0000</td><td>243651.55</td><td>0.5615</td><td>136810.35</td><td>List()</td></tr><tr><td>Daniel Wagner</td><td>2023-08-16T00:00:00.000+0000</td><td>315014.98</td><td>0.04567</td><td>14386.73</td><td>List()</td></tr><tr><td>James Ferrell</td><td>2023-07-23T00:00:00.000+0000</td><td>317098.82</td><td>0.87572</td><td>277689.78</td><td>List()</td></tr><tr><td>Zachary Ferrell</td><td>2023-07-01T00:00:00.000+0000</td><td>415435.9</td><td>0.09238</td><td>38377.97</td><td>List()</td></tr><tr><td>Brian Ramirez</td><td>2023-06-23T00:00:00.000+0000</td><td>241532.35</td><td>0.10526</td><td>25423.7</td><td>List()</td></tr><tr><td>Amber Kidd</td><td>2023-05-28T00:00:00.000+0000</td><td>364387.73</td><td>0.36525</td><td>133092.62</td><td>List()</td></tr><tr><td>Matthew Mcmillan</td><td>2023-05-23T00:00:00.000+0000</td><td>258788.91</td><td>0.89218</td><td>230886.29</td><td>List()</td></tr><tr><td>Stephanie Ross</td><td>2023-05-13T00:00:00.000+0000</td><td>460437.64</td><td>0.4727</td><td>217648.87</td><td>List()</td></tr><tr><td>Jessica Holmes</td><td>2023-05-13T00:00:00.000+0000</td><td>483023.82</td><td>0.12939</td><td>62498.45</td><td>List()</td></tr><tr><td>Denise Jacobs</td><td>2023-05-05T00:00:00.000+0000</td><td>347290.47</td><td>1.40212</td><td>486942.91</td><td>List()</td></tr><tr><td>Deborah Figueroa</td><td>2023-04-26T00:00:00.000+0000</td><td>498750.86</td><td>0.11082</td><td>55271.57</td><td>List()</td></tr><tr><td>Connie Lawrence</td><td>2023-04-18T00:00:00.000+0000</td><td>243628.05</td><td>0.97518</td><td>237581.2</td><td>List()</td></tr><tr><td>Michael Evans</td><td>2023-03-27T00:00:00.000+0000</td><td>391798.82</td><td>0.73052</td><td>286216.87</td><td>List()</td></tr><tr><td>Abigail Shaffer</td><td>2023-02-11T00:00:00.000+0000</td><td>314246.34</td><td>0.67436</td><td>211915.16</td><td>List()</td></tr><tr><td>Jessica Callahan</td><td>2023-01-18T00:00:00.000+0000</td><td>222339.79</td><td>1.40334</td><td>312018.32</td><td>List()</td></tr><tr><td>Brittany Farmer</td><td>2023-01-09T00:00:00.000+0000</td><td>420280.9</td><td>1.15313</td><td>484638.51</td><td>List()</td></tr><tr><td>Ethan Adams</td><td>2022-12-28T00:00:00.000+0000</td><td>353320.58</td><td>0.24594</td><td>86895.66</td><td>List()</td></tr><tr><td>Crystal Robinson</td><td>2022-12-22T00:00:00.000+0000</td><td>365067.02</td><td>0.19346</td><td>70625.87</td><td>List()</td></tr><tr><td>Shane Henderson</td><td>2022-12-13T00:00:00.000+0000</td><td>413917.92</td><td>0.89882</td><td>372037.7</td><td>List()</td></tr><tr><td>Shannon Jones</td><td>2022-12-02T00:00:00.000+0000</td><td>399178.57</td><td>0.63528</td><td>253590.16</td><td>List()</td></tr><tr><td>Brent Jordan</td><td>2022-10-21T00:00:00.000+0000</td><td>264475.57</td><td>0.37261</td><td>98546.24</td><td>List()</td></tr><tr><td>Nathan Maldonado</td><td>2022-09-19T00:00:00.000+0000</td><td>277925.07</td><td>1.13392</td><td>315144.8</td><td>List()</td></tr><tr><td>Shirley Suarez</td><td>2022-08-22T00:00:00.000+0000</td><td>414203.88</td><td>0.79716</td><td>330186.76</td><td>List()</td></tr><tr><td>Joshua Blair</td><td>2022-06-25T00:00:00.000+0000</td><td>126232.56</td><td>1.39372</td><td>175932.84</td><td>List()</td></tr><tr><td>Danny Morgan</td><td>2022-06-14T00:00:00.000+0000</td><td>381127.44</td><td>1.467</td><td>559113.95</td><td>List()</td></tr><tr><td>Mark Perez</td><td>2022-05-01T00:00:00.000+0000</td><td>422991.58</td><td>0.24853</td><td>105126.1</td><td>List()</td></tr><tr><td>Tracy House</td><td>2022-04-22T00:00:00.000+0000</td><td>378399.04</td><td>0.28642</td><td>108381.05</td><td>List()</td></tr><tr><td>Lauren Daniels</td><td>2022-03-10T00:00:00.000+0000</td><td>199938.06</td><td>1.38498</td><td>276910.21</td><td>List()</td></tr><tr><td>Lisa Hensley</td><td>2022-02-25T00:00:00.000+0000</td><td>291592.99</td><td>1.4597</td><td>425638.29</td><td>List()</td></tr><tr><td>Fred Smith</td><td>2022-02-02T00:00:00.000+0000</td><td>121038.5</td><td>1.08342</td><td>131135.53</td><td>List()</td></tr><tr><td>Brittney Phillips</td><td>2022-01-12T00:00:00.000+0000</td><td>164858.34</td><td>0.27605</td><td>45509.14</td><td>List()</td></tr><tr><td>Amy Silva</td><td>2021-12-21T00:00:00.000+0000</td><td>577134.24</td><td>1.28409</td><td>741092.31</td><td>List()</td></tr><tr><td>James Brown</td><td>2021-08-11T00:00:00.000+0000</td><td>358895.79</td><td>1.09388</td><td>392588.93</td><td>List()</td></tr><tr><td>Sherri Baker</td><td>2021-04-13T00:00:00.000+0000</td><td>441368.59</td><td>0.70261</td><td>310109.99</td><td>List()</td></tr><tr><td>Lisa Jackson</td><td>2021-04-06T00:00:00.000+0000</td><td>237903.11</td><td>0.95389</td><td>226933.4</td><td>List()</td></tr><tr><td>Tommy Walter</td><td>2021-04-04T00:00:00.000+0000</td><td>232766.61</td><td>1.38816</td><td>323117.3</td><td>List()</td></tr><tr><td>Michele Williams</td><td>2021-03-31T00:00:00.000+0000</td><td>110432.13</td><td>0.44047</td><td>48642.04</td><td>List()</td></tr><tr><td>Carla Gray</td><td>2021-02-03T00:00:00.000+0000</td><td>164098.62</td><td>0.53355</td><td>87554.82</td><td>List()</td></tr><tr><td>Tricia Valencia</td><td>2021-01-22T00:00:00.000+0000</td><td>200365.29</td><td>1.49631</td><td>299808.59</td><td>List()</td></tr><tr><td>Stephen Mckee</td><td>2020-11-30T00:00:00.000+0000</td><td>111660.49</td><td>1.31903</td><td>147283.54</td><td>List()</td></tr><tr><td>Jamie Arnold</td><td>2020-11-09T00:00:00.000+0000</td><td>92260.82</td><td>1.21089</td><td>111717.7</td><td>List()</td></tr><tr><td>Paula Moreno</td><td>2020-10-25T00:00:00.000+0000</td><td>57808.65</td><td>0.65271</td><td>37732.28</td><td>List()</td></tr><tr><td>Justin Baker</td><td>2020-07-16T00:00:00.000+0000</td><td>78081.54</td><td>0.10022</td><td>7825.33</td><td>List()</td></tr><tr><td>Daniel Baker</td><td>2020-07-08T00:00:00.000+0000</td><td>54001.57</td><td>0.87668</td><td>47342.1</td><td>List()</td></tr><tr><td>Eric Carney</td><td>2020-06-13T00:00:00.000+0000</td><td>66761.66</td><td>0.36207</td><td>24172.39</td><td>List()</td></tr><tr><td>Anna Henderson</td><td>2020-05-13T00:00:00.000+0000</td><td>82005.72</td><td>1.3936</td><td>114283.17</td><td>List()</td></tr><tr><td>Mike Allen</td><td>2020-03-14T00:00:00.000+0000</td><td>79610.52</td><td>1.43602</td><td>114322.3</td><td>List()</td></tr><tr><td>Gina Moore</td><td>2020-02-14T00:00:00.000+0000</td><td>106660.13</td><td>0.01074</td><td>1145.53</td><td>List()</td></tr><tr><td>John Whitehead</td><td>2019-12-24T00:00:00.000+0000</td><td>47705.01</td><td>1.00786</td><td>48079.97</td><td>List()</td></tr><tr><td>Kelly Donovan</td><td>2019-12-23T00:00:00.000+0000</td><td>84856.27</td><td>1.17791</td><td>99953.05</td><td>List()</td></tr><tr><td>Cassandra Gaines</td><td>2019-10-27T00:00:00.000+0000</td><td>87975.49</td><td>1.29131</td><td>113603.63</td><td>List()</td></tr><tr><td>Rebecca Henderson</td><td>2019-10-08T00:00:00.000+0000</td><td>72149.23</td><td>0.80893</td><td>58363.68</td><td>List()</td></tr><tr><td>Noah Rhodes</td><td>2019-10-01T00:00:00.000+0000</td><td>35624.75</td><td>1.10497</td><td>39364.28</td><td>List()</td></tr><tr><td>Donald Wright</td><td>2019-09-02T00:00:00.000+0000</td><td>39493.41</td><td>0.72864</td><td>28776.48</td><td>List()</td></tr><tr><td>Megan Young</td><td>2019-08-27T00:00:00.000+0000</td><td>31641.78</td><td>0.72898</td><td>23066.22</td><td>List()</td></tr><tr><td>Aimee Montoya</td><td>2019-08-22T00:00:00.000+0000</td><td>48264.29</td><td>1.41245</td><td>68170.9</td><td>List()</td></tr><tr><td>Victoria Garcia</td><td>2019-08-01T00:00:00.000+0000</td><td>61190.81</td><td>0.01178</td><td>720.83</td><td>List()</td></tr><tr><td>Cristian Santos</td><td>2019-06-15T00:00:00.000+0000</td><td>36286.26</td><td>0.90343</td><td>32782.1</td><td>List()</td></tr><tr><td>Steve Sanchez</td><td>2019-05-26T00:00:00.000+0000</td><td>80525.53</td><td>1.35376</td><td>109012.24</td><td>List()</td></tr><tr><td>Jessica Smith</td><td>2019-05-24T00:00:00.000+0000</td><td>55411.93</td><td>0.19955</td><td>11057.45</td><td>List()</td></tr><tr><td>Michael Lewis</td><td>2019-05-18T00:00:00.000+0000</td><td>85023.94</td><td>1.13314</td><td>96344.03</td><td>List()</td></tr><tr><td>Christina Walters</td><td>2019-04-17T00:00:00.000+0000</td><td>66880.82</td><td>0.47196</td><td>31565.07</td><td>List()</td></tr><tr><td>Paul Jones</td><td>2019-02-17T00:00:00.000+0000</td><td>40769.55</td><td>1.4531</td><td>59242.23</td><td>List()</td></tr><tr><td>Lisa Archer</td><td>2019-02-01T00:00:00.000+0000</td><td>24796.49</td><td>0.10287</td><td>2550.81</td><td>List()</td></tr><tr><td>Anthony Humphrey</td><td>2019-01-02T00:00:00.000+0000</td><td>55537.72</td><td>0.16051</td><td>8914.36</td><td>List()</td></tr><tr><td>Lisa Barnes</td><td>2018-11-06T00:00:00.000+0000</td><td>56591.69</td><td>1.47798</td><td>83641.39</td><td>List()</td></tr><tr><td>John Pierce</td><td>2018-10-24T00:00:00.000+0000</td><td>70386.6</td><td>1.16816</td><td>82222.81</td><td>List()</td></tr><tr><td>Gabrielle Davis</td><td>2018-10-16T00:00:00.000+0000</td><td>84039.99</td><td>0.51104</td><td>42947.8</td><td>List()</td></tr><tr><td>Ryan Munoz</td><td>2018-09-29T00:00:00.000+0000</td><td>42516.98</td><td>1.14548</td><td>48702.35</td><td>List()</td></tr><tr><td>Debra Davidson</td><td>2018-03-26T00:00:00.000+0000</td><td>37144.35</td><td>0.24081</td><td>8944.73</td><td>List()</td></tr><tr><td>Whitney Peters</td><td>2018-03-24T00:00:00.000+0000</td><td>45384.44</td><td>0.28612</td><td>12985.4</td><td>List()</td></tr><tr><td>Monica Herrera</td><td>2018-02-23T00:00:00.000+0000</td><td>31976.14</td><td>0.14598</td><td>4667.88</td><td>List()</td></tr><tr><td>Sarah Moore</td><td>2018-02-06T00:00:00.000+0000</td><td>28350.6</td><td>1.49892</td><td>42495.28</td><td>List()</td></tr><tr><td>Carol Tucker</td><td>2018-02-02T00:00:00.000+0000</td><td>80672.52</td><td>0.53209</td><td>42925.04</td><td>List()</td></tr><tr><td>Derek Zuniga</td><td>2017-11-23T00:00:00.000+0000</td><td>112059.4</td><td>1.29986</td><td>145661.53</td><td>List()</td></tr><tr><td>Aaron Wise</td><td>2017-10-25T00:00:00.000+0000</td><td>7155.12</td><td>0.93212</td><td>6669.43</td><td>List()</td></tr><tr><td>John Daniel</td><td>2017-09-20T00:00:00.000+0000</td><td>47922.61</td><td>0.88287</td><td>42309.43</td><td>List()</td></tr><tr><td>Jordan Henderson</td><td>2017-09-06T00:00:00.000+0000</td><td>55925.04</td><td>0.50961</td><td>28499.96</td><td>List()</td></tr><tr><td>Christopher Bass</td><td>2017-08-21T00:00:00.000+0000</td><td>125136.58</td><td>0.12109</td><td>15152.79</td><td>List()</td></tr><tr><td>Judy Baker</td><td>2017-08-18T00:00:00.000+0000</td><td>34401.96</td><td>0.04912</td><td>1689.82</td><td>List()</td></tr><tr><td>Connor West</td><td>2017-05-09T00:00:00.000+0000</td><td>112594.79</td><td>0.10722</td><td>12072.41</td><td>List()</td></tr><tr><td>Angela Lopez</td><td>2017-03-02T00:00:00.000+0000</td><td>126155.54</td><td>1.38962</td><td>175308.26</td><td>List()</td></tr><tr><td>Elizabeth Fowler</td><td>2017-02-17T00:00:00.000+0000</td><td>90355.14</td><td>0.17271</td><td>15605.24</td><td>List()</td></tr></tbody></table></div>"
      ]
     },
     "metadata": {
      "application/vnd.databricks.v1+output": {
       "addedWidgets": {},
       "aggData": [],
       "aggError": "",
       "aggOverflow": false,
       "aggSchema": [],
       "aggSeriesLimitReached": false,
       "aggType": "",
       "arguments": {},
       "columnCustomDisplayInfos": {},
       "data": [
        [
         "Sherry Decker",
         "2025-01-26T00:00:00.000+0000",
         526338.91,
         0.75138,
         395480.53,
         []
        ],
        [
         "Gerald Hensley",
         "2024-12-09T00:00:00.000+0000",
         663110.3,
         0.34418,
         228229.3,
         []
        ],
        [
         "Timothy Duncan",
         "2024-09-26T00:00:00.000+0000",
         620115.11,
         0.46826,
         290375.1,
         []
        ],
        [
         "Matthew Foster",
         "2024-09-19T00:00:00.000+0000",
         655694.97,
         1.02724,
         673556.1,
         []
        ],
        [
         "Jeffrey Chavez",
         "2024-08-19T00:00:00.000+0000",
         642216.0,
         0.09623,
         61800.45,
         []
        ],
        [
         "Angie Henderson",
         "2024-08-03T00:00:00.000+0000",
         674066.77,
         0.8185,
         551723.65,
         []
        ],
        [
         "William Baker",
         "2024-07-21T00:00:00.000+0000",
         665345.55,
         0.96962,
         645132.35,
         []
        ],
        [
         "Richard Aguirre",
         "2024-07-14T00:00:00.000+0000",
         664987.81,
         0.65771,
         437369.13,
         []
        ],
        [
         "Margaret Hawkins DDS",
         "2024-07-08T00:00:00.000+0000",
         626697.78,
         1.40505,
         880541.72,
         []
        ],
        [
         "Holly Wood",
         "2024-06-01T00:00:00.000+0000",
         622789.83,
         0.43479,
         270782.79,
         []
        ],
        [
         "Zachary Hicks",
         "2024-05-08T00:00:00.000+0000",
         649923.13,
         1.32714,
         862538.98,
         []
        ],
        [
         "Patty Perez",
         "2024-04-08T00:00:00.000+0000",
         607140.25,
         0.95283,
         578501.44,
         []
        ],
        [
         "Anthony Rodriguez",
         "2024-03-18T00:00:00.000+0000",
         645885.19,
         0.39806,
         257101.06,
         []
        ],
        [
         "Allison Hill",
         "2024-03-04T00:00:00.000+0000",
         611133.11,
         1.11258,
         679934.48,
         []
        ],
        [
         "Dylan Miller",
         "2024-01-19T00:00:00.000+0000",
         661851.98,
         1.2927,
         855576.05,
         []
        ],
        [
         "Angelica Tucker",
         "2024-01-06T00:00:00.000+0000",
         629844.48,
         0.95879,
         603888.59,
         []
        ],
        [
         "Brian Rodriguez",
         "2023-12-12T00:00:00.000+0000",
         206234.69,
         0.9864,
         203429.9,
         []
        ],
        [
         "Philip Cannon",
         "2023-10-31T00:00:00.000+0000",
         243651.55,
         0.5615,
         136810.35,
         []
        ],
        [
         "Daniel Wagner",
         "2023-08-16T00:00:00.000+0000",
         315014.98,
         0.04567,
         14386.73,
         []
        ],
        [
         "James Ferrell",
         "2023-07-23T00:00:00.000+0000",
         317098.82,
         0.87572,
         277689.78,
         []
        ],
        [
         "Zachary Ferrell",
         "2023-07-01T00:00:00.000+0000",
         415435.9,
         0.09238,
         38377.97,
         []
        ],
        [
         "Brian Ramirez",
         "2023-06-23T00:00:00.000+0000",
         241532.35,
         0.10526,
         25423.7,
         []
        ],
        [
         "Amber Kidd",
         "2023-05-28T00:00:00.000+0000",
         364387.73,
         0.36525,
         133092.62,
         []
        ],
        [
         "Matthew Mcmillan",
         "2023-05-23T00:00:00.000+0000",
         258788.91,
         0.89218,
         230886.29,
         []
        ],
        [
         "Stephanie Ross",
         "2023-05-13T00:00:00.000+0000",
         460437.64,
         0.4727,
         217648.87,
         []
        ],
        [
         "Jessica Holmes",
         "2023-05-13T00:00:00.000+0000",
         483023.82,
         0.12939,
         62498.45,
         []
        ],
        [
         "Denise Jacobs",
         "2023-05-05T00:00:00.000+0000",
         347290.47,
         1.40212,
         486942.91,
         []
        ],
        [
         "Deborah Figueroa",
         "2023-04-26T00:00:00.000+0000",
         498750.86,
         0.11082,
         55271.57,
         []
        ],
        [
         "Connie Lawrence",
         "2023-04-18T00:00:00.000+0000",
         243628.05,
         0.97518,
         237581.2,
         []
        ],
        [
         "Michael Evans",
         "2023-03-27T00:00:00.000+0000",
         391798.82,
         0.73052,
         286216.87,
         []
        ],
        [
         "Abigail Shaffer",
         "2023-02-11T00:00:00.000+0000",
         314246.34,
         0.67436,
         211915.16,
         []
        ],
        [
         "Jessica Callahan",
         "2023-01-18T00:00:00.000+0000",
         222339.79,
         1.40334,
         312018.32,
         []
        ],
        [
         "Brittany Farmer",
         "2023-01-09T00:00:00.000+0000",
         420280.9,
         1.15313,
         484638.51,
         []
        ],
        [
         "Ethan Adams",
         "2022-12-28T00:00:00.000+0000",
         353320.58,
         0.24594,
         86895.66,
         []
        ],
        [
         "Crystal Robinson",
         "2022-12-22T00:00:00.000+0000",
         365067.02,
         0.19346,
         70625.87,
         []
        ],
        [
         "Shane Henderson",
         "2022-12-13T00:00:00.000+0000",
         413917.92,
         0.89882,
         372037.7,
         []
        ],
        [
         "Shannon Jones",
         "2022-12-02T00:00:00.000+0000",
         399178.57,
         0.63528,
         253590.16,
         []
        ],
        [
         "Brent Jordan",
         "2022-10-21T00:00:00.000+0000",
         264475.57,
         0.37261,
         98546.24,
         []
        ],
        [
         "Nathan Maldonado",
         "2022-09-19T00:00:00.000+0000",
         277925.07,
         1.13392,
         315144.8,
         []
        ],
        [
         "Shirley Suarez",
         "2022-08-22T00:00:00.000+0000",
         414203.88,
         0.79716,
         330186.76,
         []
        ],
        [
         "Joshua Blair",
         "2022-06-25T00:00:00.000+0000",
         126232.56,
         1.39372,
         175932.84,
         []
        ],
        [
         "Danny Morgan",
         "2022-06-14T00:00:00.000+0000",
         381127.44,
         1.467,
         559113.95,
         []
        ],
        [
         "Mark Perez",
         "2022-05-01T00:00:00.000+0000",
         422991.58,
         0.24853,
         105126.1,
         []
        ],
        [
         "Tracy House",
         "2022-04-22T00:00:00.000+0000",
         378399.04,
         0.28642,
         108381.05,
         []
        ],
        [
         "Lauren Daniels",
         "2022-03-10T00:00:00.000+0000",
         199938.06,
         1.38498,
         276910.21,
         []
        ],
        [
         "Lisa Hensley",
         "2022-02-25T00:00:00.000+0000",
         291592.99,
         1.4597,
         425638.29,
         []
        ],
        [
         "Fred Smith",
         "2022-02-02T00:00:00.000+0000",
         121038.5,
         1.08342,
         131135.53,
         []
        ],
        [
         "Brittney Phillips",
         "2022-01-12T00:00:00.000+0000",
         164858.34,
         0.27605,
         45509.14,
         []
        ],
        [
         "Amy Silva",
         "2021-12-21T00:00:00.000+0000",
         577134.24,
         1.28409,
         741092.31,
         []
        ],
        [
         "James Brown",
         "2021-08-11T00:00:00.000+0000",
         358895.79,
         1.09388,
         392588.93,
         []
        ],
        [
         "Sherri Baker",
         "2021-04-13T00:00:00.000+0000",
         441368.59,
         0.70261,
         310109.99,
         []
        ],
        [
         "Lisa Jackson",
         "2021-04-06T00:00:00.000+0000",
         237903.11,
         0.95389,
         226933.4,
         []
        ],
        [
         "Tommy Walter",
         "2021-04-04T00:00:00.000+0000",
         232766.61,
         1.38816,
         323117.3,
         []
        ],
        [
         "Michele Williams",
         "2021-03-31T00:00:00.000+0000",
         110432.13,
         0.44047,
         48642.04,
         []
        ],
        [
         "Carla Gray",
         "2021-02-03T00:00:00.000+0000",
         164098.62,
         0.53355,
         87554.82,
         []
        ],
        [
         "Tricia Valencia",
         "2021-01-22T00:00:00.000+0000",
         200365.29,
         1.49631,
         299808.59,
         []
        ],
        [
         "Stephen Mckee",
         "2020-11-30T00:00:00.000+0000",
         111660.49,
         1.31903,
         147283.54,
         []
        ],
        [
         "Jamie Arnold",
         "2020-11-09T00:00:00.000+0000",
         92260.82,
         1.21089,
         111717.7,
         []
        ],
        [
         "Paula Moreno",
         "2020-10-25T00:00:00.000+0000",
         57808.65,
         0.65271,
         37732.28,
         []
        ],
        [
         "Justin Baker",
         "2020-07-16T00:00:00.000+0000",
         78081.54,
         0.10022,
         7825.33,
         []
        ],
        [
         "Daniel Baker",
         "2020-07-08T00:00:00.000+0000",
         54001.57,
         0.87668,
         47342.1,
         []
        ],
        [
         "Eric Carney",
         "2020-06-13T00:00:00.000+0000",
         66761.66,
         0.36207,
         24172.39,
         []
        ],
        [
         "Anna Henderson",
         "2020-05-13T00:00:00.000+0000",
         82005.72,
         1.3936,
         114283.17,
         []
        ],
        [
         "Mike Allen",
         "2020-03-14T00:00:00.000+0000",
         79610.52,
         1.43602,
         114322.3,
         []
        ],
        [
         "Gina Moore",
         "2020-02-14T00:00:00.000+0000",
         106660.13,
         0.01074,
         1145.53,
         []
        ],
        [
         "John Whitehead",
         "2019-12-24T00:00:00.000+0000",
         47705.01,
         1.00786,
         48079.97,
         []
        ],
        [
         "Kelly Donovan",
         "2019-12-23T00:00:00.000+0000",
         84856.27,
         1.17791,
         99953.05,
         []
        ],
        [
         "Cassandra Gaines",
         "2019-10-27T00:00:00.000+0000",
         87975.49,
         1.29131,
         113603.63,
         []
        ],
        [
         "Rebecca Henderson",
         "2019-10-08T00:00:00.000+0000",
         72149.23,
         0.80893,
         58363.68,
         []
        ],
        [
         "Noah Rhodes",
         "2019-10-01T00:00:00.000+0000",
         35624.75,
         1.10497,
         39364.28,
         []
        ],
        [
         "Donald Wright",
         "2019-09-02T00:00:00.000+0000",
         39493.41,
         0.72864,
         28776.48,
         []
        ],
        [
         "Megan Young",
         "2019-08-27T00:00:00.000+0000",
         31641.78,
         0.72898,
         23066.22,
         []
        ],
        [
         "Aimee Montoya",
         "2019-08-22T00:00:00.000+0000",
         48264.29,
         1.41245,
         68170.9,
         []
        ],
        [
         "Victoria Garcia",
         "2019-08-01T00:00:00.000+0000",
         61190.81,
         0.01178,
         720.83,
         []
        ],
        [
         "Cristian Santos",
         "2019-06-15T00:00:00.000+0000",
         36286.26,
         0.90343,
         32782.1,
         []
        ],
        [
         "Steve Sanchez",
         "2019-05-26T00:00:00.000+0000",
         80525.53,
         1.35376,
         109012.24,
         []
        ],
        [
         "Jessica Smith",
         "2019-05-24T00:00:00.000+0000",
         55411.93,
         0.19955,
         11057.45,
         []
        ],
        [
         "Michael Lewis",
         "2019-05-18T00:00:00.000+0000",
         85023.94,
         1.13314,
         96344.03,
         []
        ],
        [
         "Christina Walters",
         "2019-04-17T00:00:00.000+0000",
         66880.82,
         0.47196,
         31565.07,
         []
        ],
        [
         "Paul Jones",
         "2019-02-17T00:00:00.000+0000",
         40769.55,
         1.4531,
         59242.23,
         []
        ],
        [
         "Lisa Archer",
         "2019-02-01T00:00:00.000+0000",
         24796.49,
         0.10287,
         2550.81,
         []
        ],
        [
         "Anthony Humphrey",
         "2019-01-02T00:00:00.000+0000",
         55537.72,
         0.16051,
         8914.36,
         []
        ],
        [
         "Lisa Barnes",
         "2018-11-06T00:00:00.000+0000",
         56591.69,
         1.47798,
         83641.39,
         []
        ],
        [
         "John Pierce",
         "2018-10-24T00:00:00.000+0000",
         70386.6,
         1.16816,
         82222.81,
         []
        ],
        [
         "Gabrielle Davis",
         "2018-10-16T00:00:00.000+0000",
         84039.99,
         0.51104,
         42947.8,
         []
        ],
        [
         "Ryan Munoz",
         "2018-09-29T00:00:00.000+0000",
         42516.98,
         1.14548,
         48702.35,
         []
        ],
        [
         "Debra Davidson",
         "2018-03-26T00:00:00.000+0000",
         37144.35,
         0.24081,
         8944.73,
         []
        ],
        [
         "Whitney Peters",
         "2018-03-24T00:00:00.000+0000",
         45384.44,
         0.28612,
         12985.4,
         []
        ],
        [
         "Monica Herrera",
         "2018-02-23T00:00:00.000+0000",
         31976.14,
         0.14598,
         4667.88,
         []
        ],
        [
         "Sarah Moore",
         "2018-02-06T00:00:00.000+0000",
         28350.6,
         1.49892,
         42495.28,
         []
        ],
        [
         "Carol Tucker",
         "2018-02-02T00:00:00.000+0000",
         80672.52,
         0.53209,
         42925.04,
         []
        ],
        [
         "Derek Zuniga",
         "2017-11-23T00:00:00.000+0000",
         112059.4,
         1.29986,
         145661.53,
         []
        ],
        [
         "Aaron Wise",
         "2017-10-25T00:00:00.000+0000",
         7155.12,
         0.93212,
         6669.43,
         []
        ],
        [
         "John Daniel",
         "2017-09-20T00:00:00.000+0000",
         47922.61,
         0.88287,
         42309.43,
         []
        ],
        [
         "Jordan Henderson",
         "2017-09-06T00:00:00.000+0000",
         55925.04,
         0.50961,
         28499.96,
         []
        ],
        [
         "Christopher Bass",
         "2017-08-21T00:00:00.000+0000",
         125136.58,
         0.12109,
         15152.79,
         []
        ],
        [
         "Judy Baker",
         "2017-08-18T00:00:00.000+0000",
         34401.96,
         0.04912,
         1689.82,
         []
        ],
        [
         "Connor West",
         "2017-05-09T00:00:00.000+0000",
         112594.79,
         0.10722,
         12072.41,
         []
        ],
        [
         "Angela Lopez",
         "2017-03-02T00:00:00.000+0000",
         126155.54,
         1.38962,
         175308.26,
         []
        ],
        [
         "Elizabeth Fowler",
         "2017-02-17T00:00:00.000+0000",
         90355.14,
         0.17271,
         15605.24,
         []
        ]
       ],
       "datasetInfos": [],
       "dbfsResultPath": null,
       "isJsonSchema": true,
       "metadata": {},
       "overflow": false,
       "plotOptions": {
        "customPlotOptions": {},
        "displayType": "table",
        "pivotAggregation": null,
        "pivotColumns": null,
        "xColumns": null,
        "yColumns": null
       },
       "removedWidgets": [],
       "schema": [
        {
         "metadata": "{}",
         "name": "cliente",
         "type": "\"string\""
        },
        {
         "metadata": "{}",
         "name": "data_compra",
         "type": "\"timestamp\""
        },
        {
         "metadata": "{}",
         "name": "preco_btc",
         "type": "\"double\""
        },
        {
         "metadata": "{}",
         "name": "quantidade_btc",
         "type": "\"double\""
        },
        {
         "metadata": "{}",
         "name": "Total_Compra",
         "type": "\"double\""
        },
        {
         "metadata": "{}",
         "name": "mes_compra",
         "type": "{\"type\":\"struct\",\"fields\":[]}"
        }
       ],
       "type": "table"
      }
     },
     "output_type": "display_data"
    }
   ],
   "source": [
    "df['mes_compra'] = df['data_compra'].dt.to_period(\"M\")\n",
    "\n",
    "display(df)"
   ]
  },
  {
   "cell_type": "code",
   "execution_count": 0,
   "metadata": {
    "application/vnd.databricks.v1+cell": {
     "cellMetadata": {
      "byteLimit": 2048000,
      "rowLimit": 10000
     },
     "inputWidgets": {},
     "nuid": "cc6faba9-e3db-4690-a058-c59776e57bb5",
     "showTitle": false,
     "tableResultSettingsMap": {},
     "title": ""
    }
   },
   "outputs": [
    {
     "output_type": "stream",
     "name": "stdout",
     "output_type": "stream",
     "text": [
      "   mes_compra  Total_Compra\n0     2017-02      15605.24\n1     2017-03     175308.26\n2     2017-05      12072.41\n3     2017-08      16842.61\n4     2017-09      70809.39\n..        ...           ...\n59    2024-07    1963043.20\n60    2024-08     613524.10\n61    2024-09     963931.20\n62    2024-12     228229.30\n63    2025-01     395480.53\n\n[64 rows x 2 columns]\n"
     ]
    }
   ],
   "source": [
    "df_agrupado = df.groupby('mes_compra')['Total_Compra'].sum().reset_index()\n",
    "print(df_agrupado)"
   ]
  },
  {
   "cell_type": "code",
   "execution_count": 0,
   "metadata": {
    "application/vnd.databricks.v1+cell": {
     "cellMetadata": {
      "byteLimit": 2048000,
      "rowLimit": 10000
     },
     "inputWidgets": {},
     "nuid": "2e3bcef7-fb66-4699-8dac-5293b5e237a0",
     "showTitle": false,
     "tableResultSettingsMap": {},
     "title": ""
    }
   },
   "outputs": [
    {
     "output_type": "stream",
     "name": "stdout",
     "output_type": "stream",
     "text": [
      "<class 'pandas.core.frame.DataFrame'>\nRangeIndex: 100 entries, 0 to 99\nData columns (total 7 columns):\n #   Column              Non-Null Count  Dtype         \n---  ------              --------------  -----         \n 0   cliente             100 non-null    object        \n 1   data_compra         100 non-null    datetime64[ns]\n 2   preco_btc           100 non-null    float64       \n 3   quantidade_btc      100 non-null    float64       \n 4   Total_Compra        100 non-null    float64       \n 5   mes_compra          100 non-null    period[M]     \n 6   resultado_operacao  100 non-null    object        \ndtypes: datetime64[ns](1), float64(3), object(2), period[M](1)\nmemory usage: 5.6+ KB\n"
     ]
    }
   ],
   "source": [
    "df.info()"
   ]
  },
  {
   "cell_type": "code",
   "execution_count": 0,
   "metadata": {
    "application/vnd.databricks.v1+cell": {
     "cellMetadata": {
      "byteLimit": 2048000,
      "rowLimit": 10000
     },
     "inputWidgets": {},
     "nuid": "5ef8475c-3b0b-473f-9a79-900b4d2ea2c0",
     "showTitle": false,
     "tableResultSettingsMap": {},
     "title": ""
    }
   },
   "outputs": [],
   "source": [
    "##Mudança necessária no df\n",
    "df['mes_compra_str'] = df['mes_compra'].astype(str) "
   ]
  },
  {
   "cell_type": "markdown",
   "metadata": {
    "application/vnd.databricks.v1+cell": {
     "cellMetadata": {
      "byteLimit": 2048000,
      "rowLimit": 10000
     },
     "inputWidgets": {},
     "nuid": "5ff3d524-92c3-4f97-b440-27f4db718de7",
     "showTitle": false,
     "tableResultSettingsMap": {},
     "title": ""
    }
   },
   "source": [
    "#Consumindo API's"
   ]
  },
  {
   "cell_type": "code",
   "execution_count": 0,
   "metadata": {
    "application/vnd.databricks.v1+cell": {
     "cellMetadata": {
      "byteLimit": 2048000,
      "rowLimit": 10000
     },
     "inputWidgets": {},
     "nuid": "fdb2b856-57a9-4d73-a871-9b25e01fe447",
     "showTitle": false,
     "tableResultSettingsMap": {},
     "title": ""
    }
   },
   "outputs": [],
   "source": [
    "#Preço Bitcoin\n",
    "url = \"https://api.coinbase.com/v2/prices/spot\"\n",
    "response = requests.get(url)\n",
    "dados = response.json()\n",
    "preco_atual_btc = round(float(dados[\"data\"][\"amount\"]),2)\n",
    "\n",
    "#Cotação dolar\n",
    "url_dolar = \"https://economia.awesomeapi.com.br/last/USD-BRL\"\n",
    "response_dolar = requests.get(url_dolar)\n",
    "dados_dolar = response_dolar.json()\n",
    "\n",
    "cotacao_dolar_real = float(dados_dolar[\"USDBRL\"][\"bid\"])\n",
    "\n",
    "preco_atual_btc_real = preco_atual_btc * cotacao_dolar_real"
   ]
  },
  {
   "cell_type": "markdown",
   "metadata": {
    "application/vnd.databricks.v1+cell": {
     "cellMetadata": {
      "byteLimit": 2048000,
      "rowLimit": 10000
     },
     "inputWidgets": {},
     "nuid": "4705eda8-7d2d-40fb-ad42-6d7e5df600b0",
     "showTitle": false,
     "tableResultSettingsMap": {},
     "title": ""
    }
   },
   "source": [
    "# Criando Função"
   ]
  },
  {
   "cell_type": "code",
   "execution_count": 0,
   "metadata": {
    "application/vnd.databricks.v1+cell": {
     "cellMetadata": {
      "byteLimit": 2048000,
      "rowLimit": 10000
     },
     "inputWidgets": {},
     "nuid": "c33db0cc-d807-4981-b112-b5c65ed6b9ae",
     "showTitle": false,
     "tableResultSettingsMap": {},
     "title": ""
    }
   },
   "outputs": [
    {
     "output_type": "stream",
     "name": "stderr",
     "output_type": "stream",
     "text": [
      "/databricks/spark/python/pyspark/sql/pandas/conversion.py:467: UserWarning: createDataFrame attempted Arrow optimization because 'spark.sql.execution.arrow.pyspark.enabled' is set to true; however, failed by the reason below:\n  Unable to convert the field mes_compra. If this column is not necessary, you may consider dropping it or converting to primitive type before the conversion.\nDirect cause: Unsupported type in conversion from Arrow: extension<pandas.period<ArrowPeriodType>>\nAttempting non-optimization as 'spark.sql.execution.arrow.pyspark.fallback.enabled' is set to true.\n  warn(msg)\n"
     ]
    },
    {
     "output_type": "display_data",
     "data": {
      "text/html": [
       "<style scoped>\n",
       "  .table-result-container {\n",
       "    max-height: 300px;\n",
       "    overflow: auto;\n",
       "  }\n",
       "  table, th, td {\n",
       "    border: 1px solid black;\n",
       "    border-collapse: collapse;\n",
       "  }\n",
       "  th, td {\n",
       "    padding: 5px;\n",
       "  }\n",
       "  th {\n",
       "    text-align: left;\n",
       "  }\n",
       "</style><div class='table-result-container'><table class='table-result'><thead style='background-color: white'><tr><th>cliente</th><th>data_compra</th><th>preco_btc</th><th>quantidade_btc</th><th>Total_Compra</th><th>mes_compra</th><th>resultado_operacao</th></tr></thead><tbody><tr><td>Sherry Decker</td><td>2025-01-26T00:00:00.000+0000</td><td>526338.91</td><td>0.75138</td><td>395480.53</td><td>List()</td><td>Prejuízo</td></tr><tr><td>Gerald Hensley</td><td>2024-12-09T00:00:00.000+0000</td><td>663110.3</td><td>0.34418</td><td>228229.3</td><td>List()</td><td>Prejuízo</td></tr><tr><td>Timothy Duncan</td><td>2024-09-26T00:00:00.000+0000</td><td>620115.11</td><td>0.46826</td><td>290375.1</td><td>List()</td><td>Prejuízo</td></tr><tr><td>Matthew Foster</td><td>2024-09-19T00:00:00.000+0000</td><td>655694.97</td><td>1.02724</td><td>673556.1</td><td>List()</td><td>Prejuízo</td></tr><tr><td>Jeffrey Chavez</td><td>2024-08-19T00:00:00.000+0000</td><td>642216.0</td><td>0.09623</td><td>61800.45</td><td>List()</td><td>Prejuízo</td></tr><tr><td>Angie Henderson</td><td>2024-08-03T00:00:00.000+0000</td><td>674066.77</td><td>0.8185</td><td>551723.65</td><td>List()</td><td>Prejuízo</td></tr><tr><td>William Baker</td><td>2024-07-21T00:00:00.000+0000</td><td>665345.55</td><td>0.96962</td><td>645132.35</td><td>List()</td><td>Prejuízo</td></tr><tr><td>Richard Aguirre</td><td>2024-07-14T00:00:00.000+0000</td><td>664987.81</td><td>0.65771</td><td>437369.13</td><td>List()</td><td>Prejuízo</td></tr><tr><td>Margaret Hawkins DDS</td><td>2024-07-08T00:00:00.000+0000</td><td>626697.78</td><td>1.40505</td><td>880541.72</td><td>List()</td><td>Prejuízo</td></tr><tr><td>Holly Wood</td><td>2024-06-01T00:00:00.000+0000</td><td>622789.83</td><td>0.43479</td><td>270782.79</td><td>List()</td><td>Prejuízo</td></tr><tr><td>Zachary Hicks</td><td>2024-05-08T00:00:00.000+0000</td><td>649923.13</td><td>1.32714</td><td>862538.98</td><td>List()</td><td>Prejuízo</td></tr><tr><td>Patty Perez</td><td>2024-04-08T00:00:00.000+0000</td><td>607140.25</td><td>0.95283</td><td>578501.44</td><td>List()</td><td>Prejuízo</td></tr><tr><td>Anthony Rodriguez</td><td>2024-03-18T00:00:00.000+0000</td><td>645885.19</td><td>0.39806</td><td>257101.06</td><td>List()</td><td>Prejuízo</td></tr><tr><td>Allison Hill</td><td>2024-03-04T00:00:00.000+0000</td><td>611133.11</td><td>1.11258</td><td>679934.48</td><td>List()</td><td>Prejuízo</td></tr><tr><td>Dylan Miller</td><td>2024-01-19T00:00:00.000+0000</td><td>661851.98</td><td>1.2927</td><td>855576.05</td><td>List()</td><td>Prejuízo</td></tr><tr><td>Angelica Tucker</td><td>2024-01-06T00:00:00.000+0000</td><td>629844.48</td><td>0.95879</td><td>603888.59</td><td>List()</td><td>Prejuízo</td></tr><tr><td>Brian Rodriguez</td><td>2023-12-12T00:00:00.000+0000</td><td>206234.69</td><td>0.9864</td><td>203429.9</td><td>List()</td><td>Prejuízo</td></tr><tr><td>Philip Cannon</td><td>2023-10-31T00:00:00.000+0000</td><td>243651.55</td><td>0.5615</td><td>136810.35</td><td>List()</td><td>Prejuízo</td></tr><tr><td>Daniel Wagner</td><td>2023-08-16T00:00:00.000+0000</td><td>315014.98</td><td>0.04567</td><td>14386.73</td><td>List()</td><td>Prejuízo</td></tr><tr><td>James Ferrell</td><td>2023-07-23T00:00:00.000+0000</td><td>317098.82</td><td>0.87572</td><td>277689.78</td><td>List()</td><td>Prejuízo</td></tr><tr><td>Zachary Ferrell</td><td>2023-07-01T00:00:00.000+0000</td><td>415435.9</td><td>0.09238</td><td>38377.97</td><td>List()</td><td>Prejuízo</td></tr><tr><td>Brian Ramirez</td><td>2023-06-23T00:00:00.000+0000</td><td>241532.35</td><td>0.10526</td><td>25423.7</td><td>List()</td><td>Prejuízo</td></tr><tr><td>Amber Kidd</td><td>2023-05-28T00:00:00.000+0000</td><td>364387.73</td><td>0.36525</td><td>133092.62</td><td>List()</td><td>Prejuízo</td></tr><tr><td>Matthew Mcmillan</td><td>2023-05-23T00:00:00.000+0000</td><td>258788.91</td><td>0.89218</td><td>230886.29</td><td>List()</td><td>Prejuízo</td></tr><tr><td>Stephanie Ross</td><td>2023-05-13T00:00:00.000+0000</td><td>460437.64</td><td>0.4727</td><td>217648.87</td><td>List()</td><td>Prejuízo</td></tr><tr><td>Jessica Holmes</td><td>2023-05-13T00:00:00.000+0000</td><td>483023.82</td><td>0.12939</td><td>62498.45</td><td>List()</td><td>Prejuízo</td></tr><tr><td>Denise Jacobs</td><td>2023-05-05T00:00:00.000+0000</td><td>347290.47</td><td>1.40212</td><td>486942.91</td><td>List()</td><td>Prejuízo</td></tr><tr><td>Deborah Figueroa</td><td>2023-04-26T00:00:00.000+0000</td><td>498750.86</td><td>0.11082</td><td>55271.57</td><td>List()</td><td>Prejuízo</td></tr><tr><td>Connie Lawrence</td><td>2023-04-18T00:00:00.000+0000</td><td>243628.05</td><td>0.97518</td><td>237581.2</td><td>List()</td><td>Prejuízo</td></tr><tr><td>Michael Evans</td><td>2023-03-27T00:00:00.000+0000</td><td>391798.82</td><td>0.73052</td><td>286216.87</td><td>List()</td><td>Prejuízo</td></tr><tr><td>Abigail Shaffer</td><td>2023-02-11T00:00:00.000+0000</td><td>314246.34</td><td>0.67436</td><td>211915.16</td><td>List()</td><td>Prejuízo</td></tr><tr><td>Jessica Callahan</td><td>2023-01-18T00:00:00.000+0000</td><td>222339.79</td><td>1.40334</td><td>312018.32</td><td>List()</td><td>Prejuízo</td></tr><tr><td>Brittany Farmer</td><td>2023-01-09T00:00:00.000+0000</td><td>420280.9</td><td>1.15313</td><td>484638.51</td><td>List()</td><td>Prejuízo</td></tr><tr><td>Ethan Adams</td><td>2022-12-28T00:00:00.000+0000</td><td>353320.58</td><td>0.24594</td><td>86895.66</td><td>List()</td><td>Prejuízo</td></tr><tr><td>Crystal Robinson</td><td>2022-12-22T00:00:00.000+0000</td><td>365067.02</td><td>0.19346</td><td>70625.87</td><td>List()</td><td>Prejuízo</td></tr><tr><td>Shane Henderson</td><td>2022-12-13T00:00:00.000+0000</td><td>413917.92</td><td>0.89882</td><td>372037.7</td><td>List()</td><td>Prejuízo</td></tr><tr><td>Shannon Jones</td><td>2022-12-02T00:00:00.000+0000</td><td>399178.57</td><td>0.63528</td><td>253590.16</td><td>List()</td><td>Prejuízo</td></tr><tr><td>Brent Jordan</td><td>2022-10-21T00:00:00.000+0000</td><td>264475.57</td><td>0.37261</td><td>98546.24</td><td>List()</td><td>Prejuízo</td></tr><tr><td>Nathan Maldonado</td><td>2022-09-19T00:00:00.000+0000</td><td>277925.07</td><td>1.13392</td><td>315144.8</td><td>List()</td><td>Prejuízo</td></tr><tr><td>Shirley Suarez</td><td>2022-08-22T00:00:00.000+0000</td><td>414203.88</td><td>0.79716</td><td>330186.76</td><td>List()</td><td>Prejuízo</td></tr><tr><td>Joshua Blair</td><td>2022-06-25T00:00:00.000+0000</td><td>126232.56</td><td>1.39372</td><td>175932.84</td><td>List()</td><td>Prejuízo</td></tr><tr><td>Danny Morgan</td><td>2022-06-14T00:00:00.000+0000</td><td>381127.44</td><td>1.467</td><td>559113.95</td><td>List()</td><td>Prejuízo</td></tr><tr><td>Mark Perez</td><td>2022-05-01T00:00:00.000+0000</td><td>422991.58</td><td>0.24853</td><td>105126.1</td><td>List()</td><td>Prejuízo</td></tr><tr><td>Tracy House</td><td>2022-04-22T00:00:00.000+0000</td><td>378399.04</td><td>0.28642</td><td>108381.05</td><td>List()</td><td>Prejuízo</td></tr><tr><td>Lauren Daniels</td><td>2022-03-10T00:00:00.000+0000</td><td>199938.06</td><td>1.38498</td><td>276910.21</td><td>List()</td><td>Prejuízo</td></tr><tr><td>Lisa Hensley</td><td>2022-02-25T00:00:00.000+0000</td><td>291592.99</td><td>1.4597</td><td>425638.29</td><td>List()</td><td>Prejuízo</td></tr><tr><td>Fred Smith</td><td>2022-02-02T00:00:00.000+0000</td><td>121038.5</td><td>1.08342</td><td>131135.53</td><td>List()</td><td>Prejuízo</td></tr><tr><td>Brittney Phillips</td><td>2022-01-12T00:00:00.000+0000</td><td>164858.34</td><td>0.27605</td><td>45509.14</td><td>List()</td><td>Prejuízo</td></tr><tr><td>Amy Silva</td><td>2021-12-21T00:00:00.000+0000</td><td>577134.24</td><td>1.28409</td><td>741092.31</td><td>List()</td><td>Prejuízo</td></tr><tr><td>James Brown</td><td>2021-08-11T00:00:00.000+0000</td><td>358895.79</td><td>1.09388</td><td>392588.93</td><td>List()</td><td>Prejuízo</td></tr><tr><td>Sherri Baker</td><td>2021-04-13T00:00:00.000+0000</td><td>441368.59</td><td>0.70261</td><td>310109.99</td><td>List()</td><td>Prejuízo</td></tr><tr><td>Lisa Jackson</td><td>2021-04-06T00:00:00.000+0000</td><td>237903.11</td><td>0.95389</td><td>226933.4</td><td>List()</td><td>Prejuízo</td></tr><tr><td>Tommy Walter</td><td>2021-04-04T00:00:00.000+0000</td><td>232766.61</td><td>1.38816</td><td>323117.3</td><td>List()</td><td>Prejuízo</td></tr><tr><td>Michele Williams</td><td>2021-03-31T00:00:00.000+0000</td><td>110432.13</td><td>0.44047</td><td>48642.04</td><td>List()</td><td>Prejuízo</td></tr><tr><td>Carla Gray</td><td>2021-02-03T00:00:00.000+0000</td><td>164098.62</td><td>0.53355</td><td>87554.82</td><td>List()</td><td>Prejuízo</td></tr><tr><td>Tricia Valencia</td><td>2021-01-22T00:00:00.000+0000</td><td>200365.29</td><td>1.49631</td><td>299808.59</td><td>List()</td><td>Prejuízo</td></tr><tr><td>Stephen Mckee</td><td>2020-11-30T00:00:00.000+0000</td><td>111660.49</td><td>1.31903</td><td>147283.54</td><td>List()</td><td>Prejuízo</td></tr><tr><td>Jamie Arnold</td><td>2020-11-09T00:00:00.000+0000</td><td>92260.82</td><td>1.21089</td><td>111717.7</td><td>List()</td><td>Prejuízo</td></tr><tr><td>Paula Moreno</td><td>2020-10-25T00:00:00.000+0000</td><td>57808.65</td><td>0.65271</td><td>37732.28</td><td>List()</td><td>Lucro</td></tr><tr><td>Justin Baker</td><td>2020-07-16T00:00:00.000+0000</td><td>78081.54</td><td>0.10022</td><td>7825.33</td><td>List()</td><td>Lucro</td></tr><tr><td>Daniel Baker</td><td>2020-07-08T00:00:00.000+0000</td><td>54001.57</td><td>0.87668</td><td>47342.1</td><td>List()</td><td>Lucro</td></tr><tr><td>Eric Carney</td><td>2020-06-13T00:00:00.000+0000</td><td>66761.66</td><td>0.36207</td><td>24172.39</td><td>List()</td><td>Lucro</td></tr><tr><td>Anna Henderson</td><td>2020-05-13T00:00:00.000+0000</td><td>82005.72</td><td>1.3936</td><td>114283.17</td><td>List()</td><td>Prejuízo</td></tr><tr><td>Mike Allen</td><td>2020-03-14T00:00:00.000+0000</td><td>79610.52</td><td>1.43602</td><td>114322.3</td><td>List()</td><td>Lucro</td></tr><tr><td>Gina Moore</td><td>2020-02-14T00:00:00.000+0000</td><td>106660.13</td><td>0.01074</td><td>1145.53</td><td>List()</td><td>Prejuízo</td></tr><tr><td>John Whitehead</td><td>2019-12-24T00:00:00.000+0000</td><td>47705.01</td><td>1.00786</td><td>48079.97</td><td>List()</td><td>Lucro</td></tr><tr><td>Kelly Donovan</td><td>2019-12-23T00:00:00.000+0000</td><td>84856.27</td><td>1.17791</td><td>99953.05</td><td>List()</td><td>Prejuízo</td></tr><tr><td>Cassandra Gaines</td><td>2019-10-27T00:00:00.000+0000</td><td>87975.49</td><td>1.29131</td><td>113603.63</td><td>List()</td><td>Prejuízo</td></tr><tr><td>Rebecca Henderson</td><td>2019-10-08T00:00:00.000+0000</td><td>72149.23</td><td>0.80893</td><td>58363.68</td><td>List()</td><td>Lucro</td></tr><tr><td>Noah Rhodes</td><td>2019-10-01T00:00:00.000+0000</td><td>35624.75</td><td>1.10497</td><td>39364.28</td><td>List()</td><td>Lucro</td></tr><tr><td>Donald Wright</td><td>2019-09-02T00:00:00.000+0000</td><td>39493.41</td><td>0.72864</td><td>28776.48</td><td>List()</td><td>Lucro</td></tr><tr><td>Megan Young</td><td>2019-08-27T00:00:00.000+0000</td><td>31641.78</td><td>0.72898</td><td>23066.22</td><td>List()</td><td>Lucro</td></tr><tr><td>Aimee Montoya</td><td>2019-08-22T00:00:00.000+0000</td><td>48264.29</td><td>1.41245</td><td>68170.9</td><td>List()</td><td>Lucro</td></tr><tr><td>Victoria Garcia</td><td>2019-08-01T00:00:00.000+0000</td><td>61190.81</td><td>0.01178</td><td>720.83</td><td>List()</td><td>Lucro</td></tr><tr><td>Cristian Santos</td><td>2019-06-15T00:00:00.000+0000</td><td>36286.26</td><td>0.90343</td><td>32782.1</td><td>List()</td><td>Lucro</td></tr><tr><td>Steve Sanchez</td><td>2019-05-26T00:00:00.000+0000</td><td>80525.53</td><td>1.35376</td><td>109012.24</td><td>List()</td><td>Lucro</td></tr><tr><td>Jessica Smith</td><td>2019-05-24T00:00:00.000+0000</td><td>55411.93</td><td>0.19955</td><td>11057.45</td><td>List()</td><td>Lucro</td></tr><tr><td>Michael Lewis</td><td>2019-05-18T00:00:00.000+0000</td><td>85023.94</td><td>1.13314</td><td>96344.03</td><td>List()</td><td>Prejuízo</td></tr><tr><td>Christina Walters</td><td>2019-04-17T00:00:00.000+0000</td><td>66880.82</td><td>0.47196</td><td>31565.07</td><td>List()</td><td>Lucro</td></tr><tr><td>Paul Jones</td><td>2019-02-17T00:00:00.000+0000</td><td>40769.55</td><td>1.4531</td><td>59242.23</td><td>List()</td><td>Lucro</td></tr><tr><td>Lisa Archer</td><td>2019-02-01T00:00:00.000+0000</td><td>24796.49</td><td>0.10287</td><td>2550.81</td><td>List()</td><td>Lucro</td></tr><tr><td>Anthony Humphrey</td><td>2019-01-02T00:00:00.000+0000</td><td>55537.72</td><td>0.16051</td><td>8914.36</td><td>List()</td><td>Lucro</td></tr><tr><td>Lisa Barnes</td><td>2018-11-06T00:00:00.000+0000</td><td>56591.69</td><td>1.47798</td><td>83641.39</td><td>List()</td><td>Lucro</td></tr><tr><td>John Pierce</td><td>2018-10-24T00:00:00.000+0000</td><td>70386.6</td><td>1.16816</td><td>82222.81</td><td>List()</td><td>Lucro</td></tr><tr><td>Gabrielle Davis</td><td>2018-10-16T00:00:00.000+0000</td><td>84039.99</td><td>0.51104</td><td>42947.8</td><td>List()</td><td>Prejuízo</td></tr><tr><td>Ryan Munoz</td><td>2018-09-29T00:00:00.000+0000</td><td>42516.98</td><td>1.14548</td><td>48702.35</td><td>List()</td><td>Lucro</td></tr><tr><td>Debra Davidson</td><td>2018-03-26T00:00:00.000+0000</td><td>37144.35</td><td>0.24081</td><td>8944.73</td><td>List()</td><td>Lucro</td></tr><tr><td>Whitney Peters</td><td>2018-03-24T00:00:00.000+0000</td><td>45384.44</td><td>0.28612</td><td>12985.4</td><td>List()</td><td>Lucro</td></tr><tr><td>Monica Herrera</td><td>2018-02-23T00:00:00.000+0000</td><td>31976.14</td><td>0.14598</td><td>4667.88</td><td>List()</td><td>Lucro</td></tr><tr><td>Sarah Moore</td><td>2018-02-06T00:00:00.000+0000</td><td>28350.6</td><td>1.49892</td><td>42495.28</td><td>List()</td><td>Lucro</td></tr><tr><td>Carol Tucker</td><td>2018-02-02T00:00:00.000+0000</td><td>80672.52</td><td>0.53209</td><td>42925.04</td><td>List()</td><td>Lucro</td></tr><tr><td>Derek Zuniga</td><td>2017-11-23T00:00:00.000+0000</td><td>112059.4</td><td>1.29986</td><td>145661.53</td><td>List()</td><td>Prejuízo</td></tr><tr><td>Aaron Wise</td><td>2017-10-25T00:00:00.000+0000</td><td>7155.12</td><td>0.93212</td><td>6669.43</td><td>List()</td><td>Lucro</td></tr><tr><td>John Daniel</td><td>2017-09-20T00:00:00.000+0000</td><td>47922.61</td><td>0.88287</td><td>42309.43</td><td>List()</td><td>Lucro</td></tr><tr><td>Jordan Henderson</td><td>2017-09-06T00:00:00.000+0000</td><td>55925.04</td><td>0.50961</td><td>28499.96</td><td>List()</td><td>Lucro</td></tr><tr><td>Christopher Bass</td><td>2017-08-21T00:00:00.000+0000</td><td>125136.58</td><td>0.12109</td><td>15152.79</td><td>List()</td><td>Prejuízo</td></tr><tr><td>Judy Baker</td><td>2017-08-18T00:00:00.000+0000</td><td>34401.96</td><td>0.04912</td><td>1689.82</td><td>List()</td><td>Lucro</td></tr><tr><td>Connor West</td><td>2017-05-09T00:00:00.000+0000</td><td>112594.79</td><td>0.10722</td><td>12072.41</td><td>List()</td><td>Prejuízo</td></tr><tr><td>Angela Lopez</td><td>2017-03-02T00:00:00.000+0000</td><td>126155.54</td><td>1.38962</td><td>175308.26</td><td>List()</td><td>Prejuízo</td></tr><tr><td>Elizabeth Fowler</td><td>2017-02-17T00:00:00.000+0000</td><td>90355.14</td><td>0.17271</td><td>15605.24</td><td>List()</td><td>Prejuízo</td></tr></tbody></table></div>"
      ]
     },
     "metadata": {
      "application/vnd.databricks.v1+output": {
       "addedWidgets": {},
       "aggData": [],
       "aggError": "",
       "aggOverflow": false,
       "aggSchema": [],
       "aggSeriesLimitReached": false,
       "aggType": "",
       "arguments": {},
       "columnCustomDisplayInfos": {},
       "data": [
        [
         "Sherry Decker",
         "2025-01-26T00:00:00.000+0000",
         526338.91,
         0.75138,
         395480.53,
         [],
         "Prejuízo"
        ],
        [
         "Gerald Hensley",
         "2024-12-09T00:00:00.000+0000",
         663110.3,
         0.34418,
         228229.3,
         [],
         "Prejuízo"
        ],
        [
         "Timothy Duncan",
         "2024-09-26T00:00:00.000+0000",
         620115.11,
         0.46826,
         290375.1,
         [],
         "Prejuízo"
        ],
        [
         "Matthew Foster",
         "2024-09-19T00:00:00.000+0000",
         655694.97,
         1.02724,
         673556.1,
         [],
         "Prejuízo"
        ],
        [
         "Jeffrey Chavez",
         "2024-08-19T00:00:00.000+0000",
         642216.0,
         0.09623,
         61800.45,
         [],
         "Prejuízo"
        ],
        [
         "Angie Henderson",
         "2024-08-03T00:00:00.000+0000",
         674066.77,
         0.8185,
         551723.65,
         [],
         "Prejuízo"
        ],
        [
         "William Baker",
         "2024-07-21T00:00:00.000+0000",
         665345.55,
         0.96962,
         645132.35,
         [],
         "Prejuízo"
        ],
        [
         "Richard Aguirre",
         "2024-07-14T00:00:00.000+0000",
         664987.81,
         0.65771,
         437369.13,
         [],
         "Prejuízo"
        ],
        [
         "Margaret Hawkins DDS",
         "2024-07-08T00:00:00.000+0000",
         626697.78,
         1.40505,
         880541.72,
         [],
         "Prejuízo"
        ],
        [
         "Holly Wood",
         "2024-06-01T00:00:00.000+0000",
         622789.83,
         0.43479,
         270782.79,
         [],
         "Prejuízo"
        ],
        [
         "Zachary Hicks",
         "2024-05-08T00:00:00.000+0000",
         649923.13,
         1.32714,
         862538.98,
         [],
         "Prejuízo"
        ],
        [
         "Patty Perez",
         "2024-04-08T00:00:00.000+0000",
         607140.25,
         0.95283,
         578501.44,
         [],
         "Prejuízo"
        ],
        [
         "Anthony Rodriguez",
         "2024-03-18T00:00:00.000+0000",
         645885.19,
         0.39806,
         257101.06,
         [],
         "Prejuízo"
        ],
        [
         "Allison Hill",
         "2024-03-04T00:00:00.000+0000",
         611133.11,
         1.11258,
         679934.48,
         [],
         "Prejuízo"
        ],
        [
         "Dylan Miller",
         "2024-01-19T00:00:00.000+0000",
         661851.98,
         1.2927,
         855576.05,
         [],
         "Prejuízo"
        ],
        [
         "Angelica Tucker",
         "2024-01-06T00:00:00.000+0000",
         629844.48,
         0.95879,
         603888.59,
         [],
         "Prejuízo"
        ],
        [
         "Brian Rodriguez",
         "2023-12-12T00:00:00.000+0000",
         206234.69,
         0.9864,
         203429.9,
         [],
         "Prejuízo"
        ],
        [
         "Philip Cannon",
         "2023-10-31T00:00:00.000+0000",
         243651.55,
         0.5615,
         136810.35,
         [],
         "Prejuízo"
        ],
        [
         "Daniel Wagner",
         "2023-08-16T00:00:00.000+0000",
         315014.98,
         0.04567,
         14386.73,
         [],
         "Prejuízo"
        ],
        [
         "James Ferrell",
         "2023-07-23T00:00:00.000+0000",
         317098.82,
         0.87572,
         277689.78,
         [],
         "Prejuízo"
        ],
        [
         "Zachary Ferrell",
         "2023-07-01T00:00:00.000+0000",
         415435.9,
         0.09238,
         38377.97,
         [],
         "Prejuízo"
        ],
        [
         "Brian Ramirez",
         "2023-06-23T00:00:00.000+0000",
         241532.35,
         0.10526,
         25423.7,
         [],
         "Prejuízo"
        ],
        [
         "Amber Kidd",
         "2023-05-28T00:00:00.000+0000",
         364387.73,
         0.36525,
         133092.62,
         [],
         "Prejuízo"
        ],
        [
         "Matthew Mcmillan",
         "2023-05-23T00:00:00.000+0000",
         258788.91,
         0.89218,
         230886.29,
         [],
         "Prejuízo"
        ],
        [
         "Stephanie Ross",
         "2023-05-13T00:00:00.000+0000",
         460437.64,
         0.4727,
         217648.87,
         [],
         "Prejuízo"
        ],
        [
         "Jessica Holmes",
         "2023-05-13T00:00:00.000+0000",
         483023.82,
         0.12939,
         62498.45,
         [],
         "Prejuízo"
        ],
        [
         "Denise Jacobs",
         "2023-05-05T00:00:00.000+0000",
         347290.47,
         1.40212,
         486942.91,
         [],
         "Prejuízo"
        ],
        [
         "Deborah Figueroa",
         "2023-04-26T00:00:00.000+0000",
         498750.86,
         0.11082,
         55271.57,
         [],
         "Prejuízo"
        ],
        [
         "Connie Lawrence",
         "2023-04-18T00:00:00.000+0000",
         243628.05,
         0.97518,
         237581.2,
         [],
         "Prejuízo"
        ],
        [
         "Michael Evans",
         "2023-03-27T00:00:00.000+0000",
         391798.82,
         0.73052,
         286216.87,
         [],
         "Prejuízo"
        ],
        [
         "Abigail Shaffer",
         "2023-02-11T00:00:00.000+0000",
         314246.34,
         0.67436,
         211915.16,
         [],
         "Prejuízo"
        ],
        [
         "Jessica Callahan",
         "2023-01-18T00:00:00.000+0000",
         222339.79,
         1.40334,
         312018.32,
         [],
         "Prejuízo"
        ],
        [
         "Brittany Farmer",
         "2023-01-09T00:00:00.000+0000",
         420280.9,
         1.15313,
         484638.51,
         [],
         "Prejuízo"
        ],
        [
         "Ethan Adams",
         "2022-12-28T00:00:00.000+0000",
         353320.58,
         0.24594,
         86895.66,
         [],
         "Prejuízo"
        ],
        [
         "Crystal Robinson",
         "2022-12-22T00:00:00.000+0000",
         365067.02,
         0.19346,
         70625.87,
         [],
         "Prejuízo"
        ],
        [
         "Shane Henderson",
         "2022-12-13T00:00:00.000+0000",
         413917.92,
         0.89882,
         372037.7,
         [],
         "Prejuízo"
        ],
        [
         "Shannon Jones",
         "2022-12-02T00:00:00.000+0000",
         399178.57,
         0.63528,
         253590.16,
         [],
         "Prejuízo"
        ],
        [
         "Brent Jordan",
         "2022-10-21T00:00:00.000+0000",
         264475.57,
         0.37261,
         98546.24,
         [],
         "Prejuízo"
        ],
        [
         "Nathan Maldonado",
         "2022-09-19T00:00:00.000+0000",
         277925.07,
         1.13392,
         315144.8,
         [],
         "Prejuízo"
        ],
        [
         "Shirley Suarez",
         "2022-08-22T00:00:00.000+0000",
         414203.88,
         0.79716,
         330186.76,
         [],
         "Prejuízo"
        ],
        [
         "Joshua Blair",
         "2022-06-25T00:00:00.000+0000",
         126232.56,
         1.39372,
         175932.84,
         [],
         "Prejuízo"
        ],
        [
         "Danny Morgan",
         "2022-06-14T00:00:00.000+0000",
         381127.44,
         1.467,
         559113.95,
         [],
         "Prejuízo"
        ],
        [
         "Mark Perez",
         "2022-05-01T00:00:00.000+0000",
         422991.58,
         0.24853,
         105126.1,
         [],
         "Prejuízo"
        ],
        [
         "Tracy House",
         "2022-04-22T00:00:00.000+0000",
         378399.04,
         0.28642,
         108381.05,
         [],
         "Prejuízo"
        ],
        [
         "Lauren Daniels",
         "2022-03-10T00:00:00.000+0000",
         199938.06,
         1.38498,
         276910.21,
         [],
         "Prejuízo"
        ],
        [
         "Lisa Hensley",
         "2022-02-25T00:00:00.000+0000",
         291592.99,
         1.4597,
         425638.29,
         [],
         "Prejuízo"
        ],
        [
         "Fred Smith",
         "2022-02-02T00:00:00.000+0000",
         121038.5,
         1.08342,
         131135.53,
         [],
         "Prejuízo"
        ],
        [
         "Brittney Phillips",
         "2022-01-12T00:00:00.000+0000",
         164858.34,
         0.27605,
         45509.14,
         [],
         "Prejuízo"
        ],
        [
         "Amy Silva",
         "2021-12-21T00:00:00.000+0000",
         577134.24,
         1.28409,
         741092.31,
         [],
         "Prejuízo"
        ],
        [
         "James Brown",
         "2021-08-11T00:00:00.000+0000",
         358895.79,
         1.09388,
         392588.93,
         [],
         "Prejuízo"
        ],
        [
         "Sherri Baker",
         "2021-04-13T00:00:00.000+0000",
         441368.59,
         0.70261,
         310109.99,
         [],
         "Prejuízo"
        ],
        [
         "Lisa Jackson",
         "2021-04-06T00:00:00.000+0000",
         237903.11,
         0.95389,
         226933.4,
         [],
         "Prejuízo"
        ],
        [
         "Tommy Walter",
         "2021-04-04T00:00:00.000+0000",
         232766.61,
         1.38816,
         323117.3,
         [],
         "Prejuízo"
        ],
        [
         "Michele Williams",
         "2021-03-31T00:00:00.000+0000",
         110432.13,
         0.44047,
         48642.04,
         [],
         "Prejuízo"
        ],
        [
         "Carla Gray",
         "2021-02-03T00:00:00.000+0000",
         164098.62,
         0.53355,
         87554.82,
         [],
         "Prejuízo"
        ],
        [
         "Tricia Valencia",
         "2021-01-22T00:00:00.000+0000",
         200365.29,
         1.49631,
         299808.59,
         [],
         "Prejuízo"
        ],
        [
         "Stephen Mckee",
         "2020-11-30T00:00:00.000+0000",
         111660.49,
         1.31903,
         147283.54,
         [],
         "Prejuízo"
        ],
        [
         "Jamie Arnold",
         "2020-11-09T00:00:00.000+0000",
         92260.82,
         1.21089,
         111717.7,
         [],
         "Prejuízo"
        ],
        [
         "Paula Moreno",
         "2020-10-25T00:00:00.000+0000",
         57808.65,
         0.65271,
         37732.28,
         [],
         "Lucro"
        ],
        [
         "Justin Baker",
         "2020-07-16T00:00:00.000+0000",
         78081.54,
         0.10022,
         7825.33,
         [],
         "Lucro"
        ],
        [
         "Daniel Baker",
         "2020-07-08T00:00:00.000+0000",
         54001.57,
         0.87668,
         47342.1,
         [],
         "Lucro"
        ],
        [
         "Eric Carney",
         "2020-06-13T00:00:00.000+0000",
         66761.66,
         0.36207,
         24172.39,
         [],
         "Lucro"
        ],
        [
         "Anna Henderson",
         "2020-05-13T00:00:00.000+0000",
         82005.72,
         1.3936,
         114283.17,
         [],
         "Prejuízo"
        ],
        [
         "Mike Allen",
         "2020-03-14T00:00:00.000+0000",
         79610.52,
         1.43602,
         114322.3,
         [],
         "Lucro"
        ],
        [
         "Gina Moore",
         "2020-02-14T00:00:00.000+0000",
         106660.13,
         0.01074,
         1145.53,
         [],
         "Prejuízo"
        ],
        [
         "John Whitehead",
         "2019-12-24T00:00:00.000+0000",
         47705.01,
         1.00786,
         48079.97,
         [],
         "Lucro"
        ],
        [
         "Kelly Donovan",
         "2019-12-23T00:00:00.000+0000",
         84856.27,
         1.17791,
         99953.05,
         [],
         "Prejuízo"
        ],
        [
         "Cassandra Gaines",
         "2019-10-27T00:00:00.000+0000",
         87975.49,
         1.29131,
         113603.63,
         [],
         "Prejuízo"
        ],
        [
         "Rebecca Henderson",
         "2019-10-08T00:00:00.000+0000",
         72149.23,
         0.80893,
         58363.68,
         [],
         "Lucro"
        ],
        [
         "Noah Rhodes",
         "2019-10-01T00:00:00.000+0000",
         35624.75,
         1.10497,
         39364.28,
         [],
         "Lucro"
        ],
        [
         "Donald Wright",
         "2019-09-02T00:00:00.000+0000",
         39493.41,
         0.72864,
         28776.48,
         [],
         "Lucro"
        ],
        [
         "Megan Young",
         "2019-08-27T00:00:00.000+0000",
         31641.78,
         0.72898,
         23066.22,
         [],
         "Lucro"
        ],
        [
         "Aimee Montoya",
         "2019-08-22T00:00:00.000+0000",
         48264.29,
         1.41245,
         68170.9,
         [],
         "Lucro"
        ],
        [
         "Victoria Garcia",
         "2019-08-01T00:00:00.000+0000",
         61190.81,
         0.01178,
         720.83,
         [],
         "Lucro"
        ],
        [
         "Cristian Santos",
         "2019-06-15T00:00:00.000+0000",
         36286.26,
         0.90343,
         32782.1,
         [],
         "Lucro"
        ],
        [
         "Steve Sanchez",
         "2019-05-26T00:00:00.000+0000",
         80525.53,
         1.35376,
         109012.24,
         [],
         "Lucro"
        ],
        [
         "Jessica Smith",
         "2019-05-24T00:00:00.000+0000",
         55411.93,
         0.19955,
         11057.45,
         [],
         "Lucro"
        ],
        [
         "Michael Lewis",
         "2019-05-18T00:00:00.000+0000",
         85023.94,
         1.13314,
         96344.03,
         [],
         "Prejuízo"
        ],
        [
         "Christina Walters",
         "2019-04-17T00:00:00.000+0000",
         66880.82,
         0.47196,
         31565.07,
         [],
         "Lucro"
        ],
        [
         "Paul Jones",
         "2019-02-17T00:00:00.000+0000",
         40769.55,
         1.4531,
         59242.23,
         [],
         "Lucro"
        ],
        [
         "Lisa Archer",
         "2019-02-01T00:00:00.000+0000",
         24796.49,
         0.10287,
         2550.81,
         [],
         "Lucro"
        ],
        [
         "Anthony Humphrey",
         "2019-01-02T00:00:00.000+0000",
         55537.72,
         0.16051,
         8914.36,
         [],
         "Lucro"
        ],
        [
         "Lisa Barnes",
         "2018-11-06T00:00:00.000+0000",
         56591.69,
         1.47798,
         83641.39,
         [],
         "Lucro"
        ],
        [
         "John Pierce",
         "2018-10-24T00:00:00.000+0000",
         70386.6,
         1.16816,
         82222.81,
         [],
         "Lucro"
        ],
        [
         "Gabrielle Davis",
         "2018-10-16T00:00:00.000+0000",
         84039.99,
         0.51104,
         42947.8,
         [],
         "Prejuízo"
        ],
        [
         "Ryan Munoz",
         "2018-09-29T00:00:00.000+0000",
         42516.98,
         1.14548,
         48702.35,
         [],
         "Lucro"
        ],
        [
         "Debra Davidson",
         "2018-03-26T00:00:00.000+0000",
         37144.35,
         0.24081,
         8944.73,
         [],
         "Lucro"
        ],
        [
         "Whitney Peters",
         "2018-03-24T00:00:00.000+0000",
         45384.44,
         0.28612,
         12985.4,
         [],
         "Lucro"
        ],
        [
         "Monica Herrera",
         "2018-02-23T00:00:00.000+0000",
         31976.14,
         0.14598,
         4667.88,
         [],
         "Lucro"
        ],
        [
         "Sarah Moore",
         "2018-02-06T00:00:00.000+0000",
         28350.6,
         1.49892,
         42495.28,
         [],
         "Lucro"
        ],
        [
         "Carol Tucker",
         "2018-02-02T00:00:00.000+0000",
         80672.52,
         0.53209,
         42925.04,
         [],
         "Lucro"
        ],
        [
         "Derek Zuniga",
         "2017-11-23T00:00:00.000+0000",
         112059.4,
         1.29986,
         145661.53,
         [],
         "Prejuízo"
        ],
        [
         "Aaron Wise",
         "2017-10-25T00:00:00.000+0000",
         7155.12,
         0.93212,
         6669.43,
         [],
         "Lucro"
        ],
        [
         "John Daniel",
         "2017-09-20T00:00:00.000+0000",
         47922.61,
         0.88287,
         42309.43,
         [],
         "Lucro"
        ],
        [
         "Jordan Henderson",
         "2017-09-06T00:00:00.000+0000",
         55925.04,
         0.50961,
         28499.96,
         [],
         "Lucro"
        ],
        [
         "Christopher Bass",
         "2017-08-21T00:00:00.000+0000",
         125136.58,
         0.12109,
         15152.79,
         [],
         "Prejuízo"
        ],
        [
         "Judy Baker",
         "2017-08-18T00:00:00.000+0000",
         34401.96,
         0.04912,
         1689.82,
         [],
         "Lucro"
        ],
        [
         "Connor West",
         "2017-05-09T00:00:00.000+0000",
         112594.79,
         0.10722,
         12072.41,
         [],
         "Prejuízo"
        ],
        [
         "Angela Lopez",
         "2017-03-02T00:00:00.000+0000",
         126155.54,
         1.38962,
         175308.26,
         [],
         "Prejuízo"
        ],
        [
         "Elizabeth Fowler",
         "2017-02-17T00:00:00.000+0000",
         90355.14,
         0.17271,
         15605.24,
         [],
         "Prejuízo"
        ]
       ],
       "datasetInfos": [],
       "dbfsResultPath": null,
       "isJsonSchema": true,
       "metadata": {},
       "overflow": false,
       "plotOptions": {
        "customPlotOptions": {},
        "displayType": "table",
        "pivotAggregation": null,
        "pivotColumns": null,
        "xColumns": null,
        "yColumns": null
       },
       "removedWidgets": [],
       "schema": [
        {
         "metadata": "{}",
         "name": "cliente",
         "type": "\"string\""
        },
        {
         "metadata": "{}",
         "name": "data_compra",
         "type": "\"timestamp\""
        },
        {
         "metadata": "{}",
         "name": "preco_btc",
         "type": "\"double\""
        },
        {
         "metadata": "{}",
         "name": "quantidade_btc",
         "type": "\"double\""
        },
        {
         "metadata": "{}",
         "name": "Total_Compra",
         "type": "\"double\""
        },
        {
         "metadata": "{}",
         "name": "mes_compra",
         "type": "{\"type\":\"struct\",\"fields\":[]}"
        },
        {
         "metadata": "{}",
         "name": "resultado_operacao",
         "type": "\"string\""
        }
       ],
       "type": "table"
      }
     },
     "output_type": "display_data"
    }
   ],
   "source": [
    "def verificar_lucro(preco_compra):\n",
    "    if preco_compra < preco_atual_btc:\n",
    "        return \"Lucro\"\n",
    "    else:\n",
    "        return \"Prejuízo\"\n",
    "    \n",
    "df['resultado_operacao'] = df['preco_btc'].apply(verificar_lucro)\n",
    "\n",
    "display(df)"
   ]
  },
  {
   "cell_type": "markdown",
   "metadata": {
    "application/vnd.databricks.v1+cell": {
     "cellMetadata": {
      "byteLimit": 2048000,
      "rowLimit": 10000
     },
     "inputWidgets": {},
     "nuid": "eb25a0bd-968f-4de8-9fe8-71c6f09abbff",
     "showTitle": false,
     "tableResultSettingsMap": {},
     "title": ""
    }
   },
   "source": [
    "# Gráficos"
   ]
  },
  {
   "cell_type": "code",
   "execution_count": 0,
   "metadata": {
    "application/vnd.databricks.v1+cell": {
     "cellMetadata": {
      "byteLimit": 2048000,
      "rowLimit": 10000
     },
     "inputWidgets": {},
     "nuid": "f6ecc67d-5228-4a81-8c52-f1e1b4007a18",
     "showTitle": false,
     "tableResultSettingsMap": {},
     "title": ""
    }
   },
   "outputs": [
    {
     "output_type": "display_data",
     "data": {
      "text/html": [
       "<html>\n",
       "<head><meta charset=\"utf-8\" /></head>\n",
       "<body>\n",
       "    <div>            <script src=\"https://cdnjs.cloudflare.com/ajax/libs/mathjax/2.7.5/MathJax.js?config=TeX-AMS-MML_SVG\"></script><script type=\"text/javascript\">if (window.MathJax) {MathJax.Hub.Config({SVG: {font: \"STIX-Web\"}});}</script>                <script type=\"text/javascript\">window.PlotlyConfig = {MathJaxConfig: 'local'};</script>\n",
       "        <script src=\"https://cdn.plot.ly/plotly-2.9.0.min.js\"></script>                <div id=\"5766e6e4-9646-49e0-9168-24f097a2ceac\" class=\"plotly-graph-div\" style=\"height:100%; width:100%;\"></div>            <script type=\"text/javascript\">                                    window.PLOTLYENV=window.PLOTLYENV || {};                                    if (document.getElementById(\"5766e6e4-9646-49e0-9168-24f097a2ceac\")) {                    Plotly.newPlot(                        \"5766e6e4-9646-49e0-9168-24f097a2ceac\",                        [{\"alignmentgroup\":\"True\",\"hovertemplate\":\"M\\u00eas=%{x}<br>Total de Compras=%{y}<extra></extra>\",\"legendgroup\":\"\",\"marker\":{\"color\":\"#636efa\",\"pattern\":{\"shape\":\"\"}},\"name\":\"\",\"offsetgroup\":\"\",\"orientation\":\"v\",\"showlegend\":false,\"textposition\":\"auto\",\"texttemplate\":\"%{y}\",\"x\":[\"2017-02\",\"2017-03\",\"2017-05\",\"2017-08\",\"2017-09\",\"2017-10\",\"2017-11\",\"2018-02\",\"2018-03\",\"2018-09\",\"2018-10\",\"2018-11\",\"2019-01\",\"2019-02\",\"2019-04\",\"2019-05\",\"2019-06\",\"2019-08\",\"2019-09\",\"2019-10\",\"2019-12\",\"2020-02\",\"2020-03\",\"2020-05\",\"2020-06\",\"2020-07\",\"2020-10\",\"2020-11\",\"2021-01\",\"2021-02\",\"2021-03\",\"2021-04\",\"2021-08\",\"2021-12\",\"2022-01\",\"2022-02\",\"2022-03\",\"2022-04\",\"2022-05\",\"2022-06\",\"2022-08\",\"2022-09\",\"2022-10\",\"2022-12\",\"2023-01\",\"2023-02\",\"2023-03\",\"2023-04\",\"2023-05\",\"2023-06\",\"2023-07\",\"2023-08\",\"2023-10\",\"2023-12\",\"2024-01\",\"2024-03\",\"2024-04\",\"2024-05\",\"2024-06\",\"2024-07\",\"2024-08\",\"2024-09\",\"2024-12\",\"2025-01\"],\"xaxis\":\"x\",\"y\":[15605.24,175308.26,12072.41,16842.61,70809.39,6669.43,145661.53,90088.2,21930.129999999997,48702.35,125170.61,83641.39,8914.36,61793.04,31565.07,216413.72,32782.1,91957.95,28776.48,211331.59,148033.02000000002,1145.53,114322.3,114283.17,24172.39,55167.43,37732.28,259001.24,299808.59,87554.82,48642.04,860160.69,392588.93,741092.31,45509.14,556773.82,276910.21,108381.05,105126.1,735046.7899999999,330186.76,315144.8,98546.24,783149.39,796656.8300000001,211915.16,286216.87,292852.77,1131069.14,25423.7,316067.75,14386.73,136810.35,203429.9,1459464.6400000001,937035.54,578501.44,862538.98,270782.79,1963043.2,613524.1,963931.2,228229.3,395480.53],\"yaxis\":\"y\",\"type\":\"bar\"}],                        {\"template\":{\"data\":{\"bar\":[{\"error_x\":{\"color\":\"#2a3f5f\"},\"error_y\":{\"color\":\"#2a3f5f\"},\"marker\":{\"line\":{\"color\":\"#E5ECF6\",\"width\":0.5},\"pattern\":{\"fillmode\":\"overlay\",\"size\":10,\"solidity\":0.2}},\"type\":\"bar\"}],\"barpolar\":[{\"marker\":{\"line\":{\"color\":\"#E5ECF6\",\"width\":0.5},\"pattern\":{\"fillmode\":\"overlay\",\"size\":10,\"solidity\":0.2}},\"type\":\"barpolar\"}],\"carpet\":[{\"aaxis\":{\"endlinecolor\":\"#2a3f5f\",\"gridcolor\":\"white\",\"linecolor\":\"white\",\"minorgridcolor\":\"white\",\"startlinecolor\":\"#2a3f5f\"},\"baxis\":{\"endlinecolor\":\"#2a3f5f\",\"gridcolor\":\"white\",\"linecolor\":\"white\",\"minorgridcolor\":\"white\",\"startlinecolor\":\"#2a3f5f\"},\"type\":\"carpet\"}],\"choropleth\":[{\"colorbar\":{\"outlinewidth\":0,\"ticks\":\"\"},\"type\":\"choropleth\"}],\"contour\":[{\"colorbar\":{\"outlinewidth\":0,\"ticks\":\"\"},\"colorscale\":[[0.0,\"#0d0887\"],[0.1111111111111111,\"#46039f\"],[0.2222222222222222,\"#7201a8\"],[0.3333333333333333,\"#9c179e\"],[0.4444444444444444,\"#bd3786\"],[0.5555555555555556,\"#d8576b\"],[0.6666666666666666,\"#ed7953\"],[0.7777777777777778,\"#fb9f3a\"],[0.8888888888888888,\"#fdca26\"],[1.0,\"#f0f921\"]],\"type\":\"contour\"}],\"contourcarpet\":[{\"colorbar\":{\"outlinewidth\":0,\"ticks\":\"\"},\"type\":\"contourcarpet\"}],\"heatmap\":[{\"colorbar\":{\"outlinewidth\":0,\"ticks\":\"\"},\"colorscale\":[[0.0,\"#0d0887\"],[0.1111111111111111,\"#46039f\"],[0.2222222222222222,\"#7201a8\"],[0.3333333333333333,\"#9c179e\"],[0.4444444444444444,\"#bd3786\"],[0.5555555555555556,\"#d8576b\"],[0.6666666666666666,\"#ed7953\"],[0.7777777777777778,\"#fb9f3a\"],[0.8888888888888888,\"#fdca26\"],[1.0,\"#f0f921\"]],\"type\":\"heatmap\"}],\"heatmapgl\":[{\"colorbar\":{\"outlinewidth\":0,\"ticks\":\"\"},\"colorscale\":[[0.0,\"#0d0887\"],[0.1111111111111111,\"#46039f\"],[0.2222222222222222,\"#7201a8\"],[0.3333333333333333,\"#9c179e\"],[0.4444444444444444,\"#bd3786\"],[0.5555555555555556,\"#d8576b\"],[0.6666666666666666,\"#ed7953\"],[0.7777777777777778,\"#fb9f3a\"],[0.8888888888888888,\"#fdca26\"],[1.0,\"#f0f921\"]],\"type\":\"heatmapgl\"}],\"histogram\":[{\"marker\":{\"pattern\":{\"fillmode\":\"overlay\",\"size\":10,\"solidity\":0.2}},\"type\":\"histogram\"}],\"histogram2d\":[{\"colorbar\":{\"outlinewidth\":0,\"ticks\":\"\"},\"colorscale\":[[0.0,\"#0d0887\"],[0.1111111111111111,\"#46039f\"],[0.2222222222222222,\"#7201a8\"],[0.3333333333333333,\"#9c179e\"],[0.4444444444444444,\"#bd3786\"],[0.5555555555555556,\"#d8576b\"],[0.6666666666666666,\"#ed7953\"],[0.7777777777777778,\"#fb9f3a\"],[0.8888888888888888,\"#fdca26\"],[1.0,\"#f0f921\"]],\"type\":\"histogram2d\"}],\"histogram2dcontour\":[{\"colorbar\":{\"outlinewidth\":0,\"ticks\":\"\"},\"colorscale\":[[0.0,\"#0d0887\"],[0.1111111111111111,\"#46039f\"],[0.2222222222222222,\"#7201a8\"],[0.3333333333333333,\"#9c179e\"],[0.4444444444444444,\"#bd3786\"],[0.5555555555555556,\"#d8576b\"],[0.6666666666666666,\"#ed7953\"],[0.7777777777777778,\"#fb9f3a\"],[0.8888888888888888,\"#fdca26\"],[1.0,\"#f0f921\"]],\"type\":\"histogram2dcontour\"}],\"mesh3d\":[{\"colorbar\":{\"outlinewidth\":0,\"ticks\":\"\"},\"type\":\"mesh3d\"}],\"parcoords\":[{\"line\":{\"colorbar\":{\"outlinewidth\":0,\"ticks\":\"\"}},\"type\":\"parcoords\"}],\"pie\":[{\"automargin\":true,\"type\":\"pie\"}],\"scatter\":[{\"marker\":{\"colorbar\":{\"outlinewidth\":0,\"ticks\":\"\"}},\"type\":\"scatter\"}],\"scatter3d\":[{\"line\":{\"colorbar\":{\"outlinewidth\":0,\"ticks\":\"\"}},\"marker\":{\"colorbar\":{\"outlinewidth\":0,\"ticks\":\"\"}},\"type\":\"scatter3d\"}],\"scattercarpet\":[{\"marker\":{\"colorbar\":{\"outlinewidth\":0,\"ticks\":\"\"}},\"type\":\"scattercarpet\"}],\"scattergeo\":[{\"marker\":{\"colorbar\":{\"outlinewidth\":0,\"ticks\":\"\"}},\"type\":\"scattergeo\"}],\"scattergl\":[{\"marker\":{\"colorbar\":{\"outlinewidth\":0,\"ticks\":\"\"}},\"type\":\"scattergl\"}],\"scattermapbox\":[{\"marker\":{\"colorbar\":{\"outlinewidth\":0,\"ticks\":\"\"}},\"type\":\"scattermapbox\"}],\"scatterpolar\":[{\"marker\":{\"colorbar\":{\"outlinewidth\":0,\"ticks\":\"\"}},\"type\":\"scatterpolar\"}],\"scatterpolargl\":[{\"marker\":{\"colorbar\":{\"outlinewidth\":0,\"ticks\":\"\"}},\"type\":\"scatterpolargl\"}],\"scatterternary\":[{\"marker\":{\"colorbar\":{\"outlinewidth\":0,\"ticks\":\"\"}},\"type\":\"scatterternary\"}],\"surface\":[{\"colorbar\":{\"outlinewidth\":0,\"ticks\":\"\"},\"colorscale\":[[0.0,\"#0d0887\"],[0.1111111111111111,\"#46039f\"],[0.2222222222222222,\"#7201a8\"],[0.3333333333333333,\"#9c179e\"],[0.4444444444444444,\"#bd3786\"],[0.5555555555555556,\"#d8576b\"],[0.6666666666666666,\"#ed7953\"],[0.7777777777777778,\"#fb9f3a\"],[0.8888888888888888,\"#fdca26\"],[1.0,\"#f0f921\"]],\"type\":\"surface\"}],\"table\":[{\"cells\":{\"fill\":{\"color\":\"#EBF0F8\"},\"line\":{\"color\":\"white\"}},\"header\":{\"fill\":{\"color\":\"#C8D4E3\"},\"line\":{\"color\":\"white\"}},\"type\":\"table\"}]},\"layout\":{\"annotationdefaults\":{\"arrowcolor\":\"#2a3f5f\",\"arrowhead\":0,\"arrowwidth\":1},\"autotypenumbers\":\"strict\",\"coloraxis\":{\"colorbar\":{\"outlinewidth\":0,\"ticks\":\"\"}},\"colorscale\":{\"diverging\":[[0,\"#8e0152\"],[0.1,\"#c51b7d\"],[0.2,\"#de77ae\"],[0.3,\"#f1b6da\"],[0.4,\"#fde0ef\"],[0.5,\"#f7f7f7\"],[0.6,\"#e6f5d0\"],[0.7,\"#b8e186\"],[0.8,\"#7fbc41\"],[0.9,\"#4d9221\"],[1,\"#276419\"]],\"sequential\":[[0.0,\"#0d0887\"],[0.1111111111111111,\"#46039f\"],[0.2222222222222222,\"#7201a8\"],[0.3333333333333333,\"#9c179e\"],[0.4444444444444444,\"#bd3786\"],[0.5555555555555556,\"#d8576b\"],[0.6666666666666666,\"#ed7953\"],[0.7777777777777778,\"#fb9f3a\"],[0.8888888888888888,\"#fdca26\"],[1.0,\"#f0f921\"]],\"sequentialminus\":[[0.0,\"#0d0887\"],[0.1111111111111111,\"#46039f\"],[0.2222222222222222,\"#7201a8\"],[0.3333333333333333,\"#9c179e\"],[0.4444444444444444,\"#bd3786\"],[0.5555555555555556,\"#d8576b\"],[0.6666666666666666,\"#ed7953\"],[0.7777777777777778,\"#fb9f3a\"],[0.8888888888888888,\"#fdca26\"],[1.0,\"#f0f921\"]]},\"colorway\":[\"#636efa\",\"#EF553B\",\"#00cc96\",\"#ab63fa\",\"#FFA15A\",\"#19d3f3\",\"#FF6692\",\"#B6E880\",\"#FF97FF\",\"#FECB52\"],\"font\":{\"color\":\"#2a3f5f\"},\"geo\":{\"bgcolor\":\"white\",\"lakecolor\":\"white\",\"landcolor\":\"#E5ECF6\",\"showlakes\":true,\"showland\":true,\"subunitcolor\":\"white\"},\"hoverlabel\":{\"align\":\"left\"},\"hovermode\":\"closest\",\"mapbox\":{\"style\":\"light\"},\"paper_bgcolor\":\"white\",\"plot_bgcolor\":\"#E5ECF6\",\"polar\":{\"angularaxis\":{\"gridcolor\":\"white\",\"linecolor\":\"white\",\"ticks\":\"\"},\"bgcolor\":\"#E5ECF6\",\"radialaxis\":{\"gridcolor\":\"white\",\"linecolor\":\"white\",\"ticks\":\"\"}},\"scene\":{\"xaxis\":{\"backgroundcolor\":\"#E5ECF6\",\"gridcolor\":\"white\",\"gridwidth\":2,\"linecolor\":\"white\",\"showbackground\":true,\"ticks\":\"\",\"zerolinecolor\":\"white\"},\"yaxis\":{\"backgroundcolor\":\"#E5ECF6\",\"gridcolor\":\"white\",\"gridwidth\":2,\"linecolor\":\"white\",\"showbackground\":true,\"ticks\":\"\",\"zerolinecolor\":\"white\"},\"zaxis\":{\"backgroundcolor\":\"#E5ECF6\",\"gridcolor\":\"white\",\"gridwidth\":2,\"linecolor\":\"white\",\"showbackground\":true,\"ticks\":\"\",\"zerolinecolor\":\"white\"}},\"shapedefaults\":{\"line\":{\"color\":\"#2a3f5f\"}},\"ternary\":{\"aaxis\":{\"gridcolor\":\"white\",\"linecolor\":\"white\",\"ticks\":\"\"},\"baxis\":{\"gridcolor\":\"white\",\"linecolor\":\"white\",\"ticks\":\"\"},\"bgcolor\":\"#E5ECF6\",\"caxis\":{\"gridcolor\":\"white\",\"linecolor\":\"white\",\"ticks\":\"\"}},\"title\":{\"x\":0.05},\"xaxis\":{\"automargin\":true,\"gridcolor\":\"white\",\"linecolor\":\"white\",\"ticks\":\"\",\"title\":{\"standoff\":15},\"zerolinecolor\":\"white\",\"zerolinewidth\":2},\"yaxis\":{\"automargin\":true,\"gridcolor\":\"white\",\"linecolor\":\"white\",\"ticks\":\"\",\"title\":{\"standoff\":15},\"zerolinecolor\":\"white\",\"zerolinewidth\":2}}},\"xaxis\":{\"anchor\":\"y\",\"domain\":[0.0,1.0],\"title\":{\"text\":\"M\\u00eas\"}},\"yaxis\":{\"anchor\":\"x\",\"domain\":[0.0,1.0],\"title\":{\"text\":\"Total de Compras\"}},\"legend\":{\"tracegroupgap\":0},\"title\":{\"text\":\"Total de Compras por M\\u00eas\"},\"barmode\":\"relative\"},                        {\"responsive\": true}                    )                };                            </script>        </div>\n",
       "</body>\n",
       "</html>"
      ]
     },
     "metadata": {
      "application/vnd.databricks.v1+output": {
       "addedWidgets": {},
       "arguments": {},
       "data": "<html>\n<head><meta charset=\"utf-8\" /></head>\n<body>\n    <div>            <script src=\"https://cdnjs.cloudflare.com/ajax/libs/mathjax/2.7.5/MathJax.js?config=TeX-AMS-MML_SVG\"></script><script type=\"text/javascript\">if (window.MathJax) {MathJax.Hub.Config({SVG: {font: \"STIX-Web\"}});}</script>                <script type=\"text/javascript\">window.PlotlyConfig = {MathJaxConfig: 'local'};</script>\n        <script src=\"https://cdn.plot.ly/plotly-2.9.0.min.js\"></script>                <div id=\"5766e6e4-9646-49e0-9168-24f097a2ceac\" class=\"plotly-graph-div\" style=\"height:100%; width:100%;\"></div>            <script type=\"text/javascript\">                                    window.PLOTLYENV=window.PLOTLYENV || {};                                    if (document.getElementById(\"5766e6e4-9646-49e0-9168-24f097a2ceac\")) {                    Plotly.newPlot(                        \"5766e6e4-9646-49e0-9168-24f097a2ceac\",                        [{\"alignmentgroup\":\"True\",\"hovertemplate\":\"M\\u00eas=%{x}<br>Total de Compras=%{y}<extra></extra>\",\"legendgroup\":\"\",\"marker\":{\"color\":\"#636efa\",\"pattern\":{\"shape\":\"\"}},\"name\":\"\",\"offsetgroup\":\"\",\"orientation\":\"v\",\"showlegend\":false,\"textposition\":\"auto\",\"texttemplate\":\"%{y}\",\"x\":[\"2017-02\",\"2017-03\",\"2017-05\",\"2017-08\",\"2017-09\",\"2017-10\",\"2017-11\",\"2018-02\",\"2018-03\",\"2018-09\",\"2018-10\",\"2018-11\",\"2019-01\",\"2019-02\",\"2019-04\",\"2019-05\",\"2019-06\",\"2019-08\",\"2019-09\",\"2019-10\",\"2019-12\",\"2020-02\",\"2020-03\",\"2020-05\",\"2020-06\",\"2020-07\",\"2020-10\",\"2020-11\",\"2021-01\",\"2021-02\",\"2021-03\",\"2021-04\",\"2021-08\",\"2021-12\",\"2022-01\",\"2022-02\",\"2022-03\",\"2022-04\",\"2022-05\",\"2022-06\",\"2022-08\",\"2022-09\",\"2022-10\",\"2022-12\",\"2023-01\",\"2023-02\",\"2023-03\",\"2023-04\",\"2023-05\",\"2023-06\",\"2023-07\",\"2023-08\",\"2023-10\",\"2023-12\",\"2024-01\",\"2024-03\",\"2024-04\",\"2024-05\",\"2024-06\",\"2024-07\",\"2024-08\",\"2024-09\",\"2024-12\",\"2025-01\"],\"xaxis\":\"x\",\"y\":[15605.24,175308.26,12072.41,16842.61,70809.39,6669.43,145661.53,90088.2,21930.129999999997,48702.35,125170.61,83641.39,8914.36,61793.04,31565.07,216413.72,32782.1,91957.95,28776.48,211331.59,148033.02000000002,1145.53,114322.3,114283.17,24172.39,55167.43,37732.28,259001.24,299808.59,87554.82,48642.04,860160.69,392588.93,741092.31,45509.14,556773.82,276910.21,108381.05,105126.1,735046.7899999999,330186.76,315144.8,98546.24,783149.39,796656.8300000001,211915.16,286216.87,292852.77,1131069.14,25423.7,316067.75,14386.73,136810.35,203429.9,1459464.6400000001,937035.54,578501.44,862538.98,270782.79,1963043.2,613524.1,963931.2,228229.3,395480.53],\"yaxis\":\"y\",\"type\":\"bar\"}],                        {\"template\":{\"data\":{\"bar\":[{\"error_x\":{\"color\":\"#2a3f5f\"},\"error_y\":{\"color\":\"#2a3f5f\"},\"marker\":{\"line\":{\"color\":\"#E5ECF6\",\"width\":0.5},\"pattern\":{\"fillmode\":\"overlay\",\"size\":10,\"solidity\":0.2}},\"type\":\"bar\"}],\"barpolar\":[{\"marker\":{\"line\":{\"color\":\"#E5ECF6\",\"width\":0.5},\"pattern\":{\"fillmode\":\"overlay\",\"size\":10,\"solidity\":0.2}},\"type\":\"barpolar\"}],\"carpet\":[{\"aaxis\":{\"endlinecolor\":\"#2a3f5f\",\"gridcolor\":\"white\",\"linecolor\":\"white\",\"minorgridcolor\":\"white\",\"startlinecolor\":\"#2a3f5f\"},\"baxis\":{\"endlinecolor\":\"#2a3f5f\",\"gridcolor\":\"white\",\"linecolor\":\"white\",\"minorgridcolor\":\"white\",\"startlinecolor\":\"#2a3f5f\"},\"type\":\"carpet\"}],\"choropleth\":[{\"colorbar\":{\"outlinewidth\":0,\"ticks\":\"\"},\"type\":\"choropleth\"}],\"contour\":[{\"colorbar\":{\"outlinewidth\":0,\"ticks\":\"\"},\"colorscale\":[[0.0,\"#0d0887\"],[0.1111111111111111,\"#46039f\"],[0.2222222222222222,\"#7201a8\"],[0.3333333333333333,\"#9c179e\"],[0.4444444444444444,\"#bd3786\"],[0.5555555555555556,\"#d8576b\"],[0.6666666666666666,\"#ed7953\"],[0.7777777777777778,\"#fb9f3a\"],[0.8888888888888888,\"#fdca26\"],[1.0,\"#f0f921\"]],\"type\":\"contour\"}],\"contourcarpet\":[{\"colorbar\":{\"outlinewidth\":0,\"ticks\":\"\"},\"type\":\"contourcarpet\"}],\"heatmap\":[{\"colorbar\":{\"outlinewidth\":0,\"ticks\":\"\"},\"colorscale\":[[0.0,\"#0d0887\"],[0.1111111111111111,\"#46039f\"],[0.2222222222222222,\"#7201a8\"],[0.3333333333333333,\"#9c179e\"],[0.4444444444444444,\"#bd3786\"],[0.5555555555555556,\"#d8576b\"],[0.6666666666666666,\"#ed7953\"],[0.7777777777777778,\"#fb9f3a\"],[0.8888888888888888,\"#fdca26\"],[1.0,\"#f0f921\"]],\"type\":\"heatmap\"}],\"heatmapgl\":[{\"colorbar\":{\"outlinewidth\":0,\"ticks\":\"\"},\"colorscale\":[[0.0,\"#0d0887\"],[0.1111111111111111,\"#46039f\"],[0.2222222222222222,\"#7201a8\"],[0.3333333333333333,\"#9c179e\"],[0.4444444444444444,\"#bd3786\"],[0.5555555555555556,\"#d8576b\"],[0.6666666666666666,\"#ed7953\"],[0.7777777777777778,\"#fb9f3a\"],[0.8888888888888888,\"#fdca26\"],[1.0,\"#f0f921\"]],\"type\":\"heatmapgl\"}],\"histogram\":[{\"marker\":{\"pattern\":{\"fillmode\":\"overlay\",\"size\":10,\"solidity\":0.2}},\"type\":\"histogram\"}],\"histogram2d\":[{\"colorbar\":{\"outlinewidth\":0,\"ticks\":\"\"},\"colorscale\":[[0.0,\"#0d0887\"],[0.1111111111111111,\"#46039f\"],[0.2222222222222222,\"#7201a8\"],[0.3333333333333333,\"#9c179e\"],[0.4444444444444444,\"#bd3786\"],[0.5555555555555556,\"#d8576b\"],[0.6666666666666666,\"#ed7953\"],[0.7777777777777778,\"#fb9f3a\"],[0.8888888888888888,\"#fdca26\"],[1.0,\"#f0f921\"]],\"type\":\"histogram2d\"}],\"histogram2dcontour\":[{\"colorbar\":{\"outlinewidth\":0,\"ticks\":\"\"},\"colorscale\":[[0.0,\"#0d0887\"],[0.1111111111111111,\"#46039f\"],[0.2222222222222222,\"#7201a8\"],[0.3333333333333333,\"#9c179e\"],[0.4444444444444444,\"#bd3786\"],[0.5555555555555556,\"#d8576b\"],[0.6666666666666666,\"#ed7953\"],[0.7777777777777778,\"#fb9f3a\"],[0.8888888888888888,\"#fdca26\"],[1.0,\"#f0f921\"]],\"type\":\"histogram2dcontour\"}],\"mesh3d\":[{\"colorbar\":{\"outlinewidth\":0,\"ticks\":\"\"},\"type\":\"mesh3d\"}],\"parcoords\":[{\"line\":{\"colorbar\":{\"outlinewidth\":0,\"ticks\":\"\"}},\"type\":\"parcoords\"}],\"pie\":[{\"automargin\":true,\"type\":\"pie\"}],\"scatter\":[{\"marker\":{\"colorbar\":{\"outlinewidth\":0,\"ticks\":\"\"}},\"type\":\"scatter\"}],\"scatter3d\":[{\"line\":{\"colorbar\":{\"outlinewidth\":0,\"ticks\":\"\"}},\"marker\":{\"colorbar\":{\"outlinewidth\":0,\"ticks\":\"\"}},\"type\":\"scatter3d\"}],\"scattercarpet\":[{\"marker\":{\"colorbar\":{\"outlinewidth\":0,\"ticks\":\"\"}},\"type\":\"scattercarpet\"}],\"scattergeo\":[{\"marker\":{\"colorbar\":{\"outlinewidth\":0,\"ticks\":\"\"}},\"type\":\"scattergeo\"}],\"scattergl\":[{\"marker\":{\"colorbar\":{\"outlinewidth\":0,\"ticks\":\"\"}},\"type\":\"scattergl\"}],\"scattermapbox\":[{\"marker\":{\"colorbar\":{\"outlinewidth\":0,\"ticks\":\"\"}},\"type\":\"scattermapbox\"}],\"scatterpolar\":[{\"marker\":{\"colorbar\":{\"outlinewidth\":0,\"ticks\":\"\"}},\"type\":\"scatterpolar\"}],\"scatterpolargl\":[{\"marker\":{\"colorbar\":{\"outlinewidth\":0,\"ticks\":\"\"}},\"type\":\"scatterpolargl\"}],\"scatterternary\":[{\"marker\":{\"colorbar\":{\"outlinewidth\":0,\"ticks\":\"\"}},\"type\":\"scatterternary\"}],\"surface\":[{\"colorbar\":{\"outlinewidth\":0,\"ticks\":\"\"},\"colorscale\":[[0.0,\"#0d0887\"],[0.1111111111111111,\"#46039f\"],[0.2222222222222222,\"#7201a8\"],[0.3333333333333333,\"#9c179e\"],[0.4444444444444444,\"#bd3786\"],[0.5555555555555556,\"#d8576b\"],[0.6666666666666666,\"#ed7953\"],[0.7777777777777778,\"#fb9f3a\"],[0.8888888888888888,\"#fdca26\"],[1.0,\"#f0f921\"]],\"type\":\"surface\"}],\"table\":[{\"cells\":{\"fill\":{\"color\":\"#EBF0F8\"},\"line\":{\"color\":\"white\"}},\"header\":{\"fill\":{\"color\":\"#C8D4E3\"},\"line\":{\"color\":\"white\"}},\"type\":\"table\"}]},\"layout\":{\"annotationdefaults\":{\"arrowcolor\":\"#2a3f5f\",\"arrowhead\":0,\"arrowwidth\":1},\"autotypenumbers\":\"strict\",\"coloraxis\":{\"colorbar\":{\"outlinewidth\":0,\"ticks\":\"\"}},\"colorscale\":{\"diverging\":[[0,\"#8e0152\"],[0.1,\"#c51b7d\"],[0.2,\"#de77ae\"],[0.3,\"#f1b6da\"],[0.4,\"#fde0ef\"],[0.5,\"#f7f7f7\"],[0.6,\"#e6f5d0\"],[0.7,\"#b8e186\"],[0.8,\"#7fbc41\"],[0.9,\"#4d9221\"],[1,\"#276419\"]],\"sequential\":[[0.0,\"#0d0887\"],[0.1111111111111111,\"#46039f\"],[0.2222222222222222,\"#7201a8\"],[0.3333333333333333,\"#9c179e\"],[0.4444444444444444,\"#bd3786\"],[0.5555555555555556,\"#d8576b\"],[0.6666666666666666,\"#ed7953\"],[0.7777777777777778,\"#fb9f3a\"],[0.8888888888888888,\"#fdca26\"],[1.0,\"#f0f921\"]],\"sequentialminus\":[[0.0,\"#0d0887\"],[0.1111111111111111,\"#46039f\"],[0.2222222222222222,\"#7201a8\"],[0.3333333333333333,\"#9c179e\"],[0.4444444444444444,\"#bd3786\"],[0.5555555555555556,\"#d8576b\"],[0.6666666666666666,\"#ed7953\"],[0.7777777777777778,\"#fb9f3a\"],[0.8888888888888888,\"#fdca26\"],[1.0,\"#f0f921\"]]},\"colorway\":[\"#636efa\",\"#EF553B\",\"#00cc96\",\"#ab63fa\",\"#FFA15A\",\"#19d3f3\",\"#FF6692\",\"#B6E880\",\"#FF97FF\",\"#FECB52\"],\"font\":{\"color\":\"#2a3f5f\"},\"geo\":{\"bgcolor\":\"white\",\"lakecolor\":\"white\",\"landcolor\":\"#E5ECF6\",\"showlakes\":true,\"showland\":true,\"subunitcolor\":\"white\"},\"hoverlabel\":{\"align\":\"left\"},\"hovermode\":\"closest\",\"mapbox\":{\"style\":\"light\"},\"paper_bgcolor\":\"white\",\"plot_bgcolor\":\"#E5ECF6\",\"polar\":{\"angularaxis\":{\"gridcolor\":\"white\",\"linecolor\":\"white\",\"ticks\":\"\"},\"bgcolor\":\"#E5ECF6\",\"radialaxis\":{\"gridcolor\":\"white\",\"linecolor\":\"white\",\"ticks\":\"\"}},\"scene\":{\"xaxis\":{\"backgroundcolor\":\"#E5ECF6\",\"gridcolor\":\"white\",\"gridwidth\":2,\"linecolor\":\"white\",\"showbackground\":true,\"ticks\":\"\",\"zerolinecolor\":\"white\"},\"yaxis\":{\"backgroundcolor\":\"#E5ECF6\",\"gridcolor\":\"white\",\"gridwidth\":2,\"linecolor\":\"white\",\"showbackground\":true,\"ticks\":\"\",\"zerolinecolor\":\"white\"},\"zaxis\":{\"backgroundcolor\":\"#E5ECF6\",\"gridcolor\":\"white\",\"gridwidth\":2,\"linecolor\":\"white\",\"showbackground\":true,\"ticks\":\"\",\"zerolinecolor\":\"white\"}},\"shapedefaults\":{\"line\":{\"color\":\"#2a3f5f\"}},\"ternary\":{\"aaxis\":{\"gridcolor\":\"white\",\"linecolor\":\"white\",\"ticks\":\"\"},\"baxis\":{\"gridcolor\":\"white\",\"linecolor\":\"white\",\"ticks\":\"\"},\"bgcolor\":\"#E5ECF6\",\"caxis\":{\"gridcolor\":\"white\",\"linecolor\":\"white\",\"ticks\":\"\"}},\"title\":{\"x\":0.05},\"xaxis\":{\"automargin\":true,\"gridcolor\":\"white\",\"linecolor\":\"white\",\"ticks\":\"\",\"title\":{\"standoff\":15},\"zerolinecolor\":\"white\",\"zerolinewidth\":2},\"yaxis\":{\"automargin\":true,\"gridcolor\":\"white\",\"linecolor\":\"white\",\"ticks\":\"\",\"title\":{\"standoff\":15},\"zerolinecolor\":\"white\",\"zerolinewidth\":2}}},\"xaxis\":{\"anchor\":\"y\",\"domain\":[0.0,1.0],\"title\":{\"text\":\"M\\u00eas\"}},\"yaxis\":{\"anchor\":\"x\",\"domain\":[0.0,1.0],\"title\":{\"text\":\"Total de Compras\"}},\"legend\":{\"tracegroupgap\":0},\"title\":{\"text\":\"Total de Compras por M\\u00eas\"},\"barmode\":\"relative\"},                        {\"responsive\": true}                    )                };                            </script>        </div>\n</body>\n</html>",
       "datasetInfos": [],
       "metadata": {},
       "removedWidgets": [],
       "textData": null,
       "type": "htmlSandbox"
      }
     },
     "output_type": "display_data"
    }
   ],
   "source": [
    "#Gráfico 1\n",
    "fig1 = px.bar(df.groupby(\"mes_compra_str\")[\"Total_Compra\"].sum().reset_index(),\n",
    "              x=\"mes_compra_str\",\n",
    "              y=\"Total_Compra\",\n",
    "              title=\"Total de Compras por Mês\",\n",
    "              labels={\"mes_compra_str\": \"Mês\", \"Total_Compra\": \"Total de Compras\"},\n",
    "              text_auto=True)\n",
    "fig1.show()"
   ]
  },
  {
   "cell_type": "code",
   "execution_count": 0,
   "metadata": {
    "application/vnd.databricks.v1+cell": {
     "cellMetadata": {
      "byteLimit": 2048000,
      "rowLimit": 10000
     },
     "inputWidgets": {},
     "nuid": "2a746d17-ab02-4af5-b1da-1eb5e795f846",
     "showTitle": false,
     "tableResultSettingsMap": {},
     "title": ""
    }
   },
   "outputs": [
    {
     "output_type": "display_data",
     "data": {
      "text/html": [
       "<html>\n",
       "<head><meta charset=\"utf-8\" /></head>\n",
       "<body>\n",
       "    <div>            <script src=\"https://cdnjs.cloudflare.com/ajax/libs/mathjax/2.7.5/MathJax.js?config=TeX-AMS-MML_SVG\"></script><script type=\"text/javascript\">if (window.MathJax) {MathJax.Hub.Config({SVG: {font: \"STIX-Web\"}});}</script>                <script type=\"text/javascript\">window.PlotlyConfig = {MathJaxConfig: 'local'};</script>\n",
       "        <script src=\"https://cdn.plot.ly/plotly-2.9.0.min.js\"></script>                <div id=\"73f845f9-2426-4ce5-91f8-ad3a927d462c\" class=\"plotly-graph-div\" style=\"height:100%; width:100%;\"></div>            <script type=\"text/javascript\">                                    window.PLOTLYENV=window.PLOTLYENV || {};                                    if (document.getElementById(\"73f845f9-2426-4ce5-91f8-ad3a927d462c\")) {                    Plotly.newPlot(                        \"73f845f9-2426-4ce5-91f8-ad3a927d462c\",                        [{\"domain\":{\"x\":[0.0,1.0],\"y\":[0.0,1.0]},\"hole\":0.3,\"hovertemplate\":\"resultado_operacao=%{label}<extra></extra>\",\"labels\":[\"Preju\\u00edzo\",\"Preju\\u00edzo\",\"Preju\\u00edzo\",\"Preju\\u00edzo\",\"Preju\\u00edzo\",\"Preju\\u00edzo\",\"Preju\\u00edzo\",\"Preju\\u00edzo\",\"Preju\\u00edzo\",\"Preju\\u00edzo\",\"Preju\\u00edzo\",\"Preju\\u00edzo\",\"Preju\\u00edzo\",\"Preju\\u00edzo\",\"Preju\\u00edzo\",\"Preju\\u00edzo\",\"Preju\\u00edzo\",\"Preju\\u00edzo\",\"Preju\\u00edzo\",\"Preju\\u00edzo\",\"Preju\\u00edzo\",\"Preju\\u00edzo\",\"Preju\\u00edzo\",\"Preju\\u00edzo\",\"Preju\\u00edzo\",\"Preju\\u00edzo\",\"Preju\\u00edzo\",\"Preju\\u00edzo\",\"Preju\\u00edzo\",\"Preju\\u00edzo\",\"Preju\\u00edzo\",\"Preju\\u00edzo\",\"Preju\\u00edzo\",\"Preju\\u00edzo\",\"Preju\\u00edzo\",\"Preju\\u00edzo\",\"Preju\\u00edzo\",\"Preju\\u00edzo\",\"Preju\\u00edzo\",\"Preju\\u00edzo\",\"Preju\\u00edzo\",\"Preju\\u00edzo\",\"Preju\\u00edzo\",\"Preju\\u00edzo\",\"Preju\\u00edzo\",\"Preju\\u00edzo\",\"Preju\\u00edzo\",\"Preju\\u00edzo\",\"Preju\\u00edzo\",\"Preju\\u00edzo\",\"Preju\\u00edzo\",\"Preju\\u00edzo\",\"Preju\\u00edzo\",\"Preju\\u00edzo\",\"Preju\\u00edzo\",\"Preju\\u00edzo\",\"Preju\\u00edzo\",\"Preju\\u00edzo\",\"Lucro\",\"Lucro\",\"Lucro\",\"Lucro\",\"Preju\\u00edzo\",\"Lucro\",\"Preju\\u00edzo\",\"Lucro\",\"Preju\\u00edzo\",\"Preju\\u00edzo\",\"Lucro\",\"Lucro\",\"Lucro\",\"Lucro\",\"Lucro\",\"Lucro\",\"Lucro\",\"Lucro\",\"Lucro\",\"Preju\\u00edzo\",\"Lucro\",\"Lucro\",\"Lucro\",\"Lucro\",\"Lucro\",\"Lucro\",\"Preju\\u00edzo\",\"Lucro\",\"Lucro\",\"Lucro\",\"Lucro\",\"Lucro\",\"Lucro\",\"Preju\\u00edzo\",\"Lucro\",\"Lucro\",\"Lucro\",\"Preju\\u00edzo\",\"Lucro\",\"Preju\\u00edzo\",\"Preju\\u00edzo\",\"Preju\\u00edzo\"],\"legendgroup\":\"\",\"name\":\"\",\"showlegend\":true,\"type\":\"pie\"}],                        {\"template\":{\"data\":{\"bar\":[{\"error_x\":{\"color\":\"#2a3f5f\"},\"error_y\":{\"color\":\"#2a3f5f\"},\"marker\":{\"line\":{\"color\":\"#E5ECF6\",\"width\":0.5},\"pattern\":{\"fillmode\":\"overlay\",\"size\":10,\"solidity\":0.2}},\"type\":\"bar\"}],\"barpolar\":[{\"marker\":{\"line\":{\"color\":\"#E5ECF6\",\"width\":0.5},\"pattern\":{\"fillmode\":\"overlay\",\"size\":10,\"solidity\":0.2}},\"type\":\"barpolar\"}],\"carpet\":[{\"aaxis\":{\"endlinecolor\":\"#2a3f5f\",\"gridcolor\":\"white\",\"linecolor\":\"white\",\"minorgridcolor\":\"white\",\"startlinecolor\":\"#2a3f5f\"},\"baxis\":{\"endlinecolor\":\"#2a3f5f\",\"gridcolor\":\"white\",\"linecolor\":\"white\",\"minorgridcolor\":\"white\",\"startlinecolor\":\"#2a3f5f\"},\"type\":\"carpet\"}],\"choropleth\":[{\"colorbar\":{\"outlinewidth\":0,\"ticks\":\"\"},\"type\":\"choropleth\"}],\"contour\":[{\"colorbar\":{\"outlinewidth\":0,\"ticks\":\"\"},\"colorscale\":[[0.0,\"#0d0887\"],[0.1111111111111111,\"#46039f\"],[0.2222222222222222,\"#7201a8\"],[0.3333333333333333,\"#9c179e\"],[0.4444444444444444,\"#bd3786\"],[0.5555555555555556,\"#d8576b\"],[0.6666666666666666,\"#ed7953\"],[0.7777777777777778,\"#fb9f3a\"],[0.8888888888888888,\"#fdca26\"],[1.0,\"#f0f921\"]],\"type\":\"contour\"}],\"contourcarpet\":[{\"colorbar\":{\"outlinewidth\":0,\"ticks\":\"\"},\"type\":\"contourcarpet\"}],\"heatmap\":[{\"colorbar\":{\"outlinewidth\":0,\"ticks\":\"\"},\"colorscale\":[[0.0,\"#0d0887\"],[0.1111111111111111,\"#46039f\"],[0.2222222222222222,\"#7201a8\"],[0.3333333333333333,\"#9c179e\"],[0.4444444444444444,\"#bd3786\"],[0.5555555555555556,\"#d8576b\"],[0.6666666666666666,\"#ed7953\"],[0.7777777777777778,\"#fb9f3a\"],[0.8888888888888888,\"#fdca26\"],[1.0,\"#f0f921\"]],\"type\":\"heatmap\"}],\"heatmapgl\":[{\"colorbar\":{\"outlinewidth\":0,\"ticks\":\"\"},\"colorscale\":[[0.0,\"#0d0887\"],[0.1111111111111111,\"#46039f\"],[0.2222222222222222,\"#7201a8\"],[0.3333333333333333,\"#9c179e\"],[0.4444444444444444,\"#bd3786\"],[0.5555555555555556,\"#d8576b\"],[0.6666666666666666,\"#ed7953\"],[0.7777777777777778,\"#fb9f3a\"],[0.8888888888888888,\"#fdca26\"],[1.0,\"#f0f921\"]],\"type\":\"heatmapgl\"}],\"histogram\":[{\"marker\":{\"pattern\":{\"fillmode\":\"overlay\",\"size\":10,\"solidity\":0.2}},\"type\":\"histogram\"}],\"histogram2d\":[{\"colorbar\":{\"outlinewidth\":0,\"ticks\":\"\"},\"colorscale\":[[0.0,\"#0d0887\"],[0.1111111111111111,\"#46039f\"],[0.2222222222222222,\"#7201a8\"],[0.3333333333333333,\"#9c179e\"],[0.4444444444444444,\"#bd3786\"],[0.5555555555555556,\"#d8576b\"],[0.6666666666666666,\"#ed7953\"],[0.7777777777777778,\"#fb9f3a\"],[0.8888888888888888,\"#fdca26\"],[1.0,\"#f0f921\"]],\"type\":\"histogram2d\"}],\"histogram2dcontour\":[{\"colorbar\":{\"outlinewidth\":0,\"ticks\":\"\"},\"colorscale\":[[0.0,\"#0d0887\"],[0.1111111111111111,\"#46039f\"],[0.2222222222222222,\"#7201a8\"],[0.3333333333333333,\"#9c179e\"],[0.4444444444444444,\"#bd3786\"],[0.5555555555555556,\"#d8576b\"],[0.6666666666666666,\"#ed7953\"],[0.7777777777777778,\"#fb9f3a\"],[0.8888888888888888,\"#fdca26\"],[1.0,\"#f0f921\"]],\"type\":\"histogram2dcontour\"}],\"mesh3d\":[{\"colorbar\":{\"outlinewidth\":0,\"ticks\":\"\"},\"type\":\"mesh3d\"}],\"parcoords\":[{\"line\":{\"colorbar\":{\"outlinewidth\":0,\"ticks\":\"\"}},\"type\":\"parcoords\"}],\"pie\":[{\"automargin\":true,\"type\":\"pie\"}],\"scatter\":[{\"marker\":{\"colorbar\":{\"outlinewidth\":0,\"ticks\":\"\"}},\"type\":\"scatter\"}],\"scatter3d\":[{\"line\":{\"colorbar\":{\"outlinewidth\":0,\"ticks\":\"\"}},\"marker\":{\"colorbar\":{\"outlinewidth\":0,\"ticks\":\"\"}},\"type\":\"scatter3d\"}],\"scattercarpet\":[{\"marker\":{\"colorbar\":{\"outlinewidth\":0,\"ticks\":\"\"}},\"type\":\"scattercarpet\"}],\"scattergeo\":[{\"marker\":{\"colorbar\":{\"outlinewidth\":0,\"ticks\":\"\"}},\"type\":\"scattergeo\"}],\"scattergl\":[{\"marker\":{\"colorbar\":{\"outlinewidth\":0,\"ticks\":\"\"}},\"type\":\"scattergl\"}],\"scattermapbox\":[{\"marker\":{\"colorbar\":{\"outlinewidth\":0,\"ticks\":\"\"}},\"type\":\"scattermapbox\"}],\"scatterpolar\":[{\"marker\":{\"colorbar\":{\"outlinewidth\":0,\"ticks\":\"\"}},\"type\":\"scatterpolar\"}],\"scatterpolargl\":[{\"marker\":{\"colorbar\":{\"outlinewidth\":0,\"ticks\":\"\"}},\"type\":\"scatterpolargl\"}],\"scatterternary\":[{\"marker\":{\"colorbar\":{\"outlinewidth\":0,\"ticks\":\"\"}},\"type\":\"scatterternary\"}],\"surface\":[{\"colorbar\":{\"outlinewidth\":0,\"ticks\":\"\"},\"colorscale\":[[0.0,\"#0d0887\"],[0.1111111111111111,\"#46039f\"],[0.2222222222222222,\"#7201a8\"],[0.3333333333333333,\"#9c179e\"],[0.4444444444444444,\"#bd3786\"],[0.5555555555555556,\"#d8576b\"],[0.6666666666666666,\"#ed7953\"],[0.7777777777777778,\"#fb9f3a\"],[0.8888888888888888,\"#fdca26\"],[1.0,\"#f0f921\"]],\"type\":\"surface\"}],\"table\":[{\"cells\":{\"fill\":{\"color\":\"#EBF0F8\"},\"line\":{\"color\":\"white\"}},\"header\":{\"fill\":{\"color\":\"#C8D4E3\"},\"line\":{\"color\":\"white\"}},\"type\":\"table\"}]},\"layout\":{\"annotationdefaults\":{\"arrowcolor\":\"#2a3f5f\",\"arrowhead\":0,\"arrowwidth\":1},\"autotypenumbers\":\"strict\",\"coloraxis\":{\"colorbar\":{\"outlinewidth\":0,\"ticks\":\"\"}},\"colorscale\":{\"diverging\":[[0,\"#8e0152\"],[0.1,\"#c51b7d\"],[0.2,\"#de77ae\"],[0.3,\"#f1b6da\"],[0.4,\"#fde0ef\"],[0.5,\"#f7f7f7\"],[0.6,\"#e6f5d0\"],[0.7,\"#b8e186\"],[0.8,\"#7fbc41\"],[0.9,\"#4d9221\"],[1,\"#276419\"]],\"sequential\":[[0.0,\"#0d0887\"],[0.1111111111111111,\"#46039f\"],[0.2222222222222222,\"#7201a8\"],[0.3333333333333333,\"#9c179e\"],[0.4444444444444444,\"#bd3786\"],[0.5555555555555556,\"#d8576b\"],[0.6666666666666666,\"#ed7953\"],[0.7777777777777778,\"#fb9f3a\"],[0.8888888888888888,\"#fdca26\"],[1.0,\"#f0f921\"]],\"sequentialminus\":[[0.0,\"#0d0887\"],[0.1111111111111111,\"#46039f\"],[0.2222222222222222,\"#7201a8\"],[0.3333333333333333,\"#9c179e\"],[0.4444444444444444,\"#bd3786\"],[0.5555555555555556,\"#d8576b\"],[0.6666666666666666,\"#ed7953\"],[0.7777777777777778,\"#fb9f3a\"],[0.8888888888888888,\"#fdca26\"],[1.0,\"#f0f921\"]]},\"colorway\":[\"#636efa\",\"#EF553B\",\"#00cc96\",\"#ab63fa\",\"#FFA15A\",\"#19d3f3\",\"#FF6692\",\"#B6E880\",\"#FF97FF\",\"#FECB52\"],\"font\":{\"color\":\"#2a3f5f\"},\"geo\":{\"bgcolor\":\"white\",\"lakecolor\":\"white\",\"landcolor\":\"#E5ECF6\",\"showlakes\":true,\"showland\":true,\"subunitcolor\":\"white\"},\"hoverlabel\":{\"align\":\"left\"},\"hovermode\":\"closest\",\"mapbox\":{\"style\":\"light\"},\"paper_bgcolor\":\"white\",\"plot_bgcolor\":\"#E5ECF6\",\"polar\":{\"angularaxis\":{\"gridcolor\":\"white\",\"linecolor\":\"white\",\"ticks\":\"\"},\"bgcolor\":\"#E5ECF6\",\"radialaxis\":{\"gridcolor\":\"white\",\"linecolor\":\"white\",\"ticks\":\"\"}},\"scene\":{\"xaxis\":{\"backgroundcolor\":\"#E5ECF6\",\"gridcolor\":\"white\",\"gridwidth\":2,\"linecolor\":\"white\",\"showbackground\":true,\"ticks\":\"\",\"zerolinecolor\":\"white\"},\"yaxis\":{\"backgroundcolor\":\"#E5ECF6\",\"gridcolor\":\"white\",\"gridwidth\":2,\"linecolor\":\"white\",\"showbackground\":true,\"ticks\":\"\",\"zerolinecolor\":\"white\"},\"zaxis\":{\"backgroundcolor\":\"#E5ECF6\",\"gridcolor\":\"white\",\"gridwidth\":2,\"linecolor\":\"white\",\"showbackground\":true,\"ticks\":\"\",\"zerolinecolor\":\"white\"}},\"shapedefaults\":{\"line\":{\"color\":\"#2a3f5f\"}},\"ternary\":{\"aaxis\":{\"gridcolor\":\"white\",\"linecolor\":\"white\",\"ticks\":\"\"},\"baxis\":{\"gridcolor\":\"white\",\"linecolor\":\"white\",\"ticks\":\"\"},\"bgcolor\":\"#E5ECF6\",\"caxis\":{\"gridcolor\":\"white\",\"linecolor\":\"white\",\"ticks\":\"\"}},\"title\":{\"x\":0.05},\"xaxis\":{\"automargin\":true,\"gridcolor\":\"white\",\"linecolor\":\"white\",\"ticks\":\"\",\"title\":{\"standoff\":15},\"zerolinecolor\":\"white\",\"zerolinewidth\":2},\"yaxis\":{\"automargin\":true,\"gridcolor\":\"white\",\"linecolor\":\"white\",\"ticks\":\"\",\"title\":{\"standoff\":15},\"zerolinecolor\":\"white\",\"zerolinewidth\":2}}},\"legend\":{\"tracegroupgap\":0},\"title\":{\"text\":\"Distribui\\u00e7\\u00e3o de Lucro vs Preju\\u00edzo\"}},                        {\"responsive\": true}                    )                };                            </script>        </div>\n",
       "</body>\n",
       "</html>"
      ]
     },
     "metadata": {
      "application/vnd.databricks.v1+output": {
       "addedWidgets": {},
       "arguments": {},
       "data": "<html>\n<head><meta charset=\"utf-8\" /></head>\n<body>\n    <div>            <script src=\"https://cdnjs.cloudflare.com/ajax/libs/mathjax/2.7.5/MathJax.js?config=TeX-AMS-MML_SVG\"></script><script type=\"text/javascript\">if (window.MathJax) {MathJax.Hub.Config({SVG: {font: \"STIX-Web\"}});}</script>                <script type=\"text/javascript\">window.PlotlyConfig = {MathJaxConfig: 'local'};</script>\n        <script src=\"https://cdn.plot.ly/plotly-2.9.0.min.js\"></script>                <div id=\"73f845f9-2426-4ce5-91f8-ad3a927d462c\" class=\"plotly-graph-div\" style=\"height:100%; width:100%;\"></div>            <script type=\"text/javascript\">                                    window.PLOTLYENV=window.PLOTLYENV || {};                                    if (document.getElementById(\"73f845f9-2426-4ce5-91f8-ad3a927d462c\")) {                    Plotly.newPlot(                        \"73f845f9-2426-4ce5-91f8-ad3a927d462c\",                        [{\"domain\":{\"x\":[0.0,1.0],\"y\":[0.0,1.0]},\"hole\":0.3,\"hovertemplate\":\"resultado_operacao=%{label}<extra></extra>\",\"labels\":[\"Preju\\u00edzo\",\"Preju\\u00edzo\",\"Preju\\u00edzo\",\"Preju\\u00edzo\",\"Preju\\u00edzo\",\"Preju\\u00edzo\",\"Preju\\u00edzo\",\"Preju\\u00edzo\",\"Preju\\u00edzo\",\"Preju\\u00edzo\",\"Preju\\u00edzo\",\"Preju\\u00edzo\",\"Preju\\u00edzo\",\"Preju\\u00edzo\",\"Preju\\u00edzo\",\"Preju\\u00edzo\",\"Preju\\u00edzo\",\"Preju\\u00edzo\",\"Preju\\u00edzo\",\"Preju\\u00edzo\",\"Preju\\u00edzo\",\"Preju\\u00edzo\",\"Preju\\u00edzo\",\"Preju\\u00edzo\",\"Preju\\u00edzo\",\"Preju\\u00edzo\",\"Preju\\u00edzo\",\"Preju\\u00edzo\",\"Preju\\u00edzo\",\"Preju\\u00edzo\",\"Preju\\u00edzo\",\"Preju\\u00edzo\",\"Preju\\u00edzo\",\"Preju\\u00edzo\",\"Preju\\u00edzo\",\"Preju\\u00edzo\",\"Preju\\u00edzo\",\"Preju\\u00edzo\",\"Preju\\u00edzo\",\"Preju\\u00edzo\",\"Preju\\u00edzo\",\"Preju\\u00edzo\",\"Preju\\u00edzo\",\"Preju\\u00edzo\",\"Preju\\u00edzo\",\"Preju\\u00edzo\",\"Preju\\u00edzo\",\"Preju\\u00edzo\",\"Preju\\u00edzo\",\"Preju\\u00edzo\",\"Preju\\u00edzo\",\"Preju\\u00edzo\",\"Preju\\u00edzo\",\"Preju\\u00edzo\",\"Preju\\u00edzo\",\"Preju\\u00edzo\",\"Preju\\u00edzo\",\"Preju\\u00edzo\",\"Lucro\",\"Lucro\",\"Lucro\",\"Lucro\",\"Preju\\u00edzo\",\"Lucro\",\"Preju\\u00edzo\",\"Lucro\",\"Preju\\u00edzo\",\"Preju\\u00edzo\",\"Lucro\",\"Lucro\",\"Lucro\",\"Lucro\",\"Lucro\",\"Lucro\",\"Lucro\",\"Lucro\",\"Lucro\",\"Preju\\u00edzo\",\"Lucro\",\"Lucro\",\"Lucro\",\"Lucro\",\"Lucro\",\"Lucro\",\"Preju\\u00edzo\",\"Lucro\",\"Lucro\",\"Lucro\",\"Lucro\",\"Lucro\",\"Lucro\",\"Preju\\u00edzo\",\"Lucro\",\"Lucro\",\"Lucro\",\"Preju\\u00edzo\",\"Lucro\",\"Preju\\u00edzo\",\"Preju\\u00edzo\",\"Preju\\u00edzo\"],\"legendgroup\":\"\",\"name\":\"\",\"showlegend\":true,\"type\":\"pie\"}],                        {\"template\":{\"data\":{\"bar\":[{\"error_x\":{\"color\":\"#2a3f5f\"},\"error_y\":{\"color\":\"#2a3f5f\"},\"marker\":{\"line\":{\"color\":\"#E5ECF6\",\"width\":0.5},\"pattern\":{\"fillmode\":\"overlay\",\"size\":10,\"solidity\":0.2}},\"type\":\"bar\"}],\"barpolar\":[{\"marker\":{\"line\":{\"color\":\"#E5ECF6\",\"width\":0.5},\"pattern\":{\"fillmode\":\"overlay\",\"size\":10,\"solidity\":0.2}},\"type\":\"barpolar\"}],\"carpet\":[{\"aaxis\":{\"endlinecolor\":\"#2a3f5f\",\"gridcolor\":\"white\",\"linecolor\":\"white\",\"minorgridcolor\":\"white\",\"startlinecolor\":\"#2a3f5f\"},\"baxis\":{\"endlinecolor\":\"#2a3f5f\",\"gridcolor\":\"white\",\"linecolor\":\"white\",\"minorgridcolor\":\"white\",\"startlinecolor\":\"#2a3f5f\"},\"type\":\"carpet\"}],\"choropleth\":[{\"colorbar\":{\"outlinewidth\":0,\"ticks\":\"\"},\"type\":\"choropleth\"}],\"contour\":[{\"colorbar\":{\"outlinewidth\":0,\"ticks\":\"\"},\"colorscale\":[[0.0,\"#0d0887\"],[0.1111111111111111,\"#46039f\"],[0.2222222222222222,\"#7201a8\"],[0.3333333333333333,\"#9c179e\"],[0.4444444444444444,\"#bd3786\"],[0.5555555555555556,\"#d8576b\"],[0.6666666666666666,\"#ed7953\"],[0.7777777777777778,\"#fb9f3a\"],[0.8888888888888888,\"#fdca26\"],[1.0,\"#f0f921\"]],\"type\":\"contour\"}],\"contourcarpet\":[{\"colorbar\":{\"outlinewidth\":0,\"ticks\":\"\"},\"type\":\"contourcarpet\"}],\"heatmap\":[{\"colorbar\":{\"outlinewidth\":0,\"ticks\":\"\"},\"colorscale\":[[0.0,\"#0d0887\"],[0.1111111111111111,\"#46039f\"],[0.2222222222222222,\"#7201a8\"],[0.3333333333333333,\"#9c179e\"],[0.4444444444444444,\"#bd3786\"],[0.5555555555555556,\"#d8576b\"],[0.6666666666666666,\"#ed7953\"],[0.7777777777777778,\"#fb9f3a\"],[0.8888888888888888,\"#fdca26\"],[1.0,\"#f0f921\"]],\"type\":\"heatmap\"}],\"heatmapgl\":[{\"colorbar\":{\"outlinewidth\":0,\"ticks\":\"\"},\"colorscale\":[[0.0,\"#0d0887\"],[0.1111111111111111,\"#46039f\"],[0.2222222222222222,\"#7201a8\"],[0.3333333333333333,\"#9c179e\"],[0.4444444444444444,\"#bd3786\"],[0.5555555555555556,\"#d8576b\"],[0.6666666666666666,\"#ed7953\"],[0.7777777777777778,\"#fb9f3a\"],[0.8888888888888888,\"#fdca26\"],[1.0,\"#f0f921\"]],\"type\":\"heatmapgl\"}],\"histogram\":[{\"marker\":{\"pattern\":{\"fillmode\":\"overlay\",\"size\":10,\"solidity\":0.2}},\"type\":\"histogram\"}],\"histogram2d\":[{\"colorbar\":{\"outlinewidth\":0,\"ticks\":\"\"},\"colorscale\":[[0.0,\"#0d0887\"],[0.1111111111111111,\"#46039f\"],[0.2222222222222222,\"#7201a8\"],[0.3333333333333333,\"#9c179e\"],[0.4444444444444444,\"#bd3786\"],[0.5555555555555556,\"#d8576b\"],[0.6666666666666666,\"#ed7953\"],[0.7777777777777778,\"#fb9f3a\"],[0.8888888888888888,\"#fdca26\"],[1.0,\"#f0f921\"]],\"type\":\"histogram2d\"}],\"histogram2dcontour\":[{\"colorbar\":{\"outlinewidth\":0,\"ticks\":\"\"},\"colorscale\":[[0.0,\"#0d0887\"],[0.1111111111111111,\"#46039f\"],[0.2222222222222222,\"#7201a8\"],[0.3333333333333333,\"#9c179e\"],[0.4444444444444444,\"#bd3786\"],[0.5555555555555556,\"#d8576b\"],[0.6666666666666666,\"#ed7953\"],[0.7777777777777778,\"#fb9f3a\"],[0.8888888888888888,\"#fdca26\"],[1.0,\"#f0f921\"]],\"type\":\"histogram2dcontour\"}],\"mesh3d\":[{\"colorbar\":{\"outlinewidth\":0,\"ticks\":\"\"},\"type\":\"mesh3d\"}],\"parcoords\":[{\"line\":{\"colorbar\":{\"outlinewidth\":0,\"ticks\":\"\"}},\"type\":\"parcoords\"}],\"pie\":[{\"automargin\":true,\"type\":\"pie\"}],\"scatter\":[{\"marker\":{\"colorbar\":{\"outlinewidth\":0,\"ticks\":\"\"}},\"type\":\"scatter\"}],\"scatter3d\":[{\"line\":{\"colorbar\":{\"outlinewidth\":0,\"ticks\":\"\"}},\"marker\":{\"colorbar\":{\"outlinewidth\":0,\"ticks\":\"\"}},\"type\":\"scatter3d\"}],\"scattercarpet\":[{\"marker\":{\"colorbar\":{\"outlinewidth\":0,\"ticks\":\"\"}},\"type\":\"scattercarpet\"}],\"scattergeo\":[{\"marker\":{\"colorbar\":{\"outlinewidth\":0,\"ticks\":\"\"}},\"type\":\"scattergeo\"}],\"scattergl\":[{\"marker\":{\"colorbar\":{\"outlinewidth\":0,\"ticks\":\"\"}},\"type\":\"scattergl\"}],\"scattermapbox\":[{\"marker\":{\"colorbar\":{\"outlinewidth\":0,\"ticks\":\"\"}},\"type\":\"scattermapbox\"}],\"scatterpolar\":[{\"marker\":{\"colorbar\":{\"outlinewidth\":0,\"ticks\":\"\"}},\"type\":\"scatterpolar\"}],\"scatterpolargl\":[{\"marker\":{\"colorbar\":{\"outlinewidth\":0,\"ticks\":\"\"}},\"type\":\"scatterpolargl\"}],\"scatterternary\":[{\"marker\":{\"colorbar\":{\"outlinewidth\":0,\"ticks\":\"\"}},\"type\":\"scatterternary\"}],\"surface\":[{\"colorbar\":{\"outlinewidth\":0,\"ticks\":\"\"},\"colorscale\":[[0.0,\"#0d0887\"],[0.1111111111111111,\"#46039f\"],[0.2222222222222222,\"#7201a8\"],[0.3333333333333333,\"#9c179e\"],[0.4444444444444444,\"#bd3786\"],[0.5555555555555556,\"#d8576b\"],[0.6666666666666666,\"#ed7953\"],[0.7777777777777778,\"#fb9f3a\"],[0.8888888888888888,\"#fdca26\"],[1.0,\"#f0f921\"]],\"type\":\"surface\"}],\"table\":[{\"cells\":{\"fill\":{\"color\":\"#EBF0F8\"},\"line\":{\"color\":\"white\"}},\"header\":{\"fill\":{\"color\":\"#C8D4E3\"},\"line\":{\"color\":\"white\"}},\"type\":\"table\"}]},\"layout\":{\"annotationdefaults\":{\"arrowcolor\":\"#2a3f5f\",\"arrowhead\":0,\"arrowwidth\":1},\"autotypenumbers\":\"strict\",\"coloraxis\":{\"colorbar\":{\"outlinewidth\":0,\"ticks\":\"\"}},\"colorscale\":{\"diverging\":[[0,\"#8e0152\"],[0.1,\"#c51b7d\"],[0.2,\"#de77ae\"],[0.3,\"#f1b6da\"],[0.4,\"#fde0ef\"],[0.5,\"#f7f7f7\"],[0.6,\"#e6f5d0\"],[0.7,\"#b8e186\"],[0.8,\"#7fbc41\"],[0.9,\"#4d9221\"],[1,\"#276419\"]],\"sequential\":[[0.0,\"#0d0887\"],[0.1111111111111111,\"#46039f\"],[0.2222222222222222,\"#7201a8\"],[0.3333333333333333,\"#9c179e\"],[0.4444444444444444,\"#bd3786\"],[0.5555555555555556,\"#d8576b\"],[0.6666666666666666,\"#ed7953\"],[0.7777777777777778,\"#fb9f3a\"],[0.8888888888888888,\"#fdca26\"],[1.0,\"#f0f921\"]],\"sequentialminus\":[[0.0,\"#0d0887\"],[0.1111111111111111,\"#46039f\"],[0.2222222222222222,\"#7201a8\"],[0.3333333333333333,\"#9c179e\"],[0.4444444444444444,\"#bd3786\"],[0.5555555555555556,\"#d8576b\"],[0.6666666666666666,\"#ed7953\"],[0.7777777777777778,\"#fb9f3a\"],[0.8888888888888888,\"#fdca26\"],[1.0,\"#f0f921\"]]},\"colorway\":[\"#636efa\",\"#EF553B\",\"#00cc96\",\"#ab63fa\",\"#FFA15A\",\"#19d3f3\",\"#FF6692\",\"#B6E880\",\"#FF97FF\",\"#FECB52\"],\"font\":{\"color\":\"#2a3f5f\"},\"geo\":{\"bgcolor\":\"white\",\"lakecolor\":\"white\",\"landcolor\":\"#E5ECF6\",\"showlakes\":true,\"showland\":true,\"subunitcolor\":\"white\"},\"hoverlabel\":{\"align\":\"left\"},\"hovermode\":\"closest\",\"mapbox\":{\"style\":\"light\"},\"paper_bgcolor\":\"white\",\"plot_bgcolor\":\"#E5ECF6\",\"polar\":{\"angularaxis\":{\"gridcolor\":\"white\",\"linecolor\":\"white\",\"ticks\":\"\"},\"bgcolor\":\"#E5ECF6\",\"radialaxis\":{\"gridcolor\":\"white\",\"linecolor\":\"white\",\"ticks\":\"\"}},\"scene\":{\"xaxis\":{\"backgroundcolor\":\"#E5ECF6\",\"gridcolor\":\"white\",\"gridwidth\":2,\"linecolor\":\"white\",\"showbackground\":true,\"ticks\":\"\",\"zerolinecolor\":\"white\"},\"yaxis\":{\"backgroundcolor\":\"#E5ECF6\",\"gridcolor\":\"white\",\"gridwidth\":2,\"linecolor\":\"white\",\"showbackground\":true,\"ticks\":\"\",\"zerolinecolor\":\"white\"},\"zaxis\":{\"backgroundcolor\":\"#E5ECF6\",\"gridcolor\":\"white\",\"gridwidth\":2,\"linecolor\":\"white\",\"showbackground\":true,\"ticks\":\"\",\"zerolinecolor\":\"white\"}},\"shapedefaults\":{\"line\":{\"color\":\"#2a3f5f\"}},\"ternary\":{\"aaxis\":{\"gridcolor\":\"white\",\"linecolor\":\"white\",\"ticks\":\"\"},\"baxis\":{\"gridcolor\":\"white\",\"linecolor\":\"white\",\"ticks\":\"\"},\"bgcolor\":\"#E5ECF6\",\"caxis\":{\"gridcolor\":\"white\",\"linecolor\":\"white\",\"ticks\":\"\"}},\"title\":{\"x\":0.05},\"xaxis\":{\"automargin\":true,\"gridcolor\":\"white\",\"linecolor\":\"white\",\"ticks\":\"\",\"title\":{\"standoff\":15},\"zerolinecolor\":\"white\",\"zerolinewidth\":2},\"yaxis\":{\"automargin\":true,\"gridcolor\":\"white\",\"linecolor\":\"white\",\"ticks\":\"\",\"title\":{\"standoff\":15},\"zerolinecolor\":\"white\",\"zerolinewidth\":2}}},\"legend\":{\"tracegroupgap\":0},\"title\":{\"text\":\"Distribui\\u00e7\\u00e3o de Lucro vs Preju\\u00edzo\"}},                        {\"responsive\": true}                    )                };                            </script>        </div>\n</body>\n</html>",
       "datasetInfos": [],
       "metadata": {},
       "removedWidgets": [],
       "textData": null,
       "type": "htmlSandbox"
      }
     },
     "output_type": "display_data"
    }
   ],
   "source": [
    "#Gráfico 2\n",
    "#Distribuição de Lucro vs Prejuízo\n",
    "\n",
    "fig2 = px.pie(df, names=\"resultado_operacao\",\n",
    "              title=\"Distribuição de Lucro vs Prejuízo\",\n",
    "              hole=0.3)\n",
    "fig2.show()"
   ]
  },
  {
   "cell_type": "code",
   "execution_count": 0,
   "metadata": {
    "application/vnd.databricks.v1+cell": {
     "cellMetadata": {
      "byteLimit": 2048000,
      "rowLimit": 10000
     },
     "inputWidgets": {},
     "nuid": "e186666d-7a7b-43e6-bc0e-07086e69503c",
     "showTitle": false,
     "tableResultSettingsMap": {},
     "title": ""
    }
   },
   "outputs": [
    {
     "output_type": "display_data",
     "data": {
      "text/html": [
       "<html>\n",
       "<head><meta charset=\"utf-8\" /></head>\n",
       "<body>\n",
       "    <div>            <script src=\"https://cdnjs.cloudflare.com/ajax/libs/mathjax/2.7.5/MathJax.js?config=TeX-AMS-MML_SVG\"></script><script type=\"text/javascript\">if (window.MathJax) {MathJax.Hub.Config({SVG: {font: \"STIX-Web\"}});}</script>                <script type=\"text/javascript\">window.PlotlyConfig = {MathJaxConfig: 'local'};</script>\n",
       "        <script src=\"https://cdn.plot.ly/plotly-2.9.0.min.js\"></script>                <div id=\"8d353a40-485e-4d9a-b8c1-91727374de33\" class=\"plotly-graph-div\" style=\"height:100%; width:100%;\"></div>            <script type=\"text/javascript\">                                    window.PLOTLYENV=window.PLOTLYENV || {};                                    if (document.getElementById(\"8d353a40-485e-4d9a-b8c1-91727374de33\")) {                    Plotly.newPlot(                        \"8d353a40-485e-4d9a-b8c1-91727374de33\",                        [{\"hovertemplate\":\"Data da Compra=%{x}<br>Pre\\u00e7o do BTC=%{y}<extra></extra>\",\"legendgroup\":\"\",\"line\":{\"color\":\"#636efa\",\"dash\":\"solid\"},\"marker\":{\"symbol\":\"circle\"},\"mode\":\"lines+markers\",\"name\":\"\",\"orientation\":\"v\",\"showlegend\":false,\"x\":[\"2025-01-26T00:00:00\",\"2024-12-09T00:00:00\",\"2024-09-26T00:00:00\",\"2024-09-19T00:00:00\",\"2024-08-19T00:00:00\",\"2024-08-03T00:00:00\",\"2024-07-21T00:00:00\",\"2024-07-14T00:00:00\",\"2024-07-08T00:00:00\",\"2024-06-01T00:00:00\",\"2024-05-08T00:00:00\",\"2024-04-08T00:00:00\",\"2024-03-18T00:00:00\",\"2024-03-04T00:00:00\",\"2024-01-19T00:00:00\",\"2024-01-06T00:00:00\",\"2023-12-12T00:00:00\",\"2023-10-31T00:00:00\",\"2023-08-16T00:00:00\",\"2023-07-23T00:00:00\",\"2023-07-01T00:00:00\",\"2023-06-23T00:00:00\",\"2023-05-28T00:00:00\",\"2023-05-23T00:00:00\",\"2023-05-13T00:00:00\",\"2023-05-13T00:00:00\",\"2023-05-05T00:00:00\",\"2023-04-26T00:00:00\",\"2023-04-18T00:00:00\",\"2023-03-27T00:00:00\",\"2023-02-11T00:00:00\",\"2023-01-18T00:00:00\",\"2023-01-09T00:00:00\",\"2022-12-28T00:00:00\",\"2022-12-22T00:00:00\",\"2022-12-13T00:00:00\",\"2022-12-02T00:00:00\",\"2022-10-21T00:00:00\",\"2022-09-19T00:00:00\",\"2022-08-22T00:00:00\",\"2022-06-25T00:00:00\",\"2022-06-14T00:00:00\",\"2022-05-01T00:00:00\",\"2022-04-22T00:00:00\",\"2022-03-10T00:00:00\",\"2022-02-25T00:00:00\",\"2022-02-02T00:00:00\",\"2022-01-12T00:00:00\",\"2021-12-21T00:00:00\",\"2021-08-11T00:00:00\",\"2021-04-13T00:00:00\",\"2021-04-06T00:00:00\",\"2021-04-04T00:00:00\",\"2021-03-31T00:00:00\",\"2021-02-03T00:00:00\",\"2021-01-22T00:00:00\",\"2020-11-30T00:00:00\",\"2020-11-09T00:00:00\",\"2020-10-25T00:00:00\",\"2020-07-16T00:00:00\",\"2020-07-08T00:00:00\",\"2020-06-13T00:00:00\",\"2020-05-13T00:00:00\",\"2020-03-14T00:00:00\",\"2020-02-14T00:00:00\",\"2019-12-24T00:00:00\",\"2019-12-23T00:00:00\",\"2019-10-27T00:00:00\",\"2019-10-08T00:00:00\",\"2019-10-01T00:00:00\",\"2019-09-02T00:00:00\",\"2019-08-27T00:00:00\",\"2019-08-22T00:00:00\",\"2019-08-01T00:00:00\",\"2019-06-15T00:00:00\",\"2019-05-26T00:00:00\",\"2019-05-24T00:00:00\",\"2019-05-18T00:00:00\",\"2019-04-17T00:00:00\",\"2019-02-17T00:00:00\",\"2019-02-01T00:00:00\",\"2019-01-02T00:00:00\",\"2018-11-06T00:00:00\",\"2018-10-24T00:00:00\",\"2018-10-16T00:00:00\",\"2018-09-29T00:00:00\",\"2018-03-26T00:00:00\",\"2018-03-24T00:00:00\",\"2018-02-23T00:00:00\",\"2018-02-06T00:00:00\",\"2018-02-02T00:00:00\",\"2017-11-23T00:00:00\",\"2017-10-25T00:00:00\",\"2017-09-20T00:00:00\",\"2017-09-06T00:00:00\",\"2017-08-21T00:00:00\",\"2017-08-18T00:00:00\",\"2017-05-09T00:00:00\",\"2017-03-02T00:00:00\",\"2017-02-17T00:00:00\"],\"xaxis\":\"x\",\"y\":[526338.91,663110.3,620115.11,655694.97,642216.0,674066.77,665345.55,664987.81,626697.78,622789.83,649923.13,607140.25,645885.19,611133.11,661851.98,629844.48,206234.69,243651.55,315014.98,317098.82,415435.9,241532.35,364387.73,258788.91,460437.64,483023.82,347290.47,498750.86,243628.05,391798.82,314246.34,222339.79,420280.9,353320.58,365067.02,413917.92,399178.57,264475.57,277925.07,414203.88,126232.56,381127.44,422991.58,378399.04,199938.06,291592.99,121038.5,164858.34,577134.24,358895.79,441368.59,237903.11,232766.61,110432.13,164098.62,200365.29,111660.49,92260.82,57808.65,78081.54,54001.57,66761.66,82005.72,79610.52,106660.13,47705.01,84856.27,87975.49,72149.23,35624.75,39493.41,31641.78,48264.29,61190.81,36286.26,80525.53,55411.93,85023.94,66880.82,40769.55,24796.49,55537.72,56591.69,70386.6,84039.99,42516.98,37144.35,45384.44,31976.14,28350.6,80672.52,112059.4,7155.12,47922.61,55925.04,125136.58,34401.96,112594.79,126155.54,90355.14],\"yaxis\":\"y\",\"type\":\"scatter\"}],                        {\"template\":{\"data\":{\"bar\":[{\"error_x\":{\"color\":\"#2a3f5f\"},\"error_y\":{\"color\":\"#2a3f5f\"},\"marker\":{\"line\":{\"color\":\"#E5ECF6\",\"width\":0.5},\"pattern\":{\"fillmode\":\"overlay\",\"size\":10,\"solidity\":0.2}},\"type\":\"bar\"}],\"barpolar\":[{\"marker\":{\"line\":{\"color\":\"#E5ECF6\",\"width\":0.5},\"pattern\":{\"fillmode\":\"overlay\",\"size\":10,\"solidity\":0.2}},\"type\":\"barpolar\"}],\"carpet\":[{\"aaxis\":{\"endlinecolor\":\"#2a3f5f\",\"gridcolor\":\"white\",\"linecolor\":\"white\",\"minorgridcolor\":\"white\",\"startlinecolor\":\"#2a3f5f\"},\"baxis\":{\"endlinecolor\":\"#2a3f5f\",\"gridcolor\":\"white\",\"linecolor\":\"white\",\"minorgridcolor\":\"white\",\"startlinecolor\":\"#2a3f5f\"},\"type\":\"carpet\"}],\"choropleth\":[{\"colorbar\":{\"outlinewidth\":0,\"ticks\":\"\"},\"type\":\"choropleth\"}],\"contour\":[{\"colorbar\":{\"outlinewidth\":0,\"ticks\":\"\"},\"colorscale\":[[0.0,\"#0d0887\"],[0.1111111111111111,\"#46039f\"],[0.2222222222222222,\"#7201a8\"],[0.3333333333333333,\"#9c179e\"],[0.4444444444444444,\"#bd3786\"],[0.5555555555555556,\"#d8576b\"],[0.6666666666666666,\"#ed7953\"],[0.7777777777777778,\"#fb9f3a\"],[0.8888888888888888,\"#fdca26\"],[1.0,\"#f0f921\"]],\"type\":\"contour\"}],\"contourcarpet\":[{\"colorbar\":{\"outlinewidth\":0,\"ticks\":\"\"},\"type\":\"contourcarpet\"}],\"heatmap\":[{\"colorbar\":{\"outlinewidth\":0,\"ticks\":\"\"},\"colorscale\":[[0.0,\"#0d0887\"],[0.1111111111111111,\"#46039f\"],[0.2222222222222222,\"#7201a8\"],[0.3333333333333333,\"#9c179e\"],[0.4444444444444444,\"#bd3786\"],[0.5555555555555556,\"#d8576b\"],[0.6666666666666666,\"#ed7953\"],[0.7777777777777778,\"#fb9f3a\"],[0.8888888888888888,\"#fdca26\"],[1.0,\"#f0f921\"]],\"type\":\"heatmap\"}],\"heatmapgl\":[{\"colorbar\":{\"outlinewidth\":0,\"ticks\":\"\"},\"colorscale\":[[0.0,\"#0d0887\"],[0.1111111111111111,\"#46039f\"],[0.2222222222222222,\"#7201a8\"],[0.3333333333333333,\"#9c179e\"],[0.4444444444444444,\"#bd3786\"],[0.5555555555555556,\"#d8576b\"],[0.6666666666666666,\"#ed7953\"],[0.7777777777777778,\"#fb9f3a\"],[0.8888888888888888,\"#fdca26\"],[1.0,\"#f0f921\"]],\"type\":\"heatmapgl\"}],\"histogram\":[{\"marker\":{\"pattern\":{\"fillmode\":\"overlay\",\"size\":10,\"solidity\":0.2}},\"type\":\"histogram\"}],\"histogram2d\":[{\"colorbar\":{\"outlinewidth\":0,\"ticks\":\"\"},\"colorscale\":[[0.0,\"#0d0887\"],[0.1111111111111111,\"#46039f\"],[0.2222222222222222,\"#7201a8\"],[0.3333333333333333,\"#9c179e\"],[0.4444444444444444,\"#bd3786\"],[0.5555555555555556,\"#d8576b\"],[0.6666666666666666,\"#ed7953\"],[0.7777777777777778,\"#fb9f3a\"],[0.8888888888888888,\"#fdca26\"],[1.0,\"#f0f921\"]],\"type\":\"histogram2d\"}],\"histogram2dcontour\":[{\"colorbar\":{\"outlinewidth\":0,\"ticks\":\"\"},\"colorscale\":[[0.0,\"#0d0887\"],[0.1111111111111111,\"#46039f\"],[0.2222222222222222,\"#7201a8\"],[0.3333333333333333,\"#9c179e\"],[0.4444444444444444,\"#bd3786\"],[0.5555555555555556,\"#d8576b\"],[0.6666666666666666,\"#ed7953\"],[0.7777777777777778,\"#fb9f3a\"],[0.8888888888888888,\"#fdca26\"],[1.0,\"#f0f921\"]],\"type\":\"histogram2dcontour\"}],\"mesh3d\":[{\"colorbar\":{\"outlinewidth\":0,\"ticks\":\"\"},\"type\":\"mesh3d\"}],\"parcoords\":[{\"line\":{\"colorbar\":{\"outlinewidth\":0,\"ticks\":\"\"}},\"type\":\"parcoords\"}],\"pie\":[{\"automargin\":true,\"type\":\"pie\"}],\"scatter\":[{\"marker\":{\"colorbar\":{\"outlinewidth\":0,\"ticks\":\"\"}},\"type\":\"scatter\"}],\"scatter3d\":[{\"line\":{\"colorbar\":{\"outlinewidth\":0,\"ticks\":\"\"}},\"marker\":{\"colorbar\":{\"outlinewidth\":0,\"ticks\":\"\"}},\"type\":\"scatter3d\"}],\"scattercarpet\":[{\"marker\":{\"colorbar\":{\"outlinewidth\":0,\"ticks\":\"\"}},\"type\":\"scattercarpet\"}],\"scattergeo\":[{\"marker\":{\"colorbar\":{\"outlinewidth\":0,\"ticks\":\"\"}},\"type\":\"scattergeo\"}],\"scattergl\":[{\"marker\":{\"colorbar\":{\"outlinewidth\":0,\"ticks\":\"\"}},\"type\":\"scattergl\"}],\"scattermapbox\":[{\"marker\":{\"colorbar\":{\"outlinewidth\":0,\"ticks\":\"\"}},\"type\":\"scattermapbox\"}],\"scatterpolar\":[{\"marker\":{\"colorbar\":{\"outlinewidth\":0,\"ticks\":\"\"}},\"type\":\"scatterpolar\"}],\"scatterpolargl\":[{\"marker\":{\"colorbar\":{\"outlinewidth\":0,\"ticks\":\"\"}},\"type\":\"scatterpolargl\"}],\"scatterternary\":[{\"marker\":{\"colorbar\":{\"outlinewidth\":0,\"ticks\":\"\"}},\"type\":\"scatterternary\"}],\"surface\":[{\"colorbar\":{\"outlinewidth\":0,\"ticks\":\"\"},\"colorscale\":[[0.0,\"#0d0887\"],[0.1111111111111111,\"#46039f\"],[0.2222222222222222,\"#7201a8\"],[0.3333333333333333,\"#9c179e\"],[0.4444444444444444,\"#bd3786\"],[0.5555555555555556,\"#d8576b\"],[0.6666666666666666,\"#ed7953\"],[0.7777777777777778,\"#fb9f3a\"],[0.8888888888888888,\"#fdca26\"],[1.0,\"#f0f921\"]],\"type\":\"surface\"}],\"table\":[{\"cells\":{\"fill\":{\"color\":\"#EBF0F8\"},\"line\":{\"color\":\"white\"}},\"header\":{\"fill\":{\"color\":\"#C8D4E3\"},\"line\":{\"color\":\"white\"}},\"type\":\"table\"}]},\"layout\":{\"annotationdefaults\":{\"arrowcolor\":\"#2a3f5f\",\"arrowhead\":0,\"arrowwidth\":1},\"autotypenumbers\":\"strict\",\"coloraxis\":{\"colorbar\":{\"outlinewidth\":0,\"ticks\":\"\"}},\"colorscale\":{\"diverging\":[[0,\"#8e0152\"],[0.1,\"#c51b7d\"],[0.2,\"#de77ae\"],[0.3,\"#f1b6da\"],[0.4,\"#fde0ef\"],[0.5,\"#f7f7f7\"],[0.6,\"#e6f5d0\"],[0.7,\"#b8e186\"],[0.8,\"#7fbc41\"],[0.9,\"#4d9221\"],[1,\"#276419\"]],\"sequential\":[[0.0,\"#0d0887\"],[0.1111111111111111,\"#46039f\"],[0.2222222222222222,\"#7201a8\"],[0.3333333333333333,\"#9c179e\"],[0.4444444444444444,\"#bd3786\"],[0.5555555555555556,\"#d8576b\"],[0.6666666666666666,\"#ed7953\"],[0.7777777777777778,\"#fb9f3a\"],[0.8888888888888888,\"#fdca26\"],[1.0,\"#f0f921\"]],\"sequentialminus\":[[0.0,\"#0d0887\"],[0.1111111111111111,\"#46039f\"],[0.2222222222222222,\"#7201a8\"],[0.3333333333333333,\"#9c179e\"],[0.4444444444444444,\"#bd3786\"],[0.5555555555555556,\"#d8576b\"],[0.6666666666666666,\"#ed7953\"],[0.7777777777777778,\"#fb9f3a\"],[0.8888888888888888,\"#fdca26\"],[1.0,\"#f0f921\"]]},\"colorway\":[\"#636efa\",\"#EF553B\",\"#00cc96\",\"#ab63fa\",\"#FFA15A\",\"#19d3f3\",\"#FF6692\",\"#B6E880\",\"#FF97FF\",\"#FECB52\"],\"font\":{\"color\":\"#2a3f5f\"},\"geo\":{\"bgcolor\":\"white\",\"lakecolor\":\"white\",\"landcolor\":\"#E5ECF6\",\"showlakes\":true,\"showland\":true,\"subunitcolor\":\"white\"},\"hoverlabel\":{\"align\":\"left\"},\"hovermode\":\"closest\",\"mapbox\":{\"style\":\"light\"},\"paper_bgcolor\":\"white\",\"plot_bgcolor\":\"#E5ECF6\",\"polar\":{\"angularaxis\":{\"gridcolor\":\"white\",\"linecolor\":\"white\",\"ticks\":\"\"},\"bgcolor\":\"#E5ECF6\",\"radialaxis\":{\"gridcolor\":\"white\",\"linecolor\":\"white\",\"ticks\":\"\"}},\"scene\":{\"xaxis\":{\"backgroundcolor\":\"#E5ECF6\",\"gridcolor\":\"white\",\"gridwidth\":2,\"linecolor\":\"white\",\"showbackground\":true,\"ticks\":\"\",\"zerolinecolor\":\"white\"},\"yaxis\":{\"backgroundcolor\":\"#E5ECF6\",\"gridcolor\":\"white\",\"gridwidth\":2,\"linecolor\":\"white\",\"showbackground\":true,\"ticks\":\"\",\"zerolinecolor\":\"white\"},\"zaxis\":{\"backgroundcolor\":\"#E5ECF6\",\"gridcolor\":\"white\",\"gridwidth\":2,\"linecolor\":\"white\",\"showbackground\":true,\"ticks\":\"\",\"zerolinecolor\":\"white\"}},\"shapedefaults\":{\"line\":{\"color\":\"#2a3f5f\"}},\"ternary\":{\"aaxis\":{\"gridcolor\":\"white\",\"linecolor\":\"white\",\"ticks\":\"\"},\"baxis\":{\"gridcolor\":\"white\",\"linecolor\":\"white\",\"ticks\":\"\"},\"bgcolor\":\"#E5ECF6\",\"caxis\":{\"gridcolor\":\"white\",\"linecolor\":\"white\",\"ticks\":\"\"}},\"title\":{\"x\":0.05},\"xaxis\":{\"automargin\":true,\"gridcolor\":\"white\",\"linecolor\":\"white\",\"ticks\":\"\",\"title\":{\"standoff\":15},\"zerolinecolor\":\"white\",\"zerolinewidth\":2},\"yaxis\":{\"automargin\":true,\"gridcolor\":\"white\",\"linecolor\":\"white\",\"ticks\":\"\",\"title\":{\"standoff\":15},\"zerolinecolor\":\"white\",\"zerolinewidth\":2}}},\"xaxis\":{\"anchor\":\"y\",\"domain\":[0.0,1.0],\"title\":{\"text\":\"Data da Compra\"}},\"yaxis\":{\"anchor\":\"x\",\"domain\":[0.0,1.0],\"title\":{\"text\":\"Pre\\u00e7o do BTC\"}},\"legend\":{\"tracegroupgap\":0},\"title\":{\"text\":\"Evolu\\u00e7\\u00e3o do Pre\\u00e7o do Bitcoin\"}},                        {\"responsive\": true}                    )                };                            </script>        </div>\n",
       "</body>\n",
       "</html>"
      ]
     },
     "metadata": {
      "application/vnd.databricks.v1+output": {
       "addedWidgets": {},
       "arguments": {},
       "data": "<html>\n<head><meta charset=\"utf-8\" /></head>\n<body>\n    <div>            <script src=\"https://cdnjs.cloudflare.com/ajax/libs/mathjax/2.7.5/MathJax.js?config=TeX-AMS-MML_SVG\"></script><script type=\"text/javascript\">if (window.MathJax) {MathJax.Hub.Config({SVG: {font: \"STIX-Web\"}});}</script>                <script type=\"text/javascript\">window.PlotlyConfig = {MathJaxConfig: 'local'};</script>\n        <script src=\"https://cdn.plot.ly/plotly-2.9.0.min.js\"></script>                <div id=\"8d353a40-485e-4d9a-b8c1-91727374de33\" class=\"plotly-graph-div\" style=\"height:100%; width:100%;\"></div>            <script type=\"text/javascript\">                                    window.PLOTLYENV=window.PLOTLYENV || {};                                    if (document.getElementById(\"8d353a40-485e-4d9a-b8c1-91727374de33\")) {                    Plotly.newPlot(                        \"8d353a40-485e-4d9a-b8c1-91727374de33\",                        [{\"hovertemplate\":\"Data da Compra=%{x}<br>Pre\\u00e7o do BTC=%{y}<extra></extra>\",\"legendgroup\":\"\",\"line\":{\"color\":\"#636efa\",\"dash\":\"solid\"},\"marker\":{\"symbol\":\"circle\"},\"mode\":\"lines+markers\",\"name\":\"\",\"orientation\":\"v\",\"showlegend\":false,\"x\":[\"2025-01-26T00:00:00\",\"2024-12-09T00:00:00\",\"2024-09-26T00:00:00\",\"2024-09-19T00:00:00\",\"2024-08-19T00:00:00\",\"2024-08-03T00:00:00\",\"2024-07-21T00:00:00\",\"2024-07-14T00:00:00\",\"2024-07-08T00:00:00\",\"2024-06-01T00:00:00\",\"2024-05-08T00:00:00\",\"2024-04-08T00:00:00\",\"2024-03-18T00:00:00\",\"2024-03-04T00:00:00\",\"2024-01-19T00:00:00\",\"2024-01-06T00:00:00\",\"2023-12-12T00:00:00\",\"2023-10-31T00:00:00\",\"2023-08-16T00:00:00\",\"2023-07-23T00:00:00\",\"2023-07-01T00:00:00\",\"2023-06-23T00:00:00\",\"2023-05-28T00:00:00\",\"2023-05-23T00:00:00\",\"2023-05-13T00:00:00\",\"2023-05-13T00:00:00\",\"2023-05-05T00:00:00\",\"2023-04-26T00:00:00\",\"2023-04-18T00:00:00\",\"2023-03-27T00:00:00\",\"2023-02-11T00:00:00\",\"2023-01-18T00:00:00\",\"2023-01-09T00:00:00\",\"2022-12-28T00:00:00\",\"2022-12-22T00:00:00\",\"2022-12-13T00:00:00\",\"2022-12-02T00:00:00\",\"2022-10-21T00:00:00\",\"2022-09-19T00:00:00\",\"2022-08-22T00:00:00\",\"2022-06-25T00:00:00\",\"2022-06-14T00:00:00\",\"2022-05-01T00:00:00\",\"2022-04-22T00:00:00\",\"2022-03-10T00:00:00\",\"2022-02-25T00:00:00\",\"2022-02-02T00:00:00\",\"2022-01-12T00:00:00\",\"2021-12-21T00:00:00\",\"2021-08-11T00:00:00\",\"2021-04-13T00:00:00\",\"2021-04-06T00:00:00\",\"2021-04-04T00:00:00\",\"2021-03-31T00:00:00\",\"2021-02-03T00:00:00\",\"2021-01-22T00:00:00\",\"2020-11-30T00:00:00\",\"2020-11-09T00:00:00\",\"2020-10-25T00:00:00\",\"2020-07-16T00:00:00\",\"2020-07-08T00:00:00\",\"2020-06-13T00:00:00\",\"2020-05-13T00:00:00\",\"2020-03-14T00:00:00\",\"2020-02-14T00:00:00\",\"2019-12-24T00:00:00\",\"2019-12-23T00:00:00\",\"2019-10-27T00:00:00\",\"2019-10-08T00:00:00\",\"2019-10-01T00:00:00\",\"2019-09-02T00:00:00\",\"2019-08-27T00:00:00\",\"2019-08-22T00:00:00\",\"2019-08-01T00:00:00\",\"2019-06-15T00:00:00\",\"2019-05-26T00:00:00\",\"2019-05-24T00:00:00\",\"2019-05-18T00:00:00\",\"2019-04-17T00:00:00\",\"2019-02-17T00:00:00\",\"2019-02-01T00:00:00\",\"2019-01-02T00:00:00\",\"2018-11-06T00:00:00\",\"2018-10-24T00:00:00\",\"2018-10-16T00:00:00\",\"2018-09-29T00:00:00\",\"2018-03-26T00:00:00\",\"2018-03-24T00:00:00\",\"2018-02-23T00:00:00\",\"2018-02-06T00:00:00\",\"2018-02-02T00:00:00\",\"2017-11-23T00:00:00\",\"2017-10-25T00:00:00\",\"2017-09-20T00:00:00\",\"2017-09-06T00:00:00\",\"2017-08-21T00:00:00\",\"2017-08-18T00:00:00\",\"2017-05-09T00:00:00\",\"2017-03-02T00:00:00\",\"2017-02-17T00:00:00\"],\"xaxis\":\"x\",\"y\":[526338.91,663110.3,620115.11,655694.97,642216.0,674066.77,665345.55,664987.81,626697.78,622789.83,649923.13,607140.25,645885.19,611133.11,661851.98,629844.48,206234.69,243651.55,315014.98,317098.82,415435.9,241532.35,364387.73,258788.91,460437.64,483023.82,347290.47,498750.86,243628.05,391798.82,314246.34,222339.79,420280.9,353320.58,365067.02,413917.92,399178.57,264475.57,277925.07,414203.88,126232.56,381127.44,422991.58,378399.04,199938.06,291592.99,121038.5,164858.34,577134.24,358895.79,441368.59,237903.11,232766.61,110432.13,164098.62,200365.29,111660.49,92260.82,57808.65,78081.54,54001.57,66761.66,82005.72,79610.52,106660.13,47705.01,84856.27,87975.49,72149.23,35624.75,39493.41,31641.78,48264.29,61190.81,36286.26,80525.53,55411.93,85023.94,66880.82,40769.55,24796.49,55537.72,56591.69,70386.6,84039.99,42516.98,37144.35,45384.44,31976.14,28350.6,80672.52,112059.4,7155.12,47922.61,55925.04,125136.58,34401.96,112594.79,126155.54,90355.14],\"yaxis\":\"y\",\"type\":\"scatter\"}],                        {\"template\":{\"data\":{\"bar\":[{\"error_x\":{\"color\":\"#2a3f5f\"},\"error_y\":{\"color\":\"#2a3f5f\"},\"marker\":{\"line\":{\"color\":\"#E5ECF6\",\"width\":0.5},\"pattern\":{\"fillmode\":\"overlay\",\"size\":10,\"solidity\":0.2}},\"type\":\"bar\"}],\"barpolar\":[{\"marker\":{\"line\":{\"color\":\"#E5ECF6\",\"width\":0.5},\"pattern\":{\"fillmode\":\"overlay\",\"size\":10,\"solidity\":0.2}},\"type\":\"barpolar\"}],\"carpet\":[{\"aaxis\":{\"endlinecolor\":\"#2a3f5f\",\"gridcolor\":\"white\",\"linecolor\":\"white\",\"minorgridcolor\":\"white\",\"startlinecolor\":\"#2a3f5f\"},\"baxis\":{\"endlinecolor\":\"#2a3f5f\",\"gridcolor\":\"white\",\"linecolor\":\"white\",\"minorgridcolor\":\"white\",\"startlinecolor\":\"#2a3f5f\"},\"type\":\"carpet\"}],\"choropleth\":[{\"colorbar\":{\"outlinewidth\":0,\"ticks\":\"\"},\"type\":\"choropleth\"}],\"contour\":[{\"colorbar\":{\"outlinewidth\":0,\"ticks\":\"\"},\"colorscale\":[[0.0,\"#0d0887\"],[0.1111111111111111,\"#46039f\"],[0.2222222222222222,\"#7201a8\"],[0.3333333333333333,\"#9c179e\"],[0.4444444444444444,\"#bd3786\"],[0.5555555555555556,\"#d8576b\"],[0.6666666666666666,\"#ed7953\"],[0.7777777777777778,\"#fb9f3a\"],[0.8888888888888888,\"#fdca26\"],[1.0,\"#f0f921\"]],\"type\":\"contour\"}],\"contourcarpet\":[{\"colorbar\":{\"outlinewidth\":0,\"ticks\":\"\"},\"type\":\"contourcarpet\"}],\"heatmap\":[{\"colorbar\":{\"outlinewidth\":0,\"ticks\":\"\"},\"colorscale\":[[0.0,\"#0d0887\"],[0.1111111111111111,\"#46039f\"],[0.2222222222222222,\"#7201a8\"],[0.3333333333333333,\"#9c179e\"],[0.4444444444444444,\"#bd3786\"],[0.5555555555555556,\"#d8576b\"],[0.6666666666666666,\"#ed7953\"],[0.7777777777777778,\"#fb9f3a\"],[0.8888888888888888,\"#fdca26\"],[1.0,\"#f0f921\"]],\"type\":\"heatmap\"}],\"heatmapgl\":[{\"colorbar\":{\"outlinewidth\":0,\"ticks\":\"\"},\"colorscale\":[[0.0,\"#0d0887\"],[0.1111111111111111,\"#46039f\"],[0.2222222222222222,\"#7201a8\"],[0.3333333333333333,\"#9c179e\"],[0.4444444444444444,\"#bd3786\"],[0.5555555555555556,\"#d8576b\"],[0.6666666666666666,\"#ed7953\"],[0.7777777777777778,\"#fb9f3a\"],[0.8888888888888888,\"#fdca26\"],[1.0,\"#f0f921\"]],\"type\":\"heatmapgl\"}],\"histogram\":[{\"marker\":{\"pattern\":{\"fillmode\":\"overlay\",\"size\":10,\"solidity\":0.2}},\"type\":\"histogram\"}],\"histogram2d\":[{\"colorbar\":{\"outlinewidth\":0,\"ticks\":\"\"},\"colorscale\":[[0.0,\"#0d0887\"],[0.1111111111111111,\"#46039f\"],[0.2222222222222222,\"#7201a8\"],[0.3333333333333333,\"#9c179e\"],[0.4444444444444444,\"#bd3786\"],[0.5555555555555556,\"#d8576b\"],[0.6666666666666666,\"#ed7953\"],[0.7777777777777778,\"#fb9f3a\"],[0.8888888888888888,\"#fdca26\"],[1.0,\"#f0f921\"]],\"type\":\"histogram2d\"}],\"histogram2dcontour\":[{\"colorbar\":{\"outlinewidth\":0,\"ticks\":\"\"},\"colorscale\":[[0.0,\"#0d0887\"],[0.1111111111111111,\"#46039f\"],[0.2222222222222222,\"#7201a8\"],[0.3333333333333333,\"#9c179e\"],[0.4444444444444444,\"#bd3786\"],[0.5555555555555556,\"#d8576b\"],[0.6666666666666666,\"#ed7953\"],[0.7777777777777778,\"#fb9f3a\"],[0.8888888888888888,\"#fdca26\"],[1.0,\"#f0f921\"]],\"type\":\"histogram2dcontour\"}],\"mesh3d\":[{\"colorbar\":{\"outlinewidth\":0,\"ticks\":\"\"},\"type\":\"mesh3d\"}],\"parcoords\":[{\"line\":{\"colorbar\":{\"outlinewidth\":0,\"ticks\":\"\"}},\"type\":\"parcoords\"}],\"pie\":[{\"automargin\":true,\"type\":\"pie\"}],\"scatter\":[{\"marker\":{\"colorbar\":{\"outlinewidth\":0,\"ticks\":\"\"}},\"type\":\"scatter\"}],\"scatter3d\":[{\"line\":{\"colorbar\":{\"outlinewidth\":0,\"ticks\":\"\"}},\"marker\":{\"colorbar\":{\"outlinewidth\":0,\"ticks\":\"\"}},\"type\":\"scatter3d\"}],\"scattercarpet\":[{\"marker\":{\"colorbar\":{\"outlinewidth\":0,\"ticks\":\"\"}},\"type\":\"scattercarpet\"}],\"scattergeo\":[{\"marker\":{\"colorbar\":{\"outlinewidth\":0,\"ticks\":\"\"}},\"type\":\"scattergeo\"}],\"scattergl\":[{\"marker\":{\"colorbar\":{\"outlinewidth\":0,\"ticks\":\"\"}},\"type\":\"scattergl\"}],\"scattermapbox\":[{\"marker\":{\"colorbar\":{\"outlinewidth\":0,\"ticks\":\"\"}},\"type\":\"scattermapbox\"}],\"scatterpolar\":[{\"marker\":{\"colorbar\":{\"outlinewidth\":0,\"ticks\":\"\"}},\"type\":\"scatterpolar\"}],\"scatterpolargl\":[{\"marker\":{\"colorbar\":{\"outlinewidth\":0,\"ticks\":\"\"}},\"type\":\"scatterpolargl\"}],\"scatterternary\":[{\"marker\":{\"colorbar\":{\"outlinewidth\":0,\"ticks\":\"\"}},\"type\":\"scatterternary\"}],\"surface\":[{\"colorbar\":{\"outlinewidth\":0,\"ticks\":\"\"},\"colorscale\":[[0.0,\"#0d0887\"],[0.1111111111111111,\"#46039f\"],[0.2222222222222222,\"#7201a8\"],[0.3333333333333333,\"#9c179e\"],[0.4444444444444444,\"#bd3786\"],[0.5555555555555556,\"#d8576b\"],[0.6666666666666666,\"#ed7953\"],[0.7777777777777778,\"#fb9f3a\"],[0.8888888888888888,\"#fdca26\"],[1.0,\"#f0f921\"]],\"type\":\"surface\"}],\"table\":[{\"cells\":{\"fill\":{\"color\":\"#EBF0F8\"},\"line\":{\"color\":\"white\"}},\"header\":{\"fill\":{\"color\":\"#C8D4E3\"},\"line\":{\"color\":\"white\"}},\"type\":\"table\"}]},\"layout\":{\"annotationdefaults\":{\"arrowcolor\":\"#2a3f5f\",\"arrowhead\":0,\"arrowwidth\":1},\"autotypenumbers\":\"strict\",\"coloraxis\":{\"colorbar\":{\"outlinewidth\":0,\"ticks\":\"\"}},\"colorscale\":{\"diverging\":[[0,\"#8e0152\"],[0.1,\"#c51b7d\"],[0.2,\"#de77ae\"],[0.3,\"#f1b6da\"],[0.4,\"#fde0ef\"],[0.5,\"#f7f7f7\"],[0.6,\"#e6f5d0\"],[0.7,\"#b8e186\"],[0.8,\"#7fbc41\"],[0.9,\"#4d9221\"],[1,\"#276419\"]],\"sequential\":[[0.0,\"#0d0887\"],[0.1111111111111111,\"#46039f\"],[0.2222222222222222,\"#7201a8\"],[0.3333333333333333,\"#9c179e\"],[0.4444444444444444,\"#bd3786\"],[0.5555555555555556,\"#d8576b\"],[0.6666666666666666,\"#ed7953\"],[0.7777777777777778,\"#fb9f3a\"],[0.8888888888888888,\"#fdca26\"],[1.0,\"#f0f921\"]],\"sequentialminus\":[[0.0,\"#0d0887\"],[0.1111111111111111,\"#46039f\"],[0.2222222222222222,\"#7201a8\"],[0.3333333333333333,\"#9c179e\"],[0.4444444444444444,\"#bd3786\"],[0.5555555555555556,\"#d8576b\"],[0.6666666666666666,\"#ed7953\"],[0.7777777777777778,\"#fb9f3a\"],[0.8888888888888888,\"#fdca26\"],[1.0,\"#f0f921\"]]},\"colorway\":[\"#636efa\",\"#EF553B\",\"#00cc96\",\"#ab63fa\",\"#FFA15A\",\"#19d3f3\",\"#FF6692\",\"#B6E880\",\"#FF97FF\",\"#FECB52\"],\"font\":{\"color\":\"#2a3f5f\"},\"geo\":{\"bgcolor\":\"white\",\"lakecolor\":\"white\",\"landcolor\":\"#E5ECF6\",\"showlakes\":true,\"showland\":true,\"subunitcolor\":\"white\"},\"hoverlabel\":{\"align\":\"left\"},\"hovermode\":\"closest\",\"mapbox\":{\"style\":\"light\"},\"paper_bgcolor\":\"white\",\"plot_bgcolor\":\"#E5ECF6\",\"polar\":{\"angularaxis\":{\"gridcolor\":\"white\",\"linecolor\":\"white\",\"ticks\":\"\"},\"bgcolor\":\"#E5ECF6\",\"radialaxis\":{\"gridcolor\":\"white\",\"linecolor\":\"white\",\"ticks\":\"\"}},\"scene\":{\"xaxis\":{\"backgroundcolor\":\"#E5ECF6\",\"gridcolor\":\"white\",\"gridwidth\":2,\"linecolor\":\"white\",\"showbackground\":true,\"ticks\":\"\",\"zerolinecolor\":\"white\"},\"yaxis\":{\"backgroundcolor\":\"#E5ECF6\",\"gridcolor\":\"white\",\"gridwidth\":2,\"linecolor\":\"white\",\"showbackground\":true,\"ticks\":\"\",\"zerolinecolor\":\"white\"},\"zaxis\":{\"backgroundcolor\":\"#E5ECF6\",\"gridcolor\":\"white\",\"gridwidth\":2,\"linecolor\":\"white\",\"showbackground\":true,\"ticks\":\"\",\"zerolinecolor\":\"white\"}},\"shapedefaults\":{\"line\":{\"color\":\"#2a3f5f\"}},\"ternary\":{\"aaxis\":{\"gridcolor\":\"white\",\"linecolor\":\"white\",\"ticks\":\"\"},\"baxis\":{\"gridcolor\":\"white\",\"linecolor\":\"white\",\"ticks\":\"\"},\"bgcolor\":\"#E5ECF6\",\"caxis\":{\"gridcolor\":\"white\",\"linecolor\":\"white\",\"ticks\":\"\"}},\"title\":{\"x\":0.05},\"xaxis\":{\"automargin\":true,\"gridcolor\":\"white\",\"linecolor\":\"white\",\"ticks\":\"\",\"title\":{\"standoff\":15},\"zerolinecolor\":\"white\",\"zerolinewidth\":2},\"yaxis\":{\"automargin\":true,\"gridcolor\":\"white\",\"linecolor\":\"white\",\"ticks\":\"\",\"title\":{\"standoff\":15},\"zerolinecolor\":\"white\",\"zerolinewidth\":2}}},\"xaxis\":{\"anchor\":\"y\",\"domain\":[0.0,1.0],\"title\":{\"text\":\"Data da Compra\"}},\"yaxis\":{\"anchor\":\"x\",\"domain\":[0.0,1.0],\"title\":{\"text\":\"Pre\\u00e7o do BTC\"}},\"legend\":{\"tracegroupgap\":0},\"title\":{\"text\":\"Evolu\\u00e7\\u00e3o do Pre\\u00e7o do Bitcoin\"}},                        {\"responsive\": true}                    )                };                            </script>        </div>\n</body>\n</html>",
       "datasetInfos": [],
       "metadata": {},
       "removedWidgets": [],
       "textData": null,
       "type": "htmlSandbox"
      }
     },
     "output_type": "display_data"
    }
   ],
   "source": [
    "#Gráfico 3\n",
    "#Evolução do Preço do Bitcoin\n",
    "fig3 = px.line(df, x=\"data_compra\", y=\"preco_btc\",\n",
    "               title=\"Evolução do Preço do Bitcoin\",\n",
    "               labels={\"data_compra\": \"Data da Compra\", \"preco_btc\":\"Preço do BTC\"},\n",
    "               markers=True)\n",
    "fig3.show()"
   ]
  },
  {
   "cell_type": "code",
   "execution_count": 0,
   "metadata": {
    "application/vnd.databricks.v1+cell": {
     "cellMetadata": {
      "byteLimit": 2048000,
      "rowLimit": 10000
     },
     "inputWidgets": {},
     "nuid": "afa4a936-78ec-4677-9a51-fff7d9888de8",
     "showTitle": false,
     "tableResultSettingsMap": {},
     "title": ""
    }
   },
   "outputs": [],
   "source": []
  }
 ],
 "metadata": {
  "application/vnd.databricks.v1+notebook": {
   "computePreferences": null,
   "dashboards": [],
   "environmentMetadata": {
    "base_environment": "",
    "environment_version": "1"
   },
   "inputWidgetPreferences": null,
   "language": "python",
   "notebookMetadata": {
    "mostRecentlyExecutedCommandWithImplicitDF": {
     "commandId": 3193041398487324,
     "dataframes": [
      "_sqldf"
     ]
    },
    "pythonIndentUnit": 4
   },
   "notebookName": "Projeto Carteiras Bitcoin",
   "widgets": {}
  }
 },
 "nbformat": 4,
 "nbformat_minor": 0
}
